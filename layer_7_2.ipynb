{
  "metadata": {
    "kernelspec": {
      "language": "python",
      "display_name": "Python 3",
      "name": "python3"
    },
    "language_info": {
      "name": "python",
      "version": "3.10.12",
      "mimetype": "text/x-python",
      "codemirror_mode": {
        "name": "ipython",
        "version": 3
      },
      "pygments_lexer": "ipython3",
      "nbconvert_exporter": "python",
      "file_extension": ".py"
    },
    "colab": {
      "provenance": [],
      "include_colab_link": true
    }
  },
  "nbformat_minor": 0,
  "nbformat": 4,
  "cells": [
    {
      "cell_type": "markdown",
      "metadata": {
        "id": "view-in-github",
        "colab_type": "text"
      },
      "source": [
        "<a href=\"https://colab.research.google.com/github/KumuthuA/ml-project/blob/main/layer_7_2.ipynb\" target=\"_parent\"><img src=\"https://colab.research.google.com/assets/colab-badge.svg\" alt=\"Open In Colab\"/></a>"
      ]
    },
    {
      "cell_type": "code",
      "source": [
        "import pandas as pd\n",
        "import numpy as np\n",
        "from sklearn.preprocessing import StandardScaler, LabelEncoder\n",
        "from sklearn.neighbors import KNeighborsClassifier\n",
        "from sklearn.metrics import accuracy_score, confusion_matrix, f1_score, precision_score, recall_score, classification_report\n",
        "from sklearn.decomposition import PCA\n",
        "from sklearn.feature_selection import SelectKBest, f_classif\n",
        "from imblearn.over_sampling import RandomOverSampler\n",
        "from sklearn.ensemble import RandomForestClassifier\n",
        "from sklearn.model_selection import GridSearchCV\n",
        "from sklearn.model_selection import cross_val_score, KFold\n",
        "import seaborn as sns\n",
        "import matplotlib.pyplot as plt\n",
        "from sklearn.svm import SVC\n",
        "from google.colab import drive"
      ],
      "metadata": {
        "_uuid": "8f2839f25d086af736a60e9eeb907d3b93b6e0e5",
        "_cell_guid": "b1076dfc-b9ad-4769-8c92-a6c4dae69d19",
        "execution": {
          "iopub.status.busy": "2023-09-23T18:18:13.918238Z",
          "iopub.execute_input": "2023-09-23T18:18:13.918757Z",
          "iopub.status.idle": "2023-09-23T18:18:17.482117Z",
          "shell.execute_reply.started": "2023-09-23T18:18:13.918721Z",
          "shell.execute_reply": "2023-09-23T18:18:17.480683Z"
        },
        "trusted": true,
        "id": "lqZnndkalV3y"
      },
      "execution_count": null,
      "outputs": []
    },
    {
      "cell_type": "code",
      "source": [
        "MOUNT_PATH='/content/drive'\n",
        "drive.mount(MOUNT_PATH)\n",
        "WORKING_DIR=f\"{MOUNT_PATH}/MyDrive/ML/ML project/Layer 7\"\n",
        "train = pd.read_csv(f\"{WORKING_DIR}/layer_7_train.csv\")\n",
        "valid = pd.read_csv(f\"{WORKING_DIR}/layer_7_valid.csv\")\n",
        "test = pd.read_csv(f\"{WORKING_DIR}/layer_7_test.csv\")"
      ],
      "metadata": {
        "colab": {
          "base_uri": "https://localhost:8080/"
        },
        "id": "saomv6hclWyl",
        "outputId": "e103bbd1-3f55-4143-b041-4e3dd5f6d714"
      },
      "execution_count": null,
      "outputs": [
        {
          "output_type": "stream",
          "name": "stdout",
          "text": [
            "Mounted at /content/drive\n"
          ]
        }
      ]
    },
    {
      "cell_type": "code",
      "source": [
        "global labels\n",
        "global features\n",
        "labels = [f\"label_{i+1}\" for i in range(4)]\n",
        "features = [f'feature_{i+1}' for i in range(768)]\n",
        "label_1 = labels[0]\n",
        "label_2 = labels[1]\n",
        "label_3 = labels[2]\n",
        "label_4 = labels[3]"
      ],
      "metadata": {
        "execution": {
          "iopub.status.busy": "2023-09-23T18:18:17.483569Z",
          "iopub.execute_input": "2023-09-23T18:18:17.484228Z",
          "iopub.status.idle": "2023-09-23T18:18:17.492298Z",
          "shell.execute_reply.started": "2023-09-23T18:18:17.484190Z",
          "shell.execute_reply": "2023-09-23T18:18:17.490935Z"
        },
        "trusted": true,
        "id": "kylGTV4WlV30"
      },
      "execution_count": null,
      "outputs": []
    },
    {
      "cell_type": "markdown",
      "source": [
        "# Defining functions"
      ],
      "metadata": {
        "id": "bS_CPlC68iKD"
      }
    },
    {
      "cell_type": "code",
      "source": [
        "def data_preprocess(train_df, valid_df, test_df, label):\n",
        "    scaler = StandardScaler()\n",
        "\n",
        "    # Apply feature scaling to training data\n",
        "    X_train = pd.DataFrame(scaler.fit_transform(train_df.drop(labels, axis=1)), columns=features)\n",
        "    y_train = train_df[label]\n",
        "\n",
        "    # Apply feature scaling to validation data\n",
        "    X_valid = pd.DataFrame(scaler.transform(valid_df.drop(labels, axis=1)), columns=features)\n",
        "    y_valid = valid_df[label]\n",
        "\n",
        "    # Apply feature scaling to test data\n",
        "    X_test = pd.DataFrame(scaler.transform(test_df.drop(labels, axis=1)), columns=features)\n",
        "    y_test = test_df[label]\n",
        "    return X_train, y_train, X_valid, y_valid, X_test, y_test"
      ],
      "metadata": {
        "execution": {
          "iopub.status.busy": "2023-09-23T18:18:29.873270Z",
          "iopub.execute_input": "2023-09-23T18:18:29.873669Z",
          "iopub.status.idle": "2023-09-23T18:18:29.884528Z",
          "shell.execute_reply.started": "2023-09-23T18:18:29.873633Z",
          "shell.execute_reply": "2023-09-23T18:18:29.882939Z"
        },
        "trusted": true,
        "id": "BJ4HGbRwlV31"
      },
      "execution_count": null,
      "outputs": []
    },
    {
      "cell_type": "code",
      "source": [
        "def feature_engineering_with_pca(X_train, X_valid, X_test, n_components):\n",
        "\n",
        "    # Apply PCA for dimensionality reduction\n",
        "    pca = PCA(n_components)\n",
        "\n",
        "    # Create a new DataFrame with the PCA-transformed features\n",
        "    X_train_pca = pca.fit_transform(X_train)\n",
        "    X_train_df_pca = pd.DataFrame(X_train_pca)\n",
        "    X_valid_df_pca = pd.DataFrame(pca.transform(X_valid))\n",
        "    X_test_df_pca = pd.DataFrame(pca.transform(X_test))\n",
        "    print(\"Shape for label2 train set:\", X_train_df_pca.shape)\n",
        "    print(\"Shape for label2 validation set:\", X_valid_df_pca.shape)\n",
        "    print(\"Shape for label2 validation set:\", X_test_df_pca.shape)\n",
        "\n",
        "    return X_train_df_pca, X_valid_df_pca, X_test_df_pca"
      ],
      "metadata": {
        "execution": {
          "iopub.status.busy": "2023-09-23T18:18:29.885990Z",
          "iopub.execute_input": "2023-09-23T18:18:29.886705Z",
          "iopub.status.idle": "2023-09-23T18:18:29.901325Z",
          "shell.execute_reply.started": "2023-09-23T18:18:29.886659Z",
          "shell.execute_reply": "2023-09-23T18:18:29.899713Z"
        },
        "trusted": true,
        "id": "w6vqoUdylV31"
      },
      "execution_count": null,
      "outputs": []
    },
    {
      "cell_type": "code",
      "source": [
        "def feature_engineering_with_select_kbest(X_train, y_train, X_valid, X_test, n):\n",
        "    selector = SelectKBest(f_classif, k=n)\n",
        "    X_train_df = selector.fit_transform(X_train, y_train)\n",
        "    X_valid_df = selector.transform(X_valid)\n",
        "    X_test_df = selector.transform(X_test)\n",
        "    print(\"Shape for label2 train set:\", X_train_df_pca.shape)\n",
        "    print(\"Shape for label2 validation set:\", X_valid_df_pca.shape)\n",
        "    print(\"Shape for label2 validation set:\", X_test_df_pca.shape)\n",
        "    return X_train_df, X_valid_df, X_test_df"
      ],
      "metadata": {
        "execution": {
          "iopub.status.busy": "2023-09-23T18:18:29.902724Z",
          "iopub.execute_input": "2023-09-23T18:18:29.903155Z",
          "iopub.status.idle": "2023-09-23T18:18:29.923820Z",
          "shell.execute_reply.started": "2023-09-23T18:18:29.903118Z",
          "shell.execute_reply": "2023-09-23T18:18:29.922540Z"
        },
        "trusted": true,
        "id": "9eo3i51glV32"
      },
      "execution_count": null,
      "outputs": []
    },
    {
      "cell_type": "code",
      "source": [
        "def build_knn_model(X_train, y_train, n_neighbors):\n",
        "    # Create and train your KNN classifier model\n",
        "    # You can perform hyperparameter tuning by changing the value of 'n_neighbors'\n",
        "    knn = KNeighborsClassifier(n_neighbors)\n",
        "    knn.fit(X_train, y_train)\n",
        "    return knn"
      ],
      "metadata": {
        "execution": {
          "iopub.status.busy": "2023-09-23T18:18:29.925835Z",
          "iopub.execute_input": "2023-09-23T18:18:29.926632Z",
          "iopub.status.idle": "2023-09-23T18:18:29.939041Z",
          "shell.execute_reply.started": "2023-09-23T18:18:29.926585Z",
          "shell.execute_reply": "2023-09-23T18:18:29.937821Z"
        },
        "trusted": true,
        "id": "PMAbLiL9lV32"
      },
      "execution_count": null,
      "outputs": []
    },
    {
      "cell_type": "code",
      "source": [
        "def build_svc_model(X_train, y_train):\n",
        "    svc_model = SVC(kernel='linear', gamma='scale')\n",
        "    svc_model.fit(X_train, y_train)\n",
        "    return svc_model"
      ],
      "metadata": {
        "execution": {
          "iopub.status.busy": "2023-09-23T18:18:29.940935Z",
          "iopub.execute_input": "2023-09-23T18:18:29.941678Z",
          "iopub.status.idle": "2023-09-23T18:18:29.952056Z",
          "shell.execute_reply.started": "2023-09-23T18:18:29.941637Z",
          "shell.execute_reply": "2023-09-23T18:18:29.950780Z"
        },
        "trusted": true,
        "id": "bYwI8FWZlV32"
      },
      "execution_count": null,
      "outputs": []
    },
    {
      "cell_type": "code",
      "source": [
        "def evaluate(y_valid, y_pred):\n",
        "    print(f\"Accuracy: {accuracy_score(y_valid, y_pred)}\")\n",
        "    print(f\"F1 Score: {f1_score(y_valid, y_pred, average='weighted')}\")\n",
        "    print(f\"Precision: {precision_score(y_valid, y_pred, average='weighted')}\")\n",
        "    print(f\"Recall: {recall_score(y_valid, y_pred, average='weighted')}\")"
      ],
      "metadata": {
        "execution": {
          "iopub.status.busy": "2023-09-23T18:18:29.956675Z",
          "iopub.execute_input": "2023-09-23T18:18:29.957544Z",
          "iopub.status.idle": "2023-09-23T18:18:29.965874Z",
          "shell.execute_reply.started": "2023-09-23T18:18:29.957493Z",
          "shell.execute_reply": "2023-09-23T18:18:29.964762Z"
        },
        "trusted": true,
        "id": "qlSgza4olV32"
      },
      "execution_count": null,
      "outputs": []
    },
    {
      "cell_type": "markdown",
      "source": [
        "# Data preprocessing - Label 02"
      ],
      "metadata": {
        "id": "aOadw5rrlV33"
      }
    },
    {
      "cell_type": "code",
      "source": [
        "X_train_2, y_train_2, X_valid_2, y_valid_2, X_test_2, y_test_2= data_preprocess(train, valid, test, label_2)\n",
        "y_train_2.info()"
      ],
      "metadata": {
        "execution": {
          "iopub.status.busy": "2023-09-23T18:18:29.967978Z",
          "iopub.execute_input": "2023-09-23T18:18:29.968775Z",
          "iopub.status.idle": "2023-09-23T18:18:30.416491Z",
          "shell.execute_reply.started": "2023-09-23T18:18:29.968731Z",
          "shell.execute_reply": "2023-09-23T18:18:30.415635Z"
        },
        "trusted": true,
        "colab": {
          "base_uri": "https://localhost:8080/"
        },
        "id": "BIuHIOhKlV34",
        "outputId": "c7ae0595-9a03-4b79-cd02-976878bdff73"
      },
      "execution_count": null,
      "outputs": [
        {
          "output_type": "stream",
          "name": "stdout",
          "text": [
            "<class 'pandas.core.series.Series'>\n",
            "RangeIndex: 28520 entries, 0 to 28519\n",
            "Series name: label_2\n",
            "Non-Null Count  Dtype  \n",
            "--------------  -----  \n",
            "28040 non-null  float64\n",
            "dtypes: float64(1)\n",
            "memory usage: 222.9 KB\n"
          ]
        }
      ]
    },
    {
      "cell_type": "code",
      "source": [
        "train_df = train[train[label_2].notna()]\n",
        "train_df.info()\n",
        "valid_df = valid[valid[label_2].notna()]\n",
        "valid_df.info()\n",
        "test_df = test[test[label_2].notna()]\n",
        "test_df.info()"
      ],
      "metadata": {
        "execution": {
          "iopub.status.busy": "2023-09-23T18:18:30.417725Z",
          "iopub.execute_input": "2023-09-23T18:18:30.418262Z",
          "iopub.status.idle": "2023-09-23T18:18:30.569330Z",
          "shell.execute_reply.started": "2023-09-23T18:18:30.418231Z",
          "shell.execute_reply": "2023-09-23T18:18:30.568354Z"
        },
        "trusted": true,
        "colab": {
          "base_uri": "https://localhost:8080/"
        },
        "id": "cPJ8QRWylV35",
        "outputId": "10737183-f71b-4f1d-9577-03a8f29932c2"
      },
      "execution_count": null,
      "outputs": [
        {
          "output_type": "stream",
          "name": "stdout",
          "text": [
            "<class 'pandas.core.frame.DataFrame'>\n",
            "Int64Index: 28040 entries, 480 to 28519\n",
            "Columns: 772 entries, feature_1 to label_4\n",
            "dtypes: float64(769), int64(3)\n",
            "memory usage: 165.4 MB\n",
            "<class 'pandas.core.frame.DataFrame'>\n",
            "Int64Index: 736 entries, 14 to 749\n",
            "Columns: 772 entries, feature_1 to label_4\n",
            "dtypes: float64(769), int64(3)\n",
            "memory usage: 4.3 MB\n",
            "<class 'pandas.core.frame.DataFrame'>\n",
            "Int64Index: 744 entries, 6 to 749\n",
            "Columns: 772 entries, feature_1 to label_4\n",
            "dtypes: float64(769), int64(3)\n",
            "memory usage: 4.4 MB\n"
          ]
        }
      ]
    },
    {
      "cell_type": "code",
      "source": [
        "X_train_2, y_train_2, X_valid_2, y_valid_2, X_test_2, y_test_2 = data_preprocess(train_df, valid_df, test_df, label_2)\n",
        "y_train_2.info()"
      ],
      "metadata": {
        "execution": {
          "iopub.status.busy": "2023-09-23T18:18:30.570722Z",
          "iopub.execute_input": "2023-09-23T18:18:30.571358Z",
          "iopub.status.idle": "2023-09-23T18:18:31.021290Z",
          "shell.execute_reply.started": "2023-09-23T18:18:30.571211Z",
          "shell.execute_reply": "2023-09-23T18:18:31.020093Z"
        },
        "trusted": true,
        "colab": {
          "base_uri": "https://localhost:8080/"
        },
        "id": "XAyEwfrLlV35",
        "outputId": "0cff375b-c6ab-4019-9a53-318113cc053d"
      },
      "execution_count": null,
      "outputs": [
        {
          "output_type": "stream",
          "name": "stdout",
          "text": [
            "<class 'pandas.core.series.Series'>\n",
            "Int64Index: 28040 entries, 480 to 28519\n",
            "Series name: label_2\n",
            "Non-Null Count  Dtype  \n",
            "--------------  -----  \n",
            "28040 non-null  float64\n",
            "dtypes: float64(1)\n",
            "memory usage: 438.1 KB\n"
          ]
        }
      ]
    },
    {
      "cell_type": "code",
      "source": [
        "plt.hist(y_train_2, bins=20, edgecolor='k')\n",
        "plt.xlabel(label_2)\n",
        "plt.ylabel('Frequency')\n",
        "plt.title(f'Distribution of {label_2}')\n",
        "plt.show()"
      ],
      "metadata": {
        "execution": {
          "iopub.status.busy": "2023-09-23T18:18:34.825728Z",
          "iopub.execute_input": "2023-09-23T18:18:34.826180Z",
          "iopub.status.idle": "2023-09-23T18:18:35.155112Z",
          "shell.execute_reply.started": "2023-09-23T18:18:34.826137Z",
          "shell.execute_reply": "2023-09-23T18:18:35.153998Z"
        },
        "trusted": true,
        "colab": {
          "base_uri": "https://localhost:8080/",
          "height": 472
        },
        "id": "99hqNVtClV36",
        "outputId": "8205a5da-a0b8-413e-c864-ad95b608bf6d"
      },
      "execution_count": null,
      "outputs": [
        {
          "output_type": "display_data",
          "data": {
            "text/plain": [
              "<Figure size 640x480 with 1 Axes>"
            ],
            "image/png": "[encoded data removed]"
          },
          "metadata": {}
        }
      ]
    },
    {
      "cell_type": "markdown",
      "source": [
        "# Cross validation - Lable 02"
      ],
      "metadata": {
        "id": "iHjIaAjylV36"
      }
    },
    {
      "cell_type": "code",
      "source": [
        "svc_model = SVC()\n",
        "knn_model = KNeighborsClassifier(n_neighbors=5)\n",
        "rf_model = RandomForestClassifier(n_estimators=100, random_state=42)\n",
        "\n",
        "num_folds = 5\n",
        "\n",
        "kfold = KFold(n_splits=num_folds, shuffle=True, random_state=42)\n",
        "\n",
        "svc_scores = cross_val_score(svc_model, X_train_2, y_train_2, cv=kfold)\n",
        "print(\"SVC Cross-Validation Scores:\")\n",
        "for i, score in enumerate(svc_scores):\n",
        "    print(f\"Fold {i+1} - Accuracy: {score:.2f}\")\n",
        "svc_mean_accuracy = svc_scores.mean()\n",
        "print(f\"Mean Accuracy (SVC): {svc_mean_accuracy:.2f}\")\n",
        "\n",
        "knn_scores = cross_val_score(knn_model, X_train_2, y_train_2, cv=kfold)\n",
        "print(\"\\nKNN Cross-Validation Scores:\")\n",
        "for i, score in enumerate(knn_scores):\n",
        "    print(f\"Fold {i+1} - Accuracy: {score:.2f}\")\n",
        "knn_mean_accuracy = knn_scores.mean()\n",
        "print(f\"Mean Accuracy (KNN): {knn_mean_accuracy:.2f}\")\n",
        "\n",
        "rf_scores = cross_val_score(rf_model, X_train_2, y_train_2, cv=kfold)\n",
        "print(\"Random Forest Cross-Validation Scores:\")\n",
        "for i, score in enumerate(rf_scores):\n",
        "    print(f\"Fold {i+1} - Accuracy: {score:.2f}\")\n",
        "rf_mean_accuracy = rf_scores.mean()\n",
        "print(f\"Mean Accuracy (Random Forest): {rf_mean_accuracy:.2f}\")"
      ],
      "metadata": {
        "id": "jCrVe_uv34LX"
      },
      "execution_count": null,
      "outputs": []
    },
    {
      "cell_type": "code",
      "source": [
        "# Build a KNN model\n",
        "model_2_before = build_knn_model(X_train_2, y_train_2, 5)\n",
        "\n",
        "# Evaluate the model on the validation set\n",
        "y_pred_2_before = model_2_before.predict(X_valid_2)\n",
        "\n",
        "# Calculate evaluation metrics\n",
        "evaluate(y_valid_2, y_pred_2_before)"
      ],
      "metadata": {
        "execution": {
          "iopub.status.busy": "2023-09-23T18:18:38.545572Z",
          "iopub.execute_input": "2023-09-23T18:18:38.545983Z",
          "iopub.status.idle": "2023-09-23T18:18:39.358472Z",
          "shell.execute_reply.started": "2023-09-23T18:18:38.545951Z",
          "shell.execute_reply": "2023-09-23T18:18:39.357244Z"
        },
        "trusted": true,
        "colab": {
          "base_uri": "https://localhost:8080/"
        },
        "id": "HscfROjwlV36",
        "outputId": "d7232fb6-b50b-408a-cd1b-e9872527f507"
      },
      "execution_count": null,
      "outputs": [
        {
          "output_type": "stream",
          "name": "stdout",
          "text": [
            "Accuracy: 0.8614130434782609\n",
            "F1 Score: 0.8621580609086349\n",
            "Precision: 0.8702674861797511\n",
            "Recall: 0.8614130434782609\n"
          ]
        }
      ]
    },
    {
      "cell_type": "markdown",
      "source": [
        "# Feature reduction using PCA - Label 02"
      ],
      "metadata": {
        "id": "ug48nZTflV36"
      }
    },
    {
      "cell_type": "code",
      "source": [
        "X_train_2_pca, X_valid_2_pca, X_test_2_pca = feature_engineering_with_pca(X_train_2, X_valid_2, X_test_2, n_components=0.95)"
      ],
      "metadata": {
        "execution": {
          "iopub.status.busy": "2023-09-23T18:18:42.115185Z",
          "iopub.execute_input": "2023-09-23T18:18:42.115807Z",
          "iopub.status.idle": "2023-09-23T18:18:48.417156Z",
          "shell.execute_reply.started": "2023-09-23T18:18:42.115751Z",
          "shell.execute_reply": "2023-09-23T18:18:48.415932Z"
        },
        "trusted": true,
        "colab": {
          "base_uri": "https://localhost:8080/"
        },
        "id": "hrSYK-QLlV36",
        "outputId": "df6734d7-3242-4190-b2a9-8987d8dbf9fe"
      },
      "execution_count": null,
      "outputs": [
        {
          "output_type": "stream",
          "name": "stdout",
          "text": [
            "Shape for label2 train set: (28040, 320)\n",
            "Shape for label2 validation set: (736, 320)\n",
            "Shape for label2 validation set: (744, 320)\n"
          ]
        }
      ]
    },
    {
      "cell_type": "code",
      "source": [
        "# Build a KNN model for Speaker Recognition\n",
        "model_2_pca_knn = build_knn_model(X_train_2_pca, y_train_2, 5)\n",
        "\n",
        "# Evaluate the model on the validation set\n",
        "y_pred_2_knn = model_2_pca_knn.predict(X_valid_2_pca)\n",
        "\n",
        "# Calculate evaluation metrics\n",
        "evaluate(y_valid_2, y_pred_2_knn)"
      ],
      "metadata": {
        "execution": {
          "iopub.status.busy": "2023-09-23T18:19:10.742909Z",
          "iopub.execute_input": "2023-09-23T18:19:10.743329Z",
          "iopub.status.idle": "2023-09-23T18:19:11.116364Z",
          "shell.execute_reply.started": "2023-09-23T18:19:10.743295Z",
          "shell.execute_reply": "2023-09-23T18:19:11.115078Z"
        },
        "trusted": true,
        "colab": {
          "base_uri": "https://localhost:8080/"
        },
        "id": "mH3uYwjRlV37",
        "outputId": "3238d568-cb4c-4694-859c-ad4d9144598d"
      },
      "execution_count": null,
      "outputs": [
        {
          "output_type": "stream",
          "name": "stdout",
          "text": [
            "Accuracy: 0.8668478260869565\n",
            "F1 Score: 0.8676154022389575\n",
            "Precision: 0.8744904187777769\n",
            "Recall: 0.8668478260869565\n"
          ]
        }
      ]
    },
    {
      "cell_type": "code",
      "source": [
        "# Build a SVC model\n",
        "# model_2_pca_svc = build_svc_model(X_train_2_pca, y_train_2)\n",
        "model_2_pca_svc = SVC()\n",
        "model_2_pca_svc.fit(X_train_2_pca, y_train_2)\n",
        "\n",
        "# Evaluate the model on the validation set\n",
        "y_pred_2_svc = model_2_pca_svc.predict(X_valid_2_pca)\n",
        "\n",
        "# Calculate evaluation metrics\n",
        "evaluate(y_valid_2, y_pred_2_svc)"
      ],
      "metadata": {
        "execution": {
          "iopub.status.busy": "2023-09-23T18:58:27.141638Z",
          "iopub.execute_input": "2023-09-23T18:58:27.142061Z",
          "iopub.status.idle": "2023-09-23T19:00:21.260880Z",
          "shell.execute_reply.started": "2023-09-23T18:58:27.142029Z",
          "shell.execute_reply": "2023-09-23T19:00:21.259737Z"
        },
        "trusted": true,
        "colab": {
          "base_uri": "https://localhost:8080/"
        },
        "id": "UGa64sEXlV37",
        "outputId": "c75adebf-f97e-4c09-be06-85dfa2b38f93"
      },
      "execution_count": null,
      "outputs": [
        {
          "output_type": "stream",
          "name": "stdout",
          "text": [
            "Accuracy: 0.9171195652173914\n",
            "F1 Score: 0.9172500903485993\n",
            "Precision: 0.9247710840355027\n",
            "Recall: 0.9171195652173914\n"
          ]
        }
      ]
    },
    {
      "cell_type": "markdown",
      "source": [
        "# Hyperparameter tuning for label 2"
      ],
      "metadata": {
        "id": "OS1j__0FlV37"
      }
    },
    {
      "cell_type": "code",
      "source": [
        "param_grid_2 = {\n",
        "    'n_neighbors': [3, 5, 7, 9],\n",
        "    'weights': ['uniform', 'distance']\n",
        "}\n",
        "\n",
        "model_2_knn = KNeighborsClassifier()\n",
        "\n",
        "grid_search_2 = GridSearchCV(estimator=model_2_knn, param_grid=param_grid_2, cv=5, verbose=3, n_jobs=-1, scoring='accuracy')\n",
        "\n",
        "grid_search_2.fit(X_train_2_pca, y_train_2)\n",
        "\n",
        "best_params_2 = grid_search_2.best_params_\n",
        "best_model_2 = grid_search_2.best_estimator_\n",
        "\n",
        "valid_accuracy_2 = best_model_2.score(X_valid_2_pca, y_valid_2)\n",
        "\n",
        "# Print the best hyperparameters and test accuracy\n",
        "print(\"Best Hyperparameters:\", best_params_2)\n",
        "print(\"Test Accuracy:\", valid_accuracy_2)\n",
        "#3, distance , 0.892"
      ],
      "metadata": {
        "execution": {
          "iopub.status.busy": "2023-09-23T18:19:46.153757Z",
          "iopub.execute_input": "2023-09-23T18:19:46.154167Z",
          "iopub.status.idle": "2023-09-23T18:20:53.022937Z",
          "shell.execute_reply.started": "2023-09-23T18:19:46.154130Z",
          "shell.execute_reply": "2023-09-23T18:20:53.021784Z"
        },
        "trusted": true,
        "id": "C9a38_DglV37",
        "outputId": "d711080d-e501-480f-c454-d8875275a615"
      },
      "execution_count": null,
      "outputs": [
        {
          "name": "stdout",
          "text": "Fitting 5 folds for each of 8 candidates, totalling 40 fits\nBest Hyperparameters: {'n_neighbors': 3, 'weights': 'distance'}\nTest Accuracy: 0.8926630434782609\n",
          "output_type": "stream"
        }
      ]
    },
    {
      "cell_type": "code",
      "source": [
        "param_grid_2_svc = {\n",
        "    'C': [0.1, 1, 10, 100],\n",
        "    'kernel': ['rbf']\n",
        "}\n",
        "\n",
        "model_2_svc = SVC()\n",
        "\n",
        "grid_search_2_svc = GridSearchCV(estimator=model_2_svc, param_grid=param_grid_2_svc, cv=5, verbose=3, n_jobs=-1, scoring='accuracy')\n",
        "\n",
        "grid_search_2_svc.fit(X_train_2_pca, y_train_2)\n",
        "\n",
        "best_params_2_svc = grid_search_2_svc.best_params_\n",
        "best_model_2_svc = grid_search_2_svc.best_estimator_\n",
        "\n",
        "valid_accuracy_2_svc = best_model_2_svc.score(X_valid_2_pca, y_valid_2)\n",
        "\n",
        "# Print the best hyperparameters and test accuracy\n",
        "print(\"Best Hyperparameters:\", best_params_2_svc)\n",
        "print(\"Test Accuracy:\", valid_accuracy_2_svc)\n",
        "#Best Hyperparameters: {'C': 10, 'kernel': 'rbf'}\n",
        "#Test Accuracy: 0.9578804347826086"
      ],
      "metadata": {
        "execution": {
          "iopub.status.busy": "2023-09-23T19:07:15.910396Z",
          "iopub.execute_input": "2023-09-23T19:07:15.911208Z"
        },
        "trusted": true,
        "colab": {
          "base_uri": "https://localhost:8080/"
        },
        "id": "D2O-XIXMlV38",
        "outputId": "5b6d7009-c1e3-4c42-8a97-7dbcf95eee5a"
      },
      "execution_count": null,
      "outputs": [
        {
          "output_type": "stream",
          "name": "stdout",
          "text": [
            "Fitting 5 folds for each of 4 candidates, totalling 20 fits\n",
            "Best Hyperparameters: {'C': 10, 'kernel': 'rbf'}\n",
            "Test Accuracy: 0.9578804347826086\n"
          ]
        }
      ]
    },
    {
      "cell_type": "markdown",
      "source": [
        "# Predicting label 02"
      ],
      "metadata": {
        "id": "wRPEh6I5lV38"
      }
    },
    {
      "cell_type": "code",
      "source": [
        "final_best_svc_model = SVC(C=10, kernel='rbf')\n",
        "final_best_svc_model.fit(X_train_2_pca, y_train_2)\n",
        "# print(\"Valid Accuracy:\", final_best_svc_model.score(X_valid_2_pca, y_valid_2))"
      ],
      "metadata": {
        "execution": {
          "iopub.status.busy": "2023-09-23T19:04:15.433346Z",
          "iopub.execute_input": "2023-09-23T19:04:15.433761Z",
          "iopub.status.idle": "2023-09-23T19:04:15.714548Z",
          "shell.execute_reply.started": "2023-09-23T19:04:15.433730Z",
          "shell.execute_reply": "2023-09-23T19:04:15.713541Z"
        },
        "trusted": true,
        "colab": {
          "base_uri": "https://localhost:8080/",
          "height": 74
        },
        "id": "QtLXNmdslV38",
        "outputId": "bac87b89-ebb5-45ef-e494-bb419a31b1ab"
      },
      "execution_count": null,
      "outputs": [
        {
          "output_type": "execute_result",
          "data": {
            "text/plain": [
              "SVC(C=10)"
            ],
            "text/html": [
              "<style>#sk-container-id-1 {color: black;background-color: white;}#sk-container-id-1 pre{padding: 0;}#sk-container-id-1 div.sk-toggleable {background-color: white;}#sk-container-id-1 label.sk-toggleable__label {cursor: pointer;display: block;width: 100%;margin-bottom: 0;padding: 0.3em;box-sizing: border-box;text-align: center;}#sk-container-id-1 label.sk-toggleable__label-arrow:before {content: \"▸\";float: left;margin-right: 0.25em;color: #696969;}#sk-container-id-1 label.sk-toggleable__label-arrow:hover:before {color: black;}#sk-container-id-1 div.sk-estimator:hover label.sk-toggleable__label-arrow:before {color: black;}#sk-container-id-1 div.sk-toggleable__content {max-height: 0;max-width: 0;overflow: hidden;text-align: left;background-color: #f0f8ff;}#sk-container-id-1 div.sk-toggleable__content pre {margin: 0.2em;color: black;border-radius: 0.25em;background-color: #f0f8ff;}#sk-container-id-1 input.sk-toggleable__control:checked~div.sk-toggleable__content {max-height: 200px;max-width: 100%;overflow: auto;}#sk-container-id-1 input.sk-toggleable__control:checked~label.sk-toggleable__label-arrow:before {content: \"▾\";}#sk-container-id-1 div.sk-estimator input.sk-toggleable__control:checked~label.sk-toggleable__label {background-color: #d4ebff;}#sk-container-id-1 div.sk-label input.sk-toggleable__control:checked~label.sk-toggleable__label {background-color: #d4ebff;}#sk-container-id-1 input.sk-hidden--visually {border: 0;clip: rect(1px 1px 1px 1px);clip: rect(1px, 1px, 1px, 1px);height: 1px;margin: -1px;overflow: hidden;padding: 0;position: absolute;width: 1px;}#sk-container-id-1 div.sk-estimator {font-family: monospace;background-color: #f0f8ff;border: 1px dotted black;border-radius: 0.25em;box-sizing: border-box;margin-bottom: 0.5em;}#sk-container-id-1 div.sk-estimator:hover {background-color: #d4ebff;}#sk-container-id-1 div.sk-parallel-item::after {content: \"\";width: 100%;border-bottom: 1px solid gray;flex-grow: 1;}#sk-container-id-1 div.sk-label:hover label.sk-toggleable__label {background-color: #d4ebff;}#sk-container-id-1 div.sk-serial::before {content: \"\";position: absolute;border-left: 1px solid gray;box-sizing: border-box;top: 0;bottom: 0;left: 50%;z-index: 0;}#sk-container-id-1 div.sk-serial {display: flex;flex-direction: column;align-items: center;background-color: white;padding-right: 0.2em;padding-left: 0.2em;position: relative;}#sk-container-id-1 div.sk-item {position: relative;z-index: 1;}#sk-container-id-1 div.sk-parallel {display: flex;align-items: stretch;justify-content: center;background-color: white;position: relative;}#sk-container-id-1 div.sk-item::before, #sk-container-id-1 div.sk-parallel-item::before {content: \"\";position: absolute;border-left: 1px solid gray;box-sizing: border-box;top: 0;bottom: 0;left: 50%;z-index: -1;}#sk-container-id-1 div.sk-parallel-item {display: flex;flex-direction: column;z-index: 1;position: relative;background-color: white;}#sk-container-id-1 div.sk-parallel-item:first-child::after {align-self: flex-end;width: 50%;}#sk-container-id-1 div.sk-parallel-item:last-child::after {align-self: flex-start;width: 50%;}#sk-container-id-1 div.sk-parallel-item:only-child::after {width: 0;}#sk-container-id-1 div.sk-dashed-wrapped {border: 1px dashed gray;margin: 0 0.4em 0.5em 0.4em;box-sizing: border-box;padding-bottom: 0.4em;background-color: white;}#sk-container-id-1 div.sk-label label {font-family: monospace;font-weight: bold;display: inline-block;line-height: 1.2em;}#sk-container-id-1 div.sk-label-container {text-align: center;}#sk-container-id-1 div.sk-container {/* jupyter's `normalize.less` sets `[hidden] { display: none; }` but bootstrap.min.css set `[hidden] { display: none !important; }` so we also need the `!important` here to be able to override the default hidden behavior on the sphinx rendered scikit-learn.org. See: https://github.com/scikit-learn/scikit-learn/issues/21755 */display: inline-block !important;position: relative;}#sk-container-id-1 div.sk-text-repr-fallback {display: none;}</style><div id=\"sk-container-id-1\" class=\"sk-top-container\"><div class=\"sk-text-repr-fallback\"><pre>SVC(C=10)</pre><b>In a Jupyter environment, please rerun this cell to show the HTML representation or trust the notebook. <br />On GitHub, the HTML representation is unable to render, please try loading this page with nbviewer.org.</b></div><div class=\"sk-container\" hidden><div class=\"sk-item\"><div class=\"sk-estimator sk-toggleable\"><input class=\"sk-toggleable__control sk-hidden--visually\" id=\"sk-estimator-id-1\" type=\"checkbox\" checked><label for=\"sk-estimator-id-1\" class=\"sk-toggleable__label sk-toggleable__label-arrow\">SVC</label><div class=\"sk-toggleable__content\"><pre>SVC(C=10)</pre></div></div></div></div></div>"
            ]
          },
          "metadata": {},
          "execution_count": 17
        }
      ]
    },
    {
      "cell_type": "code",
      "source": [
        "y_pred_2_final = final_best_svc_model.predict(X_valid_2_pca)\n",
        "evaluate(y_valid_2, y_pred_2_final)\n",
        "# output_df_2 = pd.DataFrame({'ID': range(1, len(y_pred_2_final) + 1), 'label_2': y_pred_2_final})\n",
        "\n",
        "# output_df_2.to_csv(f\"{WORKING_DIR}/label_7_2_out_svc_final_best.csv\", index=False)\n",
        "# print(f'Predictions saved to label_7_2_out_svc_final_best')\n",
        "#Best Hyperparameters: {'C': 10, 'kernel': 'rbf'}\n",
        "#Test Accuracy: 0.9578804347826086"
      ],
      "metadata": {
        "colab": {
          "base_uri": "https://localhost:8080/"
        },
        "id": "9qIwtCEl3oQQ",
        "outputId": "b4601ce5-7f16-42c0-e406-9fb8ebbe2b1e"
      },
      "execution_count": null,
      "outputs": [
        {
          "output_type": "stream",
          "name": "stdout",
          "text": [
            "Accuracy: 0.9578804347826086\n",
            "F1 Score: 0.9576499566550514\n",
            "Precision: 0.9584332859577875\n",
            "Recall: 0.9578804347826086\n"
          ]
        }
      ]
    },
    {
      "cell_type": "code",
      "source": [
        "output_df_2_valid = pd.DataFrame({'ID': range(1, len(y_pred_2_final) + 1), 'label_2': y_pred_2_final})\n",
        "\n",
        "output_file_path_2 = f\"{WORKING_DIR}/label_7_2_valid.csv\"\n",
        "output_df_2_valid.to_csv(output_file_path_2, index=False)"
      ],
      "metadata": {
        "id": "rZF_Vqv-9sQ3"
      },
      "execution_count": null,
      "outputs": []
    },
    {
      "cell_type": "code",
      "source": [
        "y_pred_2_train = final_best_svc_model.predict(X_train_2_pca)\n",
        "output_df_2 = pd.DataFrame({'ID': range(1, len(y_pred_2_train) + 1), 'label_2': y_pred_2_train})\n",
        "\n",
        "output_df_2.to_csv(f\"{WORKING_DIR}/label_7_2_train.csv\", index=False)\n",
        "print(f'Predictions saved to label_7_2_train.csv')\n",
        "#Best Hyperparameters: {'C': 10, 'kernel': 'rbf'}\n",
        "#Test Accuracy: 0.9578804347826086"
      ],
      "metadata": {
        "colab": {
          "base_uri": "https://localhost:8080/"
        },
        "id": "KxEHhvCC4SWN",
        "outputId": "960bf966-ee24-4a0a-9d66-17d3d72cfe16"
      },
      "execution_count": null,
      "outputs": [
        {
          "output_type": "stream",
          "name": "stdout",
          "text": [
            "Predictions saved to label_7_2_train.csv\n"
          ]
        }
      ]
    },
    {
      "cell_type": "code",
      "source": [
        "# # Build a KNN model for Speaker Recognition\n",
        "# model_2_knn_check = KNeighborsClassifier(n_neighbors= 3, weights= 'distance')\n",
        "# model_2_knn_check.fit(X_train_2_pca, y_train_2)\n",
        "\n",
        "# # Evaluate the model on the validation set\n",
        "# y_pred_2_knn_check = model_2_knn_check.predict(X_valid_2_pca)\n",
        "\n",
        "# # Calculate evaluation metrics\n",
        "# evaluate(y_valid_2, y_pred_2_knn_check)\n",
        "# y_pred_2_check = model_2_knn_check.predict(X_test_2_pca)\n",
        "# output_df_2 = pd.DataFrame({'ID': range(1, len(y_pred_2_check) + 1), 'label_2': y_pred_2_check})\n",
        "\n",
        "# # output_file_path_2 = '/kaggle/working/label_7_2_svc_out.csv'\n",
        "# output_df_2.to_csv(f\"{WORKING_DIR}/label_7_2_out_knn.csv\", index=False)\n",
        "# print(f'Predictions saved to {output_file_path_2}')"
      ],
      "metadata": {
        "colab": {
          "base_uri": "https://localhost:8080/"
        },
        "id": "xBzAk6s4nnry",
        "outputId": "b73b104a-fd32-4262-90ff-7fedcc0e3068"
      },
      "execution_count": null,
      "outputs": [
        {
          "output_type": "stream",
          "name": "stdout",
          "text": [
            "Accuracy: 0.8926630434782609\n",
            "F1 Score: 0.892957361206725\n",
            "Precision: 0.8962507166108237\n",
            "Recall: 0.8926630434782609\n",
            "Predictions saved to /content/drive/MyDrive/ML/ML project/Layer 7/label_7_2_out.csv\n"
          ]
        }
      ]
    }
  ]
}