{
  "metadata": {
    "kernelspec": {
      "language": "python",
      "display_name": "Python 3",
      "name": "python3"
    },
    "language_info": {
      "name": "python",
      "version": "3.10.12",
      "mimetype": "text/x-python",
      "codemirror_mode": {
        "name": "ipython",
        "version": 3
      },
      "pygments_lexer": "ipython3",
      "nbconvert_exporter": "python",
      "file_extension": ".py"
    },
    "colab": {
      "provenance": [],
      "include_colab_link": true
    }
  },
  "nbformat_minor": 0,
  "nbformat": 4,
  "cells": [
    {
      "cell_type": "markdown",
      "metadata": {
        "id": "view-in-github",
        "colab_type": "text"
      },
      "source": [
        "<a href=\"https://colab.research.google.com/github/KumuthuA/ml-project/blob/main/layer_7_4.ipynb\" target=\"_parent\"><img src=\"https://colab.research.google.com/assets/colab-badge.svg\" alt=\"Open In Colab\"/></a>"
      ]
    },
    {
      "cell_type": "code",
      "source": [
        "import pandas as pd\n",
        "import numpy as np\n",
        "from sklearn import svm\n",
        "from sklearn.model_selection import train_test_split\n",
        "from sklearn.preprocessing import StandardScaler, LabelEncoder\n",
        "from sklearn.neighbors import KNeighborsClassifier\n",
        "from sklearn.metrics import accuracy_score, confusion_matrix, f1_score, precision_score, recall_score, classification_report\n",
        "from sklearn.decomposition import PCA\n",
        "from sklearn.feature_selection import SelectKBest, f_classif\n",
        "from imblearn.over_sampling import RandomOverSampler\n",
        "from sklearn.model_selection import GridSearchCV\n",
        "from sklearn.model_selection import cross_val_score, KFold\n",
        "from sklearn.ensemble import RandomForestClassifier\n",
        "import seaborn as sns\n",
        "import matplotlib.pyplot as plt\n",
        "from sklearn.svm import SVC\n",
        "from google.colab import drive"
      ],
      "metadata": {
        "_uuid": "8f2839f25d086af736a60e9eeb907d3b93b6e0e5",
        "_cell_guid": "b1076dfc-b9ad-4769-8c92-a6c4dae69d19",
        "execution": {
          "iopub.status.busy": "2023-09-24T02:34:36.469478Z",
          "iopub.execute_input": "2023-09-24T02:34:36.469881Z",
          "iopub.status.idle": "2023-09-24T02:34:37.768149Z",
          "shell.execute_reply.started": "2023-09-24T02:34:36.469848Z",
          "shell.execute_reply": "2023-09-24T02:34:37.767038Z"
        },
        "trusted": true,
        "id": "mNg245iR1lza"
      },
      "execution_count": null,
      "outputs": []
    },
    {
      "cell_type": "code",
      "source": [
        "global labels\n",
        "global features\n",
        "labels = [f\"label_{i+1}\" for i in range(4)]\n",
        "features = [f'feature_{i+1}' for i in range(768)]\n",
        "label_1 = labels[0]\n",
        "label_2 = labels[1]\n",
        "label_3 = labels[2]\n",
        "label_4 = labels[3]"
      ],
      "metadata": {
        "execution": {
          "iopub.status.busy": "2023-09-24T02:34:42.421275Z",
          "iopub.execute_input": "2023-09-24T02:34:42.421696Z",
          "iopub.status.idle": "2023-09-24T02:34:42.429073Z",
          "shell.execute_reply.started": "2023-09-24T02:34:42.421666Z",
          "shell.execute_reply": "2023-09-24T02:34:42.427648Z"
        },
        "trusted": true,
        "id": "z2bfgCRJ1lze"
      },
      "execution_count": null,
      "outputs": []
    },
    {
      "cell_type": "code",
      "source": [
        "MOUNT_PATH='/content/drive'\n",
        "drive.mount(MOUNT_PATH)\n",
        "WORKING_DIR=f\"{MOUNT_PATH}/MyDrive/ML/ML project/Layer 7\"\n",
        "train = pd.read_csv(f\"{WORKING_DIR}/layer_7_train.csv\")\n",
        "valid = pd.read_csv(f\"{WORKING_DIR}/layer_7_valid.csv\")\n",
        "test = pd.read_csv(f\"{WORKING_DIR}/layer_7_test.csv\")"
      ],
      "metadata": {
        "execution": {
          "iopub.status.busy": "2023-09-24T02:34:46.516861Z",
          "iopub.execute_input": "2023-09-24T02:34:46.517259Z",
          "iopub.status.idle": "2023-09-24T02:34:54.189593Z",
          "shell.execute_reply.started": "2023-09-24T02:34:46.517228Z",
          "shell.execute_reply": "2023-09-24T02:34:54.188435Z"
        },
        "trusted": true,
        "colab": {
          "base_uri": "https://localhost:8080/"
        },
        "id": "msF0fYQ61lze",
        "outputId": "302108f7-5044-42da-bac1-77a80a4fccb5"
      },
      "execution_count": null,
      "outputs": [
        {
          "output_type": "stream",
          "name": "stdout",
          "text": [
            "Mounted at /content/drive\n"
          ]
        }
      ]
    },
    {
      "cell_type": "markdown",
      "source": [
        "# Defining functions"
      ],
      "metadata": {
        "id": "nNV03wOL-1c7"
      }
    },
    {
      "cell_type": "code",
      "source": [
        "def data_preprocess(train_df, valid_df, test_df, label):\n",
        "    scaler = StandardScaler()\n",
        "\n",
        "    X_train = pd.DataFrame(scaler.fit_transform(train_df.drop(labels, axis=1)), columns=features)\n",
        "    y_train = train_df[label]\n",
        "\n",
        "    X_valid = pd.DataFrame(scaler.transform(valid_df.drop(labels, axis=1)), columns=features)\n",
        "    y_valid = valid_df[label]\n",
        "\n",
        "    X_test = pd.DataFrame(scaler.transform(test_df.drop(labels, axis=1)), columns=features)\n",
        "    y_test = test_df[label]\n",
        "    return X_train, y_train, X_valid, y_valid, X_test, y_test"
      ],
      "metadata": {
        "execution": {
          "iopub.status.busy": "2023-09-24T02:34:54.191438Z",
          "iopub.execute_input": "2023-09-24T02:34:54.191772Z",
          "iopub.status.idle": "2023-09-24T02:34:54.199445Z",
          "shell.execute_reply.started": "2023-09-24T02:34:54.191743Z",
          "shell.execute_reply": "2023-09-24T02:34:54.198196Z"
        },
        "trusted": true,
        "id": "BVWC_uCl1lzf"
      },
      "execution_count": null,
      "outputs": []
    },
    {
      "cell_type": "code",
      "source": [
        "def feature_engineering_with_pca(X_train, X_valid, X_test, n_components):\n",
        "\n",
        "    # Apply PCA for dimensionality reduction\n",
        "    pca = PCA(n_components)\n",
        "\n",
        "    # Create a new DataFrame with the PCA-transformed features\n",
        "    X_train_pca = pca.fit_transform(X_train)\n",
        "    X_train_df_pca = pd.DataFrame(X_train_pca)\n",
        "    X_valid_df_pca = pd.DataFrame(pca.transform(X_valid))\n",
        "    X_test_df_pca = pd.DataFrame(pca.transform(X_test))\n",
        "    print(\"Shape for label4 train set:\", X_train_df_pca.shape)\n",
        "    print(\"Shape for label4 validation set:\", X_valid_df_pca.shape)\n",
        "    print(\"Shape for label4 validation set:\", X_test_df_pca.shape)\n",
        "\n",
        "    return X_train_df_pca, X_valid_df_pca, X_test_df_pca"
      ],
      "metadata": {
        "execution": {
          "iopub.status.busy": "2023-09-24T02:34:54.200843Z",
          "iopub.execute_input": "2023-09-24T02:34:54.201266Z",
          "iopub.status.idle": "2023-09-24T02:34:54.217555Z",
          "shell.execute_reply.started": "2023-09-24T02:34:54.201236Z",
          "shell.execute_reply": "2023-09-24T02:34:54.216466Z"
        },
        "trusted": true,
        "id": "Z1LdkWdb1lzg"
      },
      "execution_count": null,
      "outputs": []
    },
    {
      "cell_type": "code",
      "source": [
        "def build_knn_model(X_train, y_train, n_neighbors):\n",
        "    # Create and train your KNN classifier model\n",
        "    # You can perform hyperparameter tuning by changing the value of 'n_neighbors'\n",
        "    knn = KNeighborsClassifier(n_neighbors)\n",
        "    knn.fit(X_train, y_train)\n",
        "    return knn"
      ],
      "metadata": {
        "execution": {
          "iopub.status.busy": "2023-09-24T02:34:55.309310Z",
          "iopub.execute_input": "2023-09-24T02:34:55.309760Z",
          "iopub.status.idle": "2023-09-24T02:34:55.316780Z",
          "shell.execute_reply.started": "2023-09-24T02:34:55.309725Z",
          "shell.execute_reply": "2023-09-24T02:34:55.315393Z"
        },
        "trusted": true,
        "id": "8shpvQ-b1lzh"
      },
      "execution_count": null,
      "outputs": []
    },
    {
      "cell_type": "code",
      "source": [
        "def build_svc_model(X_train, y_train):\n",
        "    svc_model = SVC(kernel='linear', gamma='scale')\n",
        "    svc_model.fit(X_train, y_train)\n",
        "    return svc_model"
      ],
      "metadata": {
        "execution": {
          "iopub.status.busy": "2023-09-24T02:34:57.361643Z",
          "iopub.execute_input": "2023-09-24T02:34:57.362161Z",
          "iopub.status.idle": "2023-09-24T02:34:57.368889Z",
          "shell.execute_reply.started": "2023-09-24T02:34:57.362118Z",
          "shell.execute_reply": "2023-09-24T02:34:57.367734Z"
        },
        "trusted": true,
        "id": "k6rHyp_k1lzh"
      },
      "execution_count": null,
      "outputs": []
    },
    {
      "cell_type": "code",
      "source": [
        "def evaluate(y_valid, y_pred):\n",
        "    print(f\"Accuracy: {accuracy_score(y_valid, y_pred)}\")\n",
        "    print(f\"F1 Score: {f1_score(y_valid, y_pred, average='weighted')}\")\n",
        "    print(f\"Precision: {precision_score(y_valid, y_pred, average='weighted')}\")\n",
        "    print(f\"Recall: {recall_score(y_valid, y_pred, average='weighted')}\")"
      ],
      "metadata": {
        "execution": {
          "iopub.status.busy": "2023-09-24T02:34:58.814145Z",
          "iopub.execute_input": "2023-09-24T02:34:58.814925Z",
          "iopub.status.idle": "2023-09-24T02:34:58.821677Z",
          "shell.execute_reply.started": "2023-09-24T02:34:58.814877Z",
          "shell.execute_reply": "2023-09-24T02:34:58.820469Z"
        },
        "trusted": true,
        "id": "DYWmJLec1lzh"
      },
      "execution_count": null,
      "outputs": []
    },
    {
      "cell_type": "markdown",
      "source": [
        "# Label 04"
      ],
      "metadata": {
        "id": "MsxUusRY1lzi"
      }
    },
    {
      "cell_type": "code",
      "source": [
        "X_train_4, y_train_4, X_valid_4, y_valid_4, X_test_4, y_test_4 = data_preprocess(train, valid, test, label_4)\n",
        "y_train_4.info()"
      ],
      "metadata": {
        "execution": {
          "iopub.status.busy": "2023-09-24T02:35:00.861591Z",
          "iopub.execute_input": "2023-09-24T02:35:00.862125Z",
          "iopub.status.idle": "2023-09-24T02:35:01.293572Z",
          "shell.execute_reply.started": "2023-09-24T02:35:00.862083Z",
          "shell.execute_reply": "2023-09-24T02:35:01.292333Z"
        },
        "trusted": true,
        "colab": {
          "base_uri": "https://localhost:8080/"
        },
        "id": "Jxq8P2nK1lzj",
        "outputId": "de8cfa96-2ced-48ae-be55-f62b98f764d6"
      },
      "execution_count": null,
      "outputs": [
        {
          "output_type": "stream",
          "name": "stdout",
          "text": [
            "<class 'pandas.core.series.Series'>\n",
            "RangeIndex: 28520 entries, 0 to 28519\n",
            "Series name: label_4\n",
            "Non-Null Count  Dtype\n",
            "--------------  -----\n",
            "28520 non-null  int64\n",
            "dtypes: int64(1)\n",
            "memory usage: 222.9 KB\n"
          ]
        }
      ]
    },
    {
      "cell_type": "code",
      "source": [
        "plt.hist(y_train_4, bins=20, edgecolor='k')\n",
        "plt.xlabel(label_4)\n",
        "plt.ylabel('Count')\n",
        "plt.title(f'Distribution of {label_4}')\n",
        "plt.show()"
      ],
      "metadata": {
        "execution": {
          "iopub.status.busy": "2023-09-24T02:35:04.249200Z",
          "iopub.execute_input": "2023-09-24T02:35:04.249622Z",
          "iopub.status.idle": "2023-09-24T02:35:04.607945Z",
          "shell.execute_reply.started": "2023-09-24T02:35:04.249593Z",
          "shell.execute_reply": "2023-09-24T02:35:04.606863Z"
        },
        "trusted": true,
        "colab": {
          "base_uri": "https://localhost:8080/"
        },
        "id": "00bbsKYI1lzl",
        "outputId": "66eb8d47-cb52-4158-9b49-f5987130590a"
      },
      "execution_count": null,
      "outputs": [
        {
          "output_type": "display_data",
          "data": {
            "text/plain": [
              "<Figure size 640x480 with 1 Axes>"
            ],
            "image/png": "[encoded data removed]"
          },
          "metadata": {}
        }
      ]
    },
    {
      "cell_type": "markdown",
      "source": [
        "# Cross validation"
      ],
      "metadata": {
        "id": "v5gwZd7H1lzl"
      }
    },
    {
      "cell_type": "code",
      "source": [
        "svc_model = SVC()\n",
        "knn_model = KNeighborsClassifier(n_neighbors=5)\n",
        "rf_model = RandomForestClassifier(n_estimators=100, random_state=42)\n",
        "\n",
        "num_folds = 5\n",
        "\n",
        "kfold = KFold(n_splits=num_folds, shuffle=True, random_state=42)\n",
        "\n",
        "svc_scores = cross_val_score(svc_model, X_train_4, y_train_4, cv=kfold)\n",
        "print(\"SVC Cross-Validation Scores:\")\n",
        "for i, score in enumerate(svc_scores):\n",
        "    print(f\"Fold {i+1} - Accuracy: {score:.2f}\")\n",
        "svc_mean_accuracy = svc_scores.mean()\n",
        "print(f\"Mean Accuracy (SVC): {svc_mean_accuracy:.2f}\")\n",
        "\n",
        "knn_scores = cross_val_score(knn_model, X_train_4, y_train_4, cv=kfold)\n",
        "print(\"\\nKNN Cross-Validation Scores:\")\n",
        "for i, score in enumerate(knn_scores):\n",
        "    print(f\"Fold {i+1} - Accuracy: {score:.2f}\")\n",
        "knn_mean_accuracy = knn_scores.mean()\n",
        "print(f\"Mean Accuracy (KNN): {knn_mean_accuracy:.2f}\")\n",
        "\n",
        "rf_scores = cross_val_score(rf_model, X_train_4, y_train_4, cv=kfold)\n",
        "print(\"Random Forest Cross-Validation Scores:\")\n",
        "for i, score in enumerate(rf_scores):\n",
        "    print(f\"Fold {i+1} - Accuracy: {score:.2f}\")\n",
        "rf_mean_accuracy = rf_scores.mean()\n",
        "print(f\"Mean Accuracy (Random Forest): {rf_mean_accuracy:.2f}\")"
      ],
      "metadata": {
        "id": "fHiD5yseHye9"
      },
      "execution_count": null,
      "outputs": []
    },
    {
      "cell_type": "code",
      "source": [
        "model_4_before = build_knn_model(X_train_4, y_train_4, 5)\n",
        "\n",
        "y_pred_4_before = model_4_before.predict(X_valid_4)\n",
        "\n",
        "evaluate(y_valid_4, y_pred_4_before)"
      ],
      "metadata": {
        "execution": {
          "iopub.status.busy": "2023-09-24T02:35:07.680985Z",
          "iopub.execute_input": "2023-09-24T02:35:07.681390Z",
          "iopub.status.idle": "2023-09-24T02:35:08.542161Z",
          "shell.execute_reply.started": "2023-09-24T02:35:07.681358Z",
          "shell.execute_reply": "2023-09-24T02:35:08.540832Z"
        },
        "trusted": true,
        "colab": {
          "base_uri": "https://localhost:8080/"
        },
        "id": "RaSmCYkj1lzm",
        "outputId": "2fc5e7e8-dd75-4a22-d6df-a5c3a5e50de2"
      },
      "execution_count": null,
      "outputs": [
        {
          "output_type": "stream",
          "name": "stdout",
          "text": [
            "Accuracy: 0.9293333333333333\n",
            "F1 Score: 0.9254701844050116\n",
            "Precision: 0.9325152959025916\n",
            "Recall: 0.9293333333333333\n"
          ]
        }
      ]
    },
    {
      "cell_type": "markdown",
      "source": [
        "# Resampling"
      ],
      "metadata": {
        "id": "htMZhQvAK8kI"
      }
    },
    {
      "cell_type": "code",
      "source": [
        "resampler = RandomOverSampler(sampling_strategy='auto')\n",
        "X_train_4_resampled, y_train_4_resampled = resampler.fit_resample(X_train_4, y_train_4)"
      ],
      "metadata": {
        "execution": {
          "iopub.status.busy": "2023-09-24T02:35:17.461541Z",
          "iopub.execute_input": "2023-09-24T02:35:17.462085Z",
          "iopub.status.idle": "2023-09-24T02:35:20.345305Z",
          "shell.execute_reply.started": "2023-09-24T02:35:17.462044Z",
          "shell.execute_reply": "2023-09-24T02:35:20.343987Z"
        },
        "trusted": true,
        "id": "EAu1QLdg1lzm"
      },
      "execution_count": null,
      "outputs": []
    },
    {
      "cell_type": "code",
      "source": [
        "plt.hist(y_train_4_resampled, bins=20, edgecolor='k')\n",
        "plt.xlabel(label_4)\n",
        "plt.ylabel('Frequency')\n",
        "plt.title(f'Distribution of {label_4}')\n",
        "plt.show()"
      ],
      "metadata": {
        "execution": {
          "iopub.status.busy": "2023-09-24T02:35:20.347469Z",
          "iopub.execute_input": "2023-09-24T02:35:20.348138Z",
          "iopub.status.idle": "2023-09-24T02:35:20.706609Z",
          "shell.execute_reply.started": "2023-09-24T02:35:20.348105Z",
          "shell.execute_reply": "2023-09-24T02:35:20.705193Z"
        },
        "trusted": true,
        "colab": {
          "base_uri": "https://localhost:8080/"
        },
        "id": "t11b-RED1lzn",
        "outputId": "bb0183dd-b606-4e16-f053-e18cca55aa00"
      },
      "execution_count": null,
      "outputs": [
        {
          "output_type": "display_data",
          "data": {
            "text/plain": [
              "<Figure size 640x480 with 1 Axes>"
            ],
            "image/png": "[encoded data removed]"
          },
          "metadata": {}
        }
      ]
    },
    {
      "cell_type": "code",
      "source": [
        "model_4_oversampling = build_knn_model(X_train_4_resampled, y_train_4_resampled, 5)\n",
        "\n",
        "y_pred_4_oversampling = model_4_oversampling.predict(X_valid_4)\n",
        "\n",
        "evaluate(y_valid_4, y_pred_4_oversampling)"
      ],
      "metadata": {
        "trusted": true,
        "colab": {
          "base_uri": "https://localhost:8080/"
        },
        "id": "PfqZq9821lzn",
        "outputId": "391510f7-7334-44ad-b6ed-b6d9a11e38d1"
      },
      "execution_count": null,
      "outputs": [
        {
          "output_type": "stream",
          "name": "stdout",
          "text": [
            "Accuracy: 0.9226666666666666\n",
            "F1 Score: 0.9260721707438796\n",
            "Precision: 0.9362365893711394\n",
            "Recall: 0.9226666666666666\n"
          ]
        }
      ]
    },
    {
      "cell_type": "code",
      "source": [
        "model_4_oversampling_svc = SVC()\n",
        "model_4_oversampling_svc.fit(X_train_4_resampled, y_train_4_resampled)\n",
        "\n",
        "y_pred_4_oversampling_svc = model_4_oversampling_svc.predict(X_valid_4)\n",
        "\n",
        "evaluate(y_valid_4, y_pred_4_oversampling_svc)"
      ],
      "metadata": {
        "trusted": true,
        "id": "s6XKaoCr1lzn"
      },
      "execution_count": null,
      "outputs": []
    },
    {
      "cell_type": "markdown",
      "source": [
        "# Feature reduction using PCA"
      ],
      "metadata": {
        "id": "uj9LkTBd1lzo"
      }
    },
    {
      "cell_type": "code",
      "source": [
        "selector = SelectKBest(f_classif, k=250)\n",
        "X_train_4_new = selector.fit_transform(X_train_4_resampled, y_train_4_resampled)\n",
        "X_valid_4_new = selector.transform(X_valid_4)\n",
        "X_test_4_new = selector.transform(X_test_4)"
      ],
      "metadata": {
        "execution": {
          "iopub.status.busy": "2023-09-24T02:35:30.155049Z",
          "iopub.execute_input": "2023-09-24T02:35:30.155514Z",
          "iopub.status.idle": "2023-09-24T02:35:34.414788Z",
          "shell.execute_reply.started": "2023-09-24T02:35:30.155463Z",
          "shell.execute_reply": "2023-09-24T02:35:34.413485Z"
        },
        "trusted": true,
        "id": "KsTz6Tou1lzo"
      },
      "execution_count": null,
      "outputs": []
    },
    {
      "cell_type": "code",
      "source": [
        "X_train_4_pca, X_valid_4_pca, X_test_4_pca = feature_engineering_with_pca(X_train_4_new, X_valid_4_new, X_test_4_new, n_components=0.95)"
      ],
      "metadata": {
        "execution": {
          "iopub.status.busy": "2023-09-24T02:35:34.416602Z",
          "iopub.execute_input": "2023-09-24T02:35:34.416964Z",
          "iopub.status.idle": "2023-09-24T02:35:47.378044Z",
          "shell.execute_reply.started": "2023-09-24T02:35:34.416931Z",
          "shell.execute_reply": "2023-09-24T02:35:47.372361Z"
        },
        "trusted": true,
        "colab": {
          "base_uri": "https://localhost:8080/"
        },
        "id": "UrklAVXh1lzo",
        "outputId": "f61ed1c0-3473-4b88-88de-51aeef255784"
      },
      "execution_count": null,
      "outputs": [
        {
          "output_type": "stream",
          "name": "stdout",
          "text": [
            "Shape for label4 train set: (279132, 147)\n",
            "Shape for label4 validation set: (750, 147)\n",
            "Shape for label4 validation set: (750, 147)\n"
          ]
        }
      ]
    },
    {
      "cell_type": "code",
      "source": [
        "model_4_knn = build_knn_model(X_train_4_pca, y_train_4_resampled, 5)\n",
        "\n",
        "y_pred_4_knn = model_4_knn.predict(X_valid_4_pca)\n",
        "\n",
        "evaluate(y_valid_4, y_pred_4_knn)"
      ],
      "metadata": {
        "trusted": true,
        "colab": {
          "base_uri": "https://localhost:8080/"
        },
        "id": "oH__UnH71lzo",
        "outputId": "8431d201-c26e-4c0b-c974-db35b8069d08"
      },
      "execution_count": null,
      "outputs": [
        {
          "output_type": "stream",
          "name": "stdout",
          "text": [
            "Accuracy: 0.9386666666666666\n",
            "F1 Score: 0.9403397853682534\n",
            "Precision: 0.9449194266375851\n",
            "Recall: 0.9386666666666666\n"
          ]
        }
      ]
    },
    {
      "cell_type": "code",
      "source": [
        "model_4_svc = SVC()\n",
        "model_4_svc.fit(X_train_4_pca, y_train_4_resampled)\n",
        "\n",
        "y_pred_4_svc = model_4_svc.predict(X_valid_4_pca)\n",
        "\n",
        "evaluate(y_valid_4, y_pred_4_svc)"
      ],
      "metadata": {
        "execution": {
          "iopub.status.busy": "2023-09-24T02:35:47.381714Z",
          "iopub.execute_input": "2023-09-24T02:35:47.382945Z"
        },
        "trusted": true,
        "id": "fwsG5rjm1lzo",
        "colab": {
          "base_uri": "https://localhost:8080/"
        },
        "outputId": "97df010e-21e4-4d52-c158-216120b6a298"
      },
      "execution_count": null,
      "outputs": [
        {
          "output_type": "stream",
          "name": "stdout",
          "text": [
            "Accuracy: 0.9706666666666667\n",
            "F1 Score: 0.9704176503532105\n",
            "Precision: 0.9718795039951758\n",
            "Recall: 0.9706666666666667\n"
          ]
        }
      ]
    },
    {
      "cell_type": "markdown",
      "source": [
        "# Hyperparameter Tuning for label 4"
      ],
      "metadata": {
        "id": "5T61FdH41lzp"
      }
    },
    {
      "cell_type": "code",
      "source": [
        "param_grid_4 = {\n",
        "    'n_neighbors': [3, 5, 7, 9],\n",
        "    'weights': ['uniform', 'distance']\n",
        "}\n",
        "\n",
        "model_4_knn = KNeighborsClassifier()\n",
        "\n",
        "grid_search_4 = GridSearchCV(estimator=model_4_knn, param_grid=param_grid_4, cv=5, verbose=3, n_jobs=-1, scoring='accuracy')\n",
        "\n",
        "grid_search_4.fit(X_train_4_pca, y_train_4_resampled)\n",
        "\n",
        "best_params_4 = grid_search_4.best_params_\n",
        "best_model_4 = grid_search_4.best_estimator_\n",
        "\n",
        "valid_accuracy_4 = best_model_4.score(X_valid_4_pca, y_valid_4)\n",
        "\n",
        "# Print the best hyperparameters and test accuracy\n",
        "print(\"Best Hyperparameters:\", best_params_4)\n",
        "print(\"Test Accuracy:\", valid_accuracy_4)"
      ],
      "metadata": {
        "trusted": true,
        "id": "HdIAFUbZ1lzp"
      },
      "execution_count": null,
      "outputs": []
    },
    {
      "cell_type": "code",
      "source": [
        "param_grid_4_svc = {\n",
        "    'C': [0.1, 1, 10, 100],\n",
        "    'kernel': ['rbf']\n",
        "}\n",
        "\n",
        "model_4_svc = SVC()\n",
        "\n",
        "grid_search_4_svc = GridSearchCV(estimator=model_4_svc, param_grid=param_grid_4_svc, cv=5, verbose=3, n_jobs=-1, scoring='accuracy')\n",
        "\n",
        "grid_search_4_svc.fit(X_train_4_pca, y_train_4_resampled)\n",
        "\n",
        "best_params_4_svc = grid_search_4_svc.best_params_\n",
        "best_model_4_svc = grid_search_4_svc.best_estimator_\n",
        "\n",
        "valid_accuracy_4_svc = best_model_4_svc.score(X_valid_4_pca, y_valid_4)\n",
        "\n",
        "# Print the best hyperparameters and test accuracy\n",
        "print(\"Best Hyperparameters:\", best_params_4_svc)\n",
        "print(\"Test Accuracy:\", valid_accuracy_4_svc)"
      ],
      "metadata": {
        "colab": {
          "base_uri": "https://localhost:8080/",
          "height": 423
        },
        "id": "faZ0Oq-V-f_k",
        "outputId": "904ed054-7ad0-44ca-9a08-76ac6f340af9"
      },
      "execution_count": null,
      "outputs": [
        {
          "metadata": {
            "tags": null
          },
          "name": "stdout",
          "output_type": "stream",
          "text": [
            "Fitting 5 folds for each of 4 candidates, totalling 20 fits\n"
          ]
        },
        {
          "output_type": "error",
          "ename": "KeyboardInterrupt",
          "evalue": "ignored",
          "traceback": [
            "\u001b[0;31m---------------------------------------------------------------------------\u001b[0m",
            "\u001b[0;31mKeyboardInterrupt\u001b[0m                         Traceback (most recent call last)",
            "\u001b[0;32m<ipython-input-18-f193788d2101>\u001b[0m in \u001b[0;36m<cell line: 10>\u001b[0;34m()\u001b[0m\n\u001b[1;32m      8\u001b[0m \u001b[0mgrid_search_4_svc\u001b[0m \u001b[0;34m=\u001b[0m \u001b[0mGridSearchCV\u001b[0m\u001b[0;34m(\u001b[0m\u001b[0mestimator\u001b[0m\u001b[0;34m=\u001b[0m\u001b[0mmodel_4_svc\u001b[0m\u001b[0;34m,\u001b[0m \u001b[0mparam_grid\u001b[0m\u001b[0;34m=\u001b[0m\u001b[0mparam_grid_4_svc\u001b[0m\u001b[0;34m,\u001b[0m \u001b[0mcv\u001b[0m\u001b[0;34m=\u001b[0m\u001b[0;36m5\u001b[0m\u001b[0;34m,\u001b[0m \u001b[0mverbose\u001b[0m\u001b[0;34m=\u001b[0m\u001b[0;36m3\u001b[0m\u001b[0;34m,\u001b[0m \u001b[0mn_jobs\u001b[0m\u001b[0;34m=\u001b[0m\u001b[0;34m-\u001b[0m\u001b[0;36m1\u001b[0m\u001b[0;34m,\u001b[0m \u001b[0mscoring\u001b[0m\u001b[0;34m=\u001b[0m\u001b[0;34m'accuracy'\u001b[0m\u001b[0;34m)\u001b[0m\u001b[0;34m\u001b[0m\u001b[0;34m\u001b[0m\u001b[0m\n\u001b[1;32m      9\u001b[0m \u001b[0;34m\u001b[0m\u001b[0m\n\u001b[0;32m---> 10\u001b[0;31m \u001b[0mgrid_search_4_svc\u001b[0m\u001b[0;34m.\u001b[0m\u001b[0mfit\u001b[0m\u001b[0;34m(\u001b[0m\u001b[0mX_train_4_pca\u001b[0m\u001b[0;34m,\u001b[0m \u001b[0my_train_4_resampled\u001b[0m\u001b[0;34m)\u001b[0m\u001b[0;34m\u001b[0m\u001b[0;34m\u001b[0m\u001b[0m\n\u001b[0m\u001b[1;32m     11\u001b[0m \u001b[0;34m\u001b[0m\u001b[0m\n\u001b[1;32m     12\u001b[0m \u001b[0mbest_params_4_svc\u001b[0m \u001b[0;34m=\u001b[0m \u001b[0mgrid_search_4_svc\u001b[0m\u001b[0;34m.\u001b[0m\u001b[0mbest_params_\u001b[0m\u001b[0;34m\u001b[0m\u001b[0;34m\u001b[0m\u001b[0m\n",
            "\u001b[0;32m/usr/local/lib/python3.10/dist-packages/sklearn/model_selection/_search.py\u001b[0m in \u001b[0;36mfit\u001b[0;34m(self, X, y, groups, **fit_params)\u001b[0m\n\u001b[1;32m    872\u001b[0m                 \u001b[0;32mreturn\u001b[0m \u001b[0mresults\u001b[0m\u001b[0;34m\u001b[0m\u001b[0;34m\u001b[0m\u001b[0m\n\u001b[1;32m    873\u001b[0m \u001b[0;34m\u001b[0m\u001b[0m\n\u001b[0;32m--> 874\u001b[0;31m             \u001b[0mself\u001b[0m\u001b[0;34m.\u001b[0m\u001b[0m_run_search\u001b[0m\u001b[0;34m(\u001b[0m\u001b[0mevaluate_candidates\u001b[0m\u001b[0;34m)\u001b[0m\u001b[0;34m\u001b[0m\u001b[0;34m\u001b[0m\u001b[0m\n\u001b[0m\u001b[1;32m    875\u001b[0m \u001b[0;34m\u001b[0m\u001b[0m\n\u001b[1;32m    876\u001b[0m             \u001b[0;31m# multimetric is determined here because in the case of a callable\u001b[0m\u001b[0;34m\u001b[0m\u001b[0;34m\u001b[0m\u001b[0m\n",
            "\u001b[0;32m/usr/local/lib/python3.10/dist-packages/sklearn/model_selection/_search.py\u001b[0m in \u001b[0;36m_run_search\u001b[0;34m(self, evaluate_candidates)\u001b[0m\n\u001b[1;32m   1386\u001b[0m     \u001b[0;32mdef\u001b[0m \u001b[0m_run_search\u001b[0m\u001b[0;34m(\u001b[0m\u001b[0mself\u001b[0m\u001b[0;34m,\u001b[0m \u001b[0mevaluate_candidates\u001b[0m\u001b[0;34m)\u001b[0m\u001b[0;34m:\u001b[0m\u001b[0;34m\u001b[0m\u001b[0;34m\u001b[0m\u001b[0m\n\u001b[1;32m   1387\u001b[0m         \u001b[0;34m\"\"\"Search all candidates in param_grid\"\"\"\u001b[0m\u001b[0;34m\u001b[0m\u001b[0;34m\u001b[0m\u001b[0m\n\u001b[0;32m-> 1388\u001b[0;31m         \u001b[0mevaluate_candidates\u001b[0m\u001b[0;34m(\u001b[0m\u001b[0mParameterGrid\u001b[0m\u001b[0;34m(\u001b[0m\u001b[0mself\u001b[0m\u001b[0;34m.\u001b[0m\u001b[0mparam_grid\u001b[0m\u001b[0;34m)\u001b[0m\u001b[0;34m)\u001b[0m\u001b[0;34m\u001b[0m\u001b[0;34m\u001b[0m\u001b[0m\n\u001b[0m\u001b[1;32m   1389\u001b[0m \u001b[0;34m\u001b[0m\u001b[0m\n\u001b[1;32m   1390\u001b[0m \u001b[0;34m\u001b[0m\u001b[0m\n",
            "\u001b[0;32m/usr/local/lib/python3.10/dist-packages/sklearn/model_selection/_search.py\u001b[0m in \u001b[0;36mevaluate_candidates\u001b[0;34m(candidate_params, cv, more_results)\u001b[0m\n\u001b[1;32m    819\u001b[0m                     )\n\u001b[1;32m    820\u001b[0m \u001b[0;34m\u001b[0m\u001b[0m\n\u001b[0;32m--> 821\u001b[0;31m                 out = parallel(\n\u001b[0m\u001b[1;32m    822\u001b[0m                     delayed(_fit_and_score)(\n\u001b[1;32m    823\u001b[0m                         \u001b[0mclone\u001b[0m\u001b[0;34m(\u001b[0m\u001b[0mbase_estimator\u001b[0m\u001b[0;34m)\u001b[0m\u001b[0;34m,\u001b[0m\u001b[0;34m\u001b[0m\u001b[0;34m\u001b[0m\u001b[0m\n",
            "\u001b[0;32m/usr/local/lib/python3.10/dist-packages/sklearn/utils/parallel.py\u001b[0m in \u001b[0;36m__call__\u001b[0;34m(self, iterable)\u001b[0m\n\u001b[1;32m     61\u001b[0m             \u001b[0;32mfor\u001b[0m \u001b[0mdelayed_func\u001b[0m\u001b[0;34m,\u001b[0m \u001b[0margs\u001b[0m\u001b[0;34m,\u001b[0m \u001b[0mkwargs\u001b[0m \u001b[0;32min\u001b[0m \u001b[0miterable\u001b[0m\u001b[0;34m\u001b[0m\u001b[0;34m\u001b[0m\u001b[0m\n\u001b[1;32m     62\u001b[0m         )\n\u001b[0;32m---> 63\u001b[0;31m         \u001b[0;32mreturn\u001b[0m \u001b[0msuper\u001b[0m\u001b[0;34m(\u001b[0m\u001b[0;34m)\u001b[0m\u001b[0;34m.\u001b[0m\u001b[0m__call__\u001b[0m\u001b[0;34m(\u001b[0m\u001b[0miterable_with_config\u001b[0m\u001b[0;34m)\u001b[0m\u001b[0;34m\u001b[0m\u001b[0;34m\u001b[0m\u001b[0m\n\u001b[0m\u001b[1;32m     64\u001b[0m \u001b[0;34m\u001b[0m\u001b[0m\n\u001b[1;32m     65\u001b[0m \u001b[0;34m\u001b[0m\u001b[0m\n",
            "\u001b[0;32m/usr/local/lib/python3.10/dist-packages/joblib/parallel.py\u001b[0m in \u001b[0;36m__call__\u001b[0;34m(self, iterable)\u001b[0m\n\u001b[1;32m   1950\u001b[0m         \u001b[0mnext\u001b[0m\u001b[0;34m(\u001b[0m\u001b[0moutput\u001b[0m\u001b[0;34m)\u001b[0m\u001b[0;34m\u001b[0m\u001b[0;34m\u001b[0m\u001b[0m\n\u001b[1;32m   1951\u001b[0m \u001b[0;34m\u001b[0m\u001b[0m\n\u001b[0;32m-> 1952\u001b[0;31m         \u001b[0;32mreturn\u001b[0m \u001b[0moutput\u001b[0m \u001b[0;32mif\u001b[0m \u001b[0mself\u001b[0m\u001b[0;34m.\u001b[0m\u001b[0mreturn_generator\u001b[0m \u001b[0;32melse\u001b[0m \u001b[0mlist\u001b[0m\u001b[0;34m(\u001b[0m\u001b[0moutput\u001b[0m\u001b[0;34m)\u001b[0m\u001b[0;34m\u001b[0m\u001b[0;34m\u001b[0m\u001b[0m\n\u001b[0m\u001b[1;32m   1953\u001b[0m \u001b[0;34m\u001b[0m\u001b[0m\n\u001b[1;32m   1954\u001b[0m     \u001b[0;32mdef\u001b[0m \u001b[0m__repr__\u001b[0m\u001b[0;34m(\u001b[0m\u001b[0mself\u001b[0m\u001b[0;34m)\u001b[0m\u001b[0;34m:\u001b[0m\u001b[0;34m\u001b[0m\u001b[0;34m\u001b[0m\u001b[0m\n",
            "\u001b[0;32m/usr/local/lib/python3.10/dist-packages/joblib/parallel.py\u001b[0m in \u001b[0;36m_get_outputs\u001b[0;34m(self, iterator, pre_dispatch)\u001b[0m\n\u001b[1;32m   1593\u001b[0m \u001b[0;34m\u001b[0m\u001b[0m\n\u001b[1;32m   1594\u001b[0m             \u001b[0;32mwith\u001b[0m \u001b[0mself\u001b[0m\u001b[0;34m.\u001b[0m\u001b[0m_backend\u001b[0m\u001b[0;34m.\u001b[0m\u001b[0mretrieval_context\u001b[0m\u001b[0;34m(\u001b[0m\u001b[0;34m)\u001b[0m\u001b[0;34m:\u001b[0m\u001b[0;34m\u001b[0m\u001b[0;34m\u001b[0m\u001b[0m\n\u001b[0;32m-> 1595\u001b[0;31m                 \u001b[0;32myield\u001b[0m \u001b[0;32mfrom\u001b[0m \u001b[0mself\u001b[0m\u001b[0;34m.\u001b[0m\u001b[0m_retrieve\u001b[0m\u001b[0;34m(\u001b[0m\u001b[0;34m)\u001b[0m\u001b[0;34m\u001b[0m\u001b[0;34m\u001b[0m\u001b[0m\n\u001b[0m\u001b[1;32m   1596\u001b[0m \u001b[0;34m\u001b[0m\u001b[0m\n\u001b[1;32m   1597\u001b[0m         \u001b[0;32mexcept\u001b[0m \u001b[0mGeneratorExit\u001b[0m\u001b[0;34m:\u001b[0m\u001b[0;34m\u001b[0m\u001b[0;34m\u001b[0m\u001b[0m\n",
            "\u001b[0;32m/usr/local/lib/python3.10/dist-packages/joblib/parallel.py\u001b[0m in \u001b[0;36m_retrieve\u001b[0;34m(self)\u001b[0m\n\u001b[1;32m   1705\u001b[0m                 (self._jobs[0].get_status(\n\u001b[1;32m   1706\u001b[0m                     timeout=self.timeout) == TASK_PENDING)):\n\u001b[0;32m-> 1707\u001b[0;31m                 \u001b[0mtime\u001b[0m\u001b[0;34m.\u001b[0m\u001b[0msleep\u001b[0m\u001b[0;34m(\u001b[0m\u001b[0;36m0.01\u001b[0m\u001b[0;34m)\u001b[0m\u001b[0;34m\u001b[0m\u001b[0;34m\u001b[0m\u001b[0m\n\u001b[0m\u001b[1;32m   1708\u001b[0m                 \u001b[0;32mcontinue\u001b[0m\u001b[0;34m\u001b[0m\u001b[0;34m\u001b[0m\u001b[0m\n\u001b[1;32m   1709\u001b[0m \u001b[0;34m\u001b[0m\u001b[0m\n",
            "\u001b[0;31mKeyboardInterrupt\u001b[0m: "
          ]
        }
      ]
    },
    {
      "cell_type": "markdown",
      "source": [
        "# Predicting label 4"
      ],
      "metadata": {
        "id": "ITOWSaec1lzp"
      }
    },
    {
      "cell_type": "code",
      "source": [
        "best_model_4_svc = SVC(C=10, kernel='rbf', class_weight=\"balanced\")\n",
        "best_model_4_svc.fit(X_train_4_pca, y_train_4_resampled)\n",
        "\n",
        "y_pred_4_valid = best_model_4_svc.predict(X_valid_4_pca)\n",
        "\n",
        "evaluate(y_valid_4, y_pred_4_valid)"
      ],
      "metadata": {
        "colab": {
          "base_uri": "https://localhost:8080/"
        },
        "id": "_5frluIjJ3xO",
        "outputId": "e8df335f-ce1c-4bd1-9548-94f108552cf3"
      },
      "execution_count": null,
      "outputs": [
        {
          "output_type": "stream",
          "name": "stdout",
          "text": [
            "Accuracy: 0.972\n",
            "F1 Score: 0.9716053934184603\n",
            "Precision: 0.9726325384121317\n",
            "Recall: 0.972\n"
          ]
        }
      ]
    },
    {
      "cell_type": "code",
      "source": [
        "output_df_4_valid = pd.DataFrame({'ID': range(1, len(y_pred_4_valid) + 1), 'label_4': y_pred_4_valid})\n",
        "\n",
        "output_file_path_4 = f\"{WORKING_DIR}/label_7_4_valid.csv\"\n",
        "output_df_4_valid.to_csv(output_file_path_4, index=False)"
      ],
      "metadata": {
        "id": "T3SK5Ea_JwVq"
      },
      "execution_count": null,
      "outputs": []
    },
    {
      "cell_type": "code",
      "source": [
        "y_pred_4 = best_model_4_svc.predict(X_test_4_pca)\n",
        "output_df_1 = pd.DataFrame({'ID': range(1, len(y_pred_4) + 1), 'label_4': y_pred_4})\n",
        "\n",
        "output_file_path_4_train = f\"{WORKING_DIR}/label_7_4_train.csv\"\n",
        "output_df_1.to_csv(output_file_path_4_train, index=False)"
      ],
      "metadata": {
        "trusted": true,
        "id": "h25dBfIA1lzp"
      },
      "execution_count": null,
      "outputs": []
    }
  ]
}