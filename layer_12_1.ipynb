{
  "metadata": {
    "kernelspec": {
      "display_name": "Python 3",
      "name": "python3"
    },
    "language_info": {
      "name": "python",
      "version": "3.10.12",
      "mimetype": "text/x-python",
      "codemirror_mode": {
        "name": "ipython",
        "version": 3
      },
      "pygments_lexer": "ipython3",
      "nbconvert_exporter": "python",
      "file_extension": ".py"
    },
    "colab": {
      "provenance": [],
      "include_colab_link": true
    }
  },
  "nbformat_minor": 0,
  "nbformat": 4,
  "cells": [
    {
      "cell_type": "markdown",
      "metadata": {
        "id": "view-in-github",
        "colab_type": "text"
      },
      "source": [
        "<a href=\"https://colab.research.google.com/github/KumuthuA/ml-project/blob/main/layer_12_1.ipynb\" target=\"_parent\"><img src=\"https://colab.research.google.com/assets/colab-badge.svg\" alt=\"Open In Colab\"/></a>"
      ]
    },
    {
      "cell_type": "code",
      "source": [
        "import pandas as pd\n",
        "import numpy as np\n",
        "from sklearn import svm\n",
        "from sklearn.model_selection import train_test_split\n",
        "from sklearn.preprocessing import StandardScaler, LabelEncoder\n",
        "from sklearn.neighbors import KNeighborsClassifier\n",
        "from sklearn.metrics import accuracy_score, confusion_matrix, f1_score, precision_score, recall_score, classification_report\n",
        "from sklearn.decomposition import PCA\n",
        "from sklearn.feature_selection import SelectKBest, f_classif\n",
        "from imblearn.over_sampling import RandomOverSampler\n",
        "from sklearn.model_selection import GridSearchCV\n",
        "from sklearn.model_selection import cross_val_score, KFold\n",
        "import seaborn as sns\n",
        "import matplotlib.pyplot as plt\n",
        "from sklearn.svm import SVC\n",
        "from google.colab import drive\n",
        "from sklearn.ensemble import RandomForestClassifier"
      ],
      "metadata": {
        "_uuid": "8f2839f25d086af736a60e9eeb907d3b93b6e0e5",
        "_cell_guid": "b1076dfc-b9ad-4769-8c92-a6c4dae69d19",
        "execution": {
          "iopub.status.busy": "2023-09-23T13:15:11.599338Z",
          "iopub.execute_input": "2023-09-23T13:15:11.599812Z",
          "iopub.status.idle": "2023-09-23T13:15:11.610649Z",
          "shell.execute_reply.started": "2023-09-23T13:15:11.599777Z",
          "shell.execute_reply": "2023-09-23T13:15:11.609286Z"
        },
        "trusted": true,
        "id": "QRYUHczBwIDa"
      },
      "execution_count": null,
      "outputs": []
    },
    {
      "cell_type": "code",
      "source": [
        "MOUNT_PATH='/content/drive'\n",
        "drive.mount(MOUNT_PATH)\n",
        "WORKING_DIR=f\"{MOUNT_PATH}/MyDrive/ML/ML project/Layer 12\"\n",
        "train = pd.read_csv(f\"{WORKING_DIR}/layer_12_train.csv\")\n",
        "valid = pd.read_csv(f\"{WORKING_DIR}/layer_12_valid.csv\")\n",
        "test = pd.read_csv(f\"{WORKING_DIR}/layer_12_test.csv\")"
      ],
      "metadata": {
        "id": "iPrzGWeewMzL",
        "colab": {
          "base_uri": "https://localhost:8080/"
        },
        "outputId": "5114236c-2404-43d1-fe2d-03cee5a7c813"
      },
      "execution_count": null,
      "outputs": [
        {
          "output_type": "stream",
          "name": "stdout",
          "text": [
            "Mounted at /content/drive\n"
          ]
        }
      ]
    },
    {
      "cell_type": "code",
      "source": [
        "global labels\n",
        "global features\n",
        "labels = [f\"label_{i+1}\" for i in range(4)]\n",
        "features = [f'feature_{i+1}' for i in range(768)]\n",
        "label_1 = labels[0]\n",
        "label_2 = labels[1]\n",
        "label_3 = labels[2]\n",
        "label_4 = labels[3]"
      ],
      "metadata": {
        "execution": {
          "iopub.status.busy": "2023-09-23T13:15:13.780898Z",
          "iopub.execute_input": "2023-09-23T13:15:13.781320Z",
          "iopub.status.idle": "2023-09-23T13:15:13.787992Z",
          "shell.execute_reply.started": "2023-09-23T13:15:13.781284Z",
          "shell.execute_reply": "2023-09-23T13:15:13.786834Z"
        },
        "trusted": true,
        "id": "RDNaIYpcwIDc"
      },
      "execution_count": null,
      "outputs": []
    },
    {
      "cell_type": "markdown",
      "source": [
        "# Defining functions"
      ],
      "metadata": {
        "id": "P7Z7CstfOa2n"
      }
    },
    {
      "cell_type": "code",
      "source": [
        "def data_preprocess(train_df, valid_df, test_df, label):\n",
        "    scaler = StandardScaler()\n",
        "\n",
        "    X_train = pd.DataFrame(scaler.fit_transform(train_df.drop(labels, axis=1)), columns=features)\n",
        "    y_train = train_df[label]\n",
        "\n",
        "    X_valid = pd.DataFrame(scaler.transform(valid_df.drop(labels, axis=1)), columns=features)\n",
        "    y_valid = valid_df[label]\n",
        "\n",
        "    X_test = pd.DataFrame(scaler.transform(test_df.drop(\"ID\", axis=1)), columns=features)\n",
        "    return X_train, y_train, X_valid, y_valid, X_test, y_test"
      ],
      "metadata": {
        "execution": {
          "iopub.status.busy": "2023-09-23T13:15:23.786361Z",
          "iopub.execute_input": "2023-09-23T13:15:23.786813Z",
          "iopub.status.idle": "2023-09-23T13:15:23.795715Z",
          "shell.execute_reply.started": "2023-09-23T13:15:23.786749Z",
          "shell.execute_reply": "2023-09-23T13:15:23.794376Z"
        },
        "trusted": true,
        "id": "cqS0FszQwIDd"
      },
      "execution_count": null,
      "outputs": []
    },
    {
      "cell_type": "code",
      "source": [
        "def feature_engineering_with_pca(X_train, X_valid, X_test, n_components):\n",
        "\n",
        "    pca = PCA(n_components)\n",
        "    X_train_pca = pca.fit_transform(X_train)\n",
        "    X_train_df_pca = pd.DataFrame(X_train_pca)\n",
        "    X_valid_df_pca = pd.DataFrame(pca.transform(X_valid))\n",
        "    X_test_df_pca = pd.DataFrame(pca.transform(X_test))\n",
        "    print(\"Shape for label1 train set:\", X_train_df_pca.shape)\n",
        "    print(\"Shape for label1 validation set:\", X_valid_df_pca.shape)\n",
        "    print(\"Shape for label1 validation set:\", X_test_df_pca.shape)\n",
        "\n",
        "    return X_train_df_pca, X_valid_df_pca, X_test_df_pca"
      ],
      "metadata": {
        "execution": {
          "iopub.status.busy": "2023-09-23T13:15:23.797672Z",
          "iopub.execute_input": "2023-09-23T13:15:23.798210Z",
          "iopub.status.idle": "2023-09-23T13:15:23.807620Z",
          "shell.execute_reply.started": "2023-09-23T13:15:23.798164Z",
          "shell.execute_reply": "2023-09-23T13:15:23.806794Z"
        },
        "trusted": true,
        "id": "Bw9XBkq-wIDd"
      },
      "execution_count": null,
      "outputs": []
    },
    {
      "cell_type": "code",
      "source": [
        "def feature_engineering_with_select_kbest(X_train, y_train, X_valid, X_test, n):\n",
        "    selector = SelectKBest(f_classif, k=n)\n",
        "    X_train_df = selector.fit_transform(X_train, y_train)\n",
        "    X_valid_df = selector.transform(X_valid)\n",
        "    X_test_df = selector.transform(X_test)\n",
        "    print(\"Shape for label1 train set:\", X_train_df.shape)\n",
        "    print(\"Shape for label1 validation set:\", X_valid_df.shape)\n",
        "    print(\"Shape for label1 validation set:\", X_test_df.shape)\n",
        "    return X_train_df, X_valid_df, X_test_df"
      ],
      "metadata": {
        "execution": {
          "iopub.status.busy": "2023-09-23T13:15:26.524960Z",
          "iopub.execute_input": "2023-09-23T13:15:26.525982Z",
          "iopub.status.idle": "2023-09-23T13:15:26.532348Z",
          "shell.execute_reply.started": "2023-09-23T13:15:26.525945Z",
          "shell.execute_reply": "2023-09-23T13:15:26.531131Z"
        },
        "trusted": true,
        "id": "mqqzFW7UwIDd"
      },
      "execution_count": null,
      "outputs": []
    },
    {
      "cell_type": "code",
      "source": [
        "def build_svc_model(X_train, y_train):\n",
        "    svc_model = SVC(kernel='linear', gamma='scale')\n",
        "    svc_model.fit(X_train, y_train)\n",
        "    return svc_model"
      ],
      "metadata": {
        "execution": {
          "iopub.status.busy": "2023-09-23T13:15:31.291378Z",
          "iopub.execute_input": "2023-09-23T13:15:31.291806Z",
          "iopub.status.idle": "2023-09-23T13:15:31.298353Z",
          "shell.execute_reply.started": "2023-09-23T13:15:31.291749Z",
          "shell.execute_reply": "2023-09-23T13:15:31.296563Z"
        },
        "trusted": true,
        "id": "nXtU4pTYwIDe"
      },
      "execution_count": null,
      "outputs": []
    },
    {
      "cell_type": "code",
      "source": [
        "def evaluate(y_valid, y_pred):\n",
        "    print(f\"Accuracy: {accuracy_score(y_valid, y_pred)}\")\n",
        "    print(f\"F1 Score: {f1_score(y_valid, y_pred, average='weighted')}\")\n",
        "    print(f\"Precision: {precision_score(y_valid, y_pred, average='weighted')}\")\n",
        "    print(f\"Recall: {recall_score(y_valid, y_pred, average='weighted')}\")"
      ],
      "metadata": {
        "execution": {
          "iopub.status.busy": "2023-09-23T13:15:33.595756Z",
          "iopub.execute_input": "2023-09-23T13:15:33.596168Z",
          "iopub.status.idle": "2023-09-23T13:15:33.602117Z",
          "shell.execute_reply.started": "2023-09-23T13:15:33.596138Z",
          "shell.execute_reply": "2023-09-23T13:15:33.600923Z"
        },
        "trusted": true,
        "id": "m44kwNqewIDe"
      },
      "execution_count": null,
      "outputs": []
    },
    {
      "cell_type": "markdown",
      "source": [
        "# Data preprocessing"
      ],
      "metadata": {
        "id": "m68exIpfwIDe"
      }
    },
    {
      "cell_type": "code",
      "source": [
        "X_train_1, y_train_1, X_valid_1, y_valid_1, X_test_1, y_test_1 = data_preprocess(train, valid, test, label_1)\n",
        "\n",
        "y_train_1.info()\n",
        "X_train_1.head()"
      ],
      "metadata": {
        "execution": {
          "iopub.status.busy": "2023-09-23T13:15:35.893125Z",
          "iopub.execute_input": "2023-09-23T13:15:35.893613Z",
          "iopub.status.idle": "2023-09-23T13:15:36.337225Z",
          "shell.execute_reply.started": "2023-09-23T13:15:35.893570Z",
          "shell.execute_reply": "2023-09-23T13:15:36.336011Z"
        },
        "trusted": true,
        "colab": {
          "base_uri": "https://localhost:8080/",
          "height": 400
        },
        "id": "WJSwSygDwIDg",
        "outputId": "59f96e64-4abe-454a-8f71-9e05ad696357"
      },
      "execution_count": null,
      "outputs": [
        {
          "output_type": "stream",
          "name": "stdout",
          "text": [
            "<class 'pandas.core.series.Series'>\n",
            "RangeIndex: 28520 entries, 0 to 28519\n",
            "Series name: label_1\n",
            "Non-Null Count  Dtype\n",
            "--------------  -----\n",
            "28520 non-null  int64\n",
            "dtypes: int64(1)\n",
            "memory usage: 222.9 KB\n"
          ]
        },
        {
          "output_type": "execute_result",
          "data": {
            "text/plain": [
              "   feature_1  feature_2  feature_3  feature_4  feature_5  feature_6  \\\n",
              "0   0.329951  -0.874942   0.945030  -1.450210  -1.109347   0.273620   \n",
              "1  -0.290159  -0.511910   0.311220  -1.531774  -1.454297   0.746810   \n",
              "2   1.367056   0.541585  -1.072471   0.277606  -0.574033  -0.339486   \n",
              "3  -0.202730  -0.506566  -0.900401  -0.552425   0.990384   2.437392   \n",
              "4  -1.056595   0.430624   0.360219  -1.746826  -1.039992   0.495781   \n",
              "\n",
              "   feature_7  feature_8  feature_9  feature_10  ...  feature_759  feature_760  \\\n",
              "0   0.460258   0.583743  -0.377183   -0.230822  ...    -0.229699     0.384775   \n",
              "1  -0.087765   0.096317  -1.972106    1.899664  ...    -1.313087     1.061543   \n",
              "2  -0.605557  -0.615740  -1.175479    0.662531  ...    -1.188580     1.232482   \n",
              "3  -0.139796   0.286056   1.232407    0.048388  ...    -0.459924     0.527341   \n",
              "4  -1.020972   0.506187  -1.661261    0.456327  ...    -1.000751     0.911061   \n",
              "\n",
              "   feature_761  feature_762  feature_763  feature_764  feature_765  \\\n",
              "0    -0.463634    -0.518098    -1.785764     0.032542     0.585140   \n",
              "1    -1.005278    -1.694065    -0.260816    -1.044074     0.826399   \n",
              "2    -0.716324    -1.824596    -1.126878     0.776746     0.527946   \n",
              "3     0.507150    -0.508209     0.775750    -1.676030     1.312073   \n",
              "4    -1.133213    -1.206151    -1.713265     0.786038     0.743955   \n",
              "\n",
              "   feature_766  feature_767  feature_768  \n",
              "0     0.222540    -0.481246     1.138824  \n",
              "1     1.333254    -1.480179     1.448368  \n",
              "2     0.453604     0.127652     0.941952  \n",
              "3     0.725941    -1.295187     1.257161  \n",
              "4     1.255590    -1.369537     0.876976  \n",
              "\n",
              "[5 rows x 768 columns]"
            ],
            "text/html": [
              "\n",
              "  <div id=\"df-29af7c96-608f-450f-a4d1-14fcfa7e6a21\" class=\"colab-df-container\">\n",
              "    <div>\n",
              "<style scoped>\n",
              "    .dataframe tbody tr th:only-of-type {\n",
              "        vertical-align: middle;\n",
              "    }\n",
              "\n",
              "    .dataframe tbody tr th {\n",
              "        vertical-align: top;\n",
              "    }\n",
              "\n",
              "    .dataframe thead th {\n",
              "        text-align: right;\n",
              "    }\n",
              "</style>\n",
              "<table border=\"1\" class=\"dataframe\">\n",
              "  <thead>\n",
              "    <tr style=\"text-align: right;\">\n",
              "      <th></th>\n",
              "      <th>feature_1</th>\n",
              "      <th>feature_2</th>\n",
              "      <th>feature_3</th>\n",
              "      <th>feature_4</th>\n",
              "      <th>feature_5</th>\n",
              "      <th>feature_6</th>\n",
              "      <th>feature_7</th>\n",
              "      <th>feature_8</th>\n",
              "      <th>feature_9</th>\n",
              "      <th>feature_10</th>\n",
              "      <th>...</th>\n",
              "      <th>feature_759</th>\n",
              "      <th>feature_760</th>\n",
              "      <th>feature_761</th>\n",
              "      <th>feature_762</th>\n",
              "      <th>feature_763</th>\n",
              "      <th>feature_764</th>\n",
              "      <th>feature_765</th>\n",
              "      <th>feature_766</th>\n",
              "      <th>feature_767</th>\n",
              "      <th>feature_768</th>\n",
              "    </tr>\n",
              "  </thead>\n",
              "  <tbody>\n",
              "    <tr>\n",
              "      <th>0</th>\n",
              "      <td>0.329951</td>\n",
              "      <td>-0.874942</td>\n",
              "      <td>0.945030</td>\n",
              "      <td>-1.450210</td>\n",
              "      <td>-1.109347</td>\n",
              "      <td>0.273620</td>\n",
              "      <td>0.460258</td>\n",
              "      <td>0.583743</td>\n",
              "      <td>-0.377183</td>\n",
              "      <td>-0.230822</td>\n",
              "      <td>...</td>\n",
              "      <td>-0.229699</td>\n",
              "      <td>0.384775</td>\n",
              "      <td>-0.463634</td>\n",
              "      <td>-0.518098</td>\n",
              "      <td>-1.785764</td>\n",
              "      <td>0.032542</td>\n",
              "      <td>0.585140</td>\n",
              "      <td>0.222540</td>\n",
              "      <td>-0.481246</td>\n",
              "      <td>1.138824</td>\n",
              "    </tr>\n",
              "    <tr>\n",
              "      <th>1</th>\n",
              "      <td>-0.290159</td>\n",
              "      <td>-0.511910</td>\n",
              "      <td>0.311220</td>\n",
              "      <td>-1.531774</td>\n",
              "      <td>-1.454297</td>\n",
              "      <td>0.746810</td>\n",
              "      <td>-0.087765</td>\n",
              "      <td>0.096317</td>\n",
              "      <td>-1.972106</td>\n",
              "      <td>1.899664</td>\n",
              "      <td>...</td>\n",
              "      <td>-1.313087</td>\n",
              "      <td>1.061543</td>\n",
              "      <td>-1.005278</td>\n",
              "      <td>-1.694065</td>\n",
              "      <td>-0.260816</td>\n",
              "      <td>-1.044074</td>\n",
              "      <td>0.826399</td>\n",
              "      <td>1.333254</td>\n",
              "      <td>-1.480179</td>\n",
              "      <td>1.448368</td>\n",
              "    </tr>\n",
              "    <tr>\n",
              "      <th>2</th>\n",
              "      <td>1.367056</td>\n",
              "      <td>0.541585</td>\n",
              "      <td>-1.072471</td>\n",
              "      <td>0.277606</td>\n",
              "      <td>-0.574033</td>\n",
              "      <td>-0.339486</td>\n",
              "      <td>-0.605557</td>\n",
              "      <td>-0.615740</td>\n",
              "      <td>-1.175479</td>\n",
              "      <td>0.662531</td>\n",
              "      <td>...</td>\n",
              "      <td>-1.188580</td>\n",
              "      <td>1.232482</td>\n",
              "      <td>-0.716324</td>\n",
              "      <td>-1.824596</td>\n",
              "      <td>-1.126878</td>\n",
              "      <td>0.776746</td>\n",
              "      <td>0.527946</td>\n",
              "      <td>0.453604</td>\n",
              "      <td>0.127652</td>\n",
              "      <td>0.941952</td>\n",
              "    </tr>\n",
              "    <tr>\n",
              "      <th>3</th>\n",
              "      <td>-0.202730</td>\n",
              "      <td>-0.506566</td>\n",
              "      <td>-0.900401</td>\n",
              "      <td>-0.552425</td>\n",
              "      <td>0.990384</td>\n",
              "      <td>2.437392</td>\n",
              "      <td>-0.139796</td>\n",
              "      <td>0.286056</td>\n",
              "      <td>1.232407</td>\n",
              "      <td>0.048388</td>\n",
              "      <td>...</td>\n",
              "      <td>-0.459924</td>\n",
              "      <td>0.527341</td>\n",
              "      <td>0.507150</td>\n",
              "      <td>-0.508209</td>\n",
              "      <td>0.775750</td>\n",
              "      <td>-1.676030</td>\n",
              "      <td>1.312073</td>\n",
              "      <td>0.725941</td>\n",
              "      <td>-1.295187</td>\n",
              "      <td>1.257161</td>\n",
              "    </tr>\n",
              "    <tr>\n",
              "      <th>4</th>\n",
              "      <td>-1.056595</td>\n",
              "      <td>0.430624</td>\n",
              "      <td>0.360219</td>\n",
              "      <td>-1.746826</td>\n",
              "      <td>-1.039992</td>\n",
              "      <td>0.495781</td>\n",
              "      <td>-1.020972</td>\n",
              "      <td>0.506187</td>\n",
              "      <td>-1.661261</td>\n",
              "      <td>0.456327</td>\n",
              "      <td>...</td>\n",
              "      <td>-1.000751</td>\n",
              "      <td>0.911061</td>\n",
              "      <td>-1.133213</td>\n",
              "      <td>-1.206151</td>\n",
              "      <td>-1.713265</td>\n",
              "      <td>0.786038</td>\n",
              "      <td>0.743955</td>\n",
              "      <td>1.255590</td>\n",
              "      <td>-1.369537</td>\n",
              "      <td>0.876976</td>\n",
              "    </tr>\n",
              "  </tbody>\n",
              "</table>\n",
              "<p>5 rows × 768 columns</p>\n",
              "</div>\n",
              "    <div class=\"colab-df-buttons\">\n",
              "\n",
              "  <div class=\"colab-df-container\">\n",
              "    <button class=\"colab-df-convert\" onclick=\"convertToInteractive('df-29af7c96-608f-450f-a4d1-14fcfa7e6a21')\"\n",
              "            title=\"Convert this dataframe to an interactive table.\"\n",
              "            style=\"display:none;\">\n",
              "\n",
              "  <svg xmlns=\"http://www.w3.org/2000/svg\" height=\"24px\" viewBox=\"0 -960 960 960\">\n",
              "    <path d=\"M120-120v-720h720v720H120Zm60-500h600v-160H180v160Zm220 220h160v-160H400v160Zm0 220h160v-160H400v160ZM180-400h160v-160H180v160Zm440 0h160v-160H620v160ZM180-180h160v-160H180v160Zm440 0h160v-160H620v160Z\"/>\n",
              "  </svg>\n",
              "    </button>\n",
              "\n",
              "  <style>\n",
              "    .colab-df-container {\n",
              "      display:flex;\n",
              "      gap: 12px;\n",
              "    }\n",
              "\n",
              "    .colab-df-convert {\n",
              "      background-color: #E8F0FE;\n",
              "      border: none;\n",
              "      border-radius: 50%;\n",
              "      cursor: pointer;\n",
              "      display: none;\n",
              "      fill: #1967D2;\n",
              "      height: 32px;\n",
              "      padding: 0 0 0 0;\n",
              "      width: 32px;\n",
              "    }\n",
              "\n",
              "    .colab-df-convert:hover {\n",
              "      background-color: #E2EBFA;\n",
              "      box-shadow: 0px 1px 2px rgba(60, 64, 67, 0.3), 0px 1px 3px 1px rgba(60, 64, 67, 0.15);\n",
              "      fill: #174EA6;\n",
              "    }\n",
              "\n",
              "    .colab-df-buttons div {\n",
              "      margin-bottom: 4px;\n",
              "    }\n",
              "\n",
              "    [theme=dark] .colab-df-convert {\n",
              "      background-color: #3B4455;\n",
              "      fill: #D2E3FC;\n",
              "    }\n",
              "\n",
              "    [theme=dark] .colab-df-convert:hover {\n",
              "      background-color: #434B5C;\n",
              "      box-shadow: 0px 1px 3px 1px rgba(0, 0, 0, 0.15);\n",
              "      filter: drop-shadow(0px 1px 2px rgba(0, 0, 0, 0.3));\n",
              "      fill: #FFFFFF;\n",
              "    }\n",
              "  </style>\n",
              "\n",
              "    <script>\n",
              "      const buttonEl =\n",
              "        document.querySelector('#df-29af7c96-608f-450f-a4d1-14fcfa7e6a21 button.colab-df-convert');\n",
              "      buttonEl.style.display =\n",
              "        google.colab.kernel.accessAllowed ? 'block' : 'none';\n",
              "\n",
              "      async function convertToInteractive(key) {\n",
              "        const element = document.querySelector('#df-29af7c96-608f-450f-a4d1-14fcfa7e6a21');\n",
              "        const dataTable =\n",
              "          await google.colab.kernel.invokeFunction('convertToInteractive',\n",
              "                                                    [key], {});\n",
              "        if (!dataTable) return;\n",
              "\n",
              "        const docLinkHtml = 'Like what you see? Visit the ' +\n",
              "          '<a target=\"_blank\" href=https://colab.research.google.com/notebooks/data_table.ipynb>data table notebook</a>'\n",
              "          + ' to learn more about interactive tables.';\n",
              "        element.innerHTML = '';\n",
              "        dataTable['output_type'] = 'display_data';\n",
              "        await google.colab.output.renderOutput(dataTable, element);\n",
              "        const docLink = document.createElement('div');\n",
              "        docLink.innerHTML = docLinkHtml;\n",
              "        element.appendChild(docLink);\n",
              "      }\n",
              "    </script>\n",
              "  </div>\n",
              "\n",
              "\n",
              "<div id=\"df-8c40364b-e062-433b-9372-2e4d79342a3b\">\n",
              "  <button class=\"colab-df-quickchart\" onclick=\"quickchart('df-8c40364b-e062-433b-9372-2e4d79342a3b')\"\n",
              "            title=\"Suggest charts.\"\n",
              "            style=\"display:none;\">\n",
              "\n",
              "<svg xmlns=\"http://www.w3.org/2000/svg\" height=\"24px\"viewBox=\"0 0 24 24\"\n",
              "     width=\"24px\">\n",
              "    <g>\n",
              "        <path d=\"M19 3H5c-1.1 0-2 .9-2 2v14c0 1.1.9 2 2 2h14c1.1 0 2-.9 2-2V5c0-1.1-.9-2-2-2zM9 17H7v-7h2v7zm4 0h-2V7h2v10zm4 0h-2v-4h2v4z\"/>\n",
              "    </g>\n",
              "</svg>\n",
              "  </button>\n",
              "\n",
              "<style>\n",
              "  .colab-df-quickchart {\n",
              "      --bg-color: #E8F0FE;\n",
              "      --fill-color: #1967D2;\n",
              "      --hover-bg-color: #E2EBFA;\n",
              "      --hover-fill-color: #174EA6;\n",
              "      --disabled-fill-color: #AAA;\n",
              "      --disabled-bg-color: #DDD;\n",
              "  }\n",
              "\n",
              "  [theme=dark] .colab-df-quickchart {\n",
              "      --bg-color: #3B4455;\n",
              "      --fill-color: #D2E3FC;\n",
              "      --hover-bg-color: #434B5C;\n",
              "      --hover-fill-color: #FFFFFF;\n",
              "      --disabled-bg-color: #3B4455;\n",
              "      --disabled-fill-color: #666;\n",
              "  }\n",
              "\n",
              "  .colab-df-quickchart {\n",
              "    background-color: var(--bg-color);\n",
              "    border: none;\n",
              "    border-radius: 50%;\n",
              "    cursor: pointer;\n",
              "    display: none;\n",
              "    fill: var(--fill-color);\n",
              "    height: 32px;\n",
              "    padding: 0;\n",
              "    width: 32px;\n",
              "  }\n",
              "\n",
              "  .colab-df-quickchart:hover {\n",
              "    background-color: var(--hover-bg-color);\n",
              "    box-shadow: 0 1px 2px rgba(60, 64, 67, 0.3), 0 1px 3px 1px rgba(60, 64, 67, 0.15);\n",
              "    fill: var(--button-hover-fill-color);\n",
              "  }\n",
              "\n",
              "  .colab-df-quickchart-complete:disabled,\n",
              "  .colab-df-quickchart-complete:disabled:hover {\n",
              "    background-color: var(--disabled-bg-color);\n",
              "    fill: var(--disabled-fill-color);\n",
              "    box-shadow: none;\n",
              "  }\n",
              "\n",
              "  .colab-df-spinner {\n",
              "    border: 2px solid var(--fill-color);\n",
              "    border-color: transparent;\n",
              "    border-bottom-color: var(--fill-color);\n",
              "    animation:\n",
              "      spin 1s steps(1) infinite;\n",
              "  }\n",
              "\n",
              "  @keyframes spin {\n",
              "    0% {\n",
              "      border-color: transparent;\n",
              "      border-bottom-color: var(--fill-color);\n",
              "      border-left-color: var(--fill-color);\n",
              "    }\n",
              "    20% {\n",
              "      border-color: transparent;\n",
              "      border-left-color: var(--fill-color);\n",
              "      border-top-color: var(--fill-color);\n",
              "    }\n",
              "    30% {\n",
              "      border-color: transparent;\n",
              "      border-left-color: var(--fill-color);\n",
              "      border-top-color: var(--fill-color);\n",
              "      border-right-color: var(--fill-color);\n",
              "    }\n",
              "    40% {\n",
              "      border-color: transparent;\n",
              "      border-right-color: var(--fill-color);\n",
              "      border-top-color: var(--fill-color);\n",
              "    }\n",
              "    60% {\n",
              "      border-color: transparent;\n",
              "      border-right-color: var(--fill-color);\n",
              "    }\n",
              "    80% {\n",
              "      border-color: transparent;\n",
              "      border-right-color: var(--fill-color);\n",
              "      border-bottom-color: var(--fill-color);\n",
              "    }\n",
              "    90% {\n",
              "      border-color: transparent;\n",
              "      border-bottom-color: var(--fill-color);\n",
              "    }\n",
              "  }\n",
              "</style>\n",
              "\n",
              "  <script>\n",
              "    async function quickchart(key) {\n",
              "      const quickchartButtonEl =\n",
              "        document.querySelector('#' + key + ' button');\n",
              "      quickchartButtonEl.disabled = true;  // To prevent multiple clicks.\n",
              "      quickchartButtonEl.classList.add('colab-df-spinner');\n",
              "      try {\n",
              "        const charts = await google.colab.kernel.invokeFunction(\n",
              "            'suggestCharts', [key], {});\n",
              "      } catch (error) {\n",
              "        console.error('Error during call to suggestCharts:', error);\n",
              "      }\n",
              "      quickchartButtonEl.classList.remove('colab-df-spinner');\n",
              "      quickchartButtonEl.classList.add('colab-df-quickchart-complete');\n",
              "    }\n",
              "    (() => {\n",
              "      let quickchartButtonEl =\n",
              "        document.querySelector('#df-8c40364b-e062-433b-9372-2e4d79342a3b button');\n",
              "      quickchartButtonEl.style.display =\n",
              "        google.colab.kernel.accessAllowed ? 'block' : 'none';\n",
              "    })();\n",
              "  </script>\n",
              "</div>\n",
              "    </div>\n",
              "  </div>\n"
            ]
          },
          "metadata": {},
          "execution_count": 5
        }
      ]
    },
    {
      "cell_type": "code",
      "source": [
        "plt.hist(y_train_1, bins=20, edgecolor='k')\n",
        "plt.xlabel(label_1)\n",
        "plt.ylabel('Frequency')\n",
        "plt.title(f'Distribution of {label_1}')\n",
        "plt.show()"
      ],
      "metadata": {
        "execution": {
          "iopub.status.busy": "2023-09-23T13:15:38.360626Z",
          "iopub.execute_input": "2023-09-23T13:15:38.361041Z",
          "iopub.status.idle": "2023-09-23T13:15:38.631055Z",
          "shell.execute_reply.started": "2023-09-23T13:15:38.361002Z",
          "shell.execute_reply": "2023-09-23T13:15:38.630101Z"
        },
        "trusted": true,
        "colab": {
          "base_uri": "https://localhost:8080/",
          "height": 472
        },
        "id": "Jf8Jl79fwIDg",
        "outputId": "34ed0ea5-4fee-4cf6-edbe-971dd96565f8"
      },
      "execution_count": null,
      "outputs": [
        {
          "output_type": "display_data",
          "data": {
            "text/plain": [
              "<Figure size 640x480 with 1 Axes>"
            ],
            "image/png": "[encoded data removed]"
          },
          "metadata": {}
        }
      ]
    },
    {
      "cell_type": "markdown",
      "source": [
        "# Cross validation - Lable 01"
      ],
      "metadata": {
        "id": "TVYGrj2UwIDg"
      }
    },
    {
      "cell_type": "code",
      "source": [
        "svc_model = SVC()\n",
        "knn_model = KNeighborsClassifier(n_neighbors=5)\n",
        "xgb_model = xgb.XGBClassifier()\n",
        "\n",
        "\n",
        "num_folds = 5\n",
        "\n",
        "kfold = KFold(n_splits=num_folds, shuffle=True, random_state=42)\n",
        "\n",
        "svc_scores = cross_val_score(svc_model, X_train_1, y_train_1, cv=kfold)\n",
        "print(\"SVC Cross-Validation Scores:\")\n",
        "for i, score in enumerate(svc_scores):\n",
        "    print(f\"Fold {i+1} - Accuracy: {score:.2f}\")\n",
        "svc_mean_accuracy = svc_scores.mean()\n",
        "print(f\"Mean Accuracy (SVC): {svc_mean_accuracy:.2f}\")\n",
        "\n",
        "knn_scores = cross_val_score(knn_model, X_train_1, y_train_1, cv=kfold)\n",
        "print(\"\\nKNN Cross-Validation Scores:\")\n",
        "for i, score in enumerate(knn_scores):\n",
        "    print(f\"Fold {i+1} - Accuracy: {score:.2f}\")\n",
        "knn_mean_accuracy = knn_scores.mean()\n",
        "print(f\"Mean Accuracy (KNN): {knn_mean_accuracy:.2f}\")"
      ],
      "metadata": {
        "colab": {
          "base_uri": "https://localhost:8080/"
        },
        "id": "8vY6y4RpYL2N",
        "outputId": "745ab875-6701-4e21-9e0f-7bca64f02958"
      },
      "execution_count": null,
      "outputs": [
        {
          "output_type": "stream",
          "name": "stdout",
          "text": [
            "SVC Cross-Validation Scores:\n",
            "Fold 1 - Accuracy: 0.84\n",
            "Fold 2 - Accuracy: 0.84\n",
            "Fold 3 - Accuracy: 0.85\n",
            "Fold 4 - Accuracy: 0.84\n",
            "Fold 5 - Accuracy: 0.84\n",
            "Mean Accuracy (SVC): 0.84\n",
            "\n",
            "KNN Cross-Validation Scores:\n",
            "Fold 1 - Accuracy: 0.65\n",
            "Fold 2 - Accuracy: 0.66\n",
            "Fold 3 - Accuracy: 0.66\n",
            "Fold 4 - Accuracy: 0.66\n",
            "Fold 5 - Accuracy: 0.65\n",
            "Mean Accuracy (KNN): 0.66\n"
          ]
        }
      ]
    },
    {
      "cell_type": "code",
      "source": [
        "rf_model = RandomForestClassifier(n_estimators=100, random_state=42)\n",
        "rf_scores = cross_val_score(rf_model, X_train_1, y_train_1, cv=kfold)\n",
        "print(\"Random Forest Cross-Validation Scores:\")\n",
        "for i, score in enumerate(rf_scores):\n",
        "    print(f\"Fold {i+1} - Accuracy: {score:.2f}\")\n",
        "rf_mean_accuracy = rf_scores.mean()\n",
        "print(f\"Mean Accuracy (Random Forest): {rf_mean_accuracy:.2f}\")"
      ],
      "metadata": {
        "colab": {
          "base_uri": "https://localhost:8080/"
        },
        "id": "w0VaeB2EeGqm",
        "outputId": "bdd3bc2e-72b3-4d47-b49a-e56c773cfc1e"
      },
      "execution_count": null,
      "outputs": [
        {
          "output_type": "stream",
          "name": "stdout",
          "text": [
            "Random Forest Cross-Validation Scores:\n",
            "Fold 1 - Accuracy: 0.65\n",
            "Fold 2 - Accuracy: 0.65\n",
            "Fold 3 - Accuracy: 0.65\n",
            "Fold 4 - Accuracy: 0.64\n",
            "Fold 5 - Accuracy: 0.65\n",
            "Mean Accuracy (Random Forest): 0.65\n"
          ]
        }
      ]
    },
    {
      "cell_type": "markdown",
      "source": [
        "SVM"
      ],
      "metadata": {
        "id": "kLUe5FzVwIDh"
      }
    },
    {
      "cell_type": "code",
      "source": [
        "model_1_svc_before = build_svc_model(X_train_1, y_train_1)\n",
        "\n",
        "y_pred_1_svc_before = model_1_svc_before.predict(X_valid_1)\n",
        "\n",
        "evaluate(y_valid_1, y_pred_1_svc_before)"
      ],
      "metadata": {
        "execution": {
          "iopub.status.busy": "2023-09-23T13:15:43.867783Z",
          "iopub.execute_input": "2023-09-23T13:15:43.868188Z",
          "iopub.status.idle": "2023-09-23T13:16:46.538048Z",
          "shell.execute_reply.started": "2023-09-23T13:15:43.868155Z",
          "shell.execute_reply": "2023-09-23T13:16:46.536703Z"
        },
        "trusted": true,
        "id": "SQiS4wbNwIDh",
        "colab": {
          "base_uri": "https://localhost:8080/"
        },
        "outputId": "04e2fcea-c4d8-4096-b434-b9c1d89bb036"
      },
      "execution_count": null,
      "outputs": [
        {
          "output_type": "stream",
          "name": "stdout",
          "text": [
            "Accuracy: 0.8786666666666667\n",
            "F1 Score: 0.879863038667138\n",
            "Precision: 0.8873460760372525\n",
            "Recall: 0.8786666666666667\n",
            "Accuracy: 0.9093333333333333\n",
            "F1 Score: 0.9090911993120866\n",
            "Precision: 0.9128135246991285\n",
            "Recall: 0.9093333333333333\n"
          ]
        }
      ]
    },
    {
      "cell_type": "markdown",
      "source": [
        "# Feature reduction using PCA"
      ],
      "metadata": {
        "id": "IAtCeFUNwIDh"
      }
    },
    {
      "cell_type": "code",
      "source": [
        "X_train_1_pca, X_valid_1_pca, X_test_1_pca = feature_engineering_with_pca(X_train_1, X_valid_1, X_test_1, n_components=0.95)"
      ],
      "metadata": {
        "execution": {
          "iopub.status.busy": "2023-09-23T13:16:57.079613Z",
          "iopub.execute_input": "2023-09-23T13:16:57.080709Z",
          "iopub.status.idle": "2023-09-23T13:17:00.840495Z",
          "shell.execute_reply.started": "2023-09-23T13:16:57.080668Z",
          "shell.execute_reply": "2023-09-23T13:17:00.839332Z"
        },
        "trusted": true,
        "colab": {
          "base_uri": "https://localhost:8080/"
        },
        "id": "07rhD86CwIDi",
        "outputId": "beb00355-360d-421c-9a6b-40589d7096dc"
      },
      "execution_count": null,
      "outputs": [
        {
          "output_type": "stream",
          "name": "stdout",
          "text": [
            "Shape for label1 train set: (28520, 112)\n",
            "Shape for label1 validation set: (750, 112)\n",
            "Shape for label1 validation set: (750, 112)\n"
          ]
        }
      ]
    },
    {
      "cell_type": "code",
      "source": [
        "model_1_pca_svc = build_svc_model(X_train_1_pca, y_train_1)\n",
        "\n",
        "y_pred_1_svc = model_1_pca_svc.predict(X_valid_1_pca)\n",
        "\n",
        "print(confusion_matrix(y_valid_1, y_pred_1_svc))\n",
        "evaluate(y_valid_1, y_pred_1_svc)"
      ],
      "metadata": {
        "execution": {
          "iopub.status.busy": "2023-09-23T13:17:07.299727Z",
          "iopub.execute_input": "2023-09-23T13:17:07.300167Z",
          "iopub.status.idle": "2023-09-23T13:17:35.668734Z",
          "shell.execute_reply.started": "2023-09-23T13:17:07.300134Z",
          "shell.execute_reply": "2023-09-23T13:17:35.667554Z"
        },
        "trusted": true,
        "colab": {
          "base_uri": "https://localhost:8080/"
        },
        "id": "9vLEq8zuwIDi",
        "outputId": "c518616d-5fe4-4b62-c351-e0c0d55aa4a2"
      },
      "execution_count": null,
      "outputs": [
        {
          "output_type": "stream",
          "name": "stdout",
          "text": [
            "[[10  0  0 ...  0  0  0]\n",
            " [ 0  5  1 ...  0  0  0]\n",
            " [ 0  0 10 ...  0  0  0]\n",
            " ...\n",
            " [ 0  0  0 ... 18  0  1]\n",
            " [ 0  0  0 ...  0  8  0]\n",
            " [ 1  0  0 ...  0  0  6]]\n",
            "Accuracy: 0.776\n",
            "F1 Score: 0.7779581353339394\n",
            "Precision: 0.7959751779008745\n",
            "Recall: 0.776\n"
          ]
        }
      ]
    },
    {
      "cell_type": "markdown",
      "source": [
        "# Hyperparameter Tuning"
      ],
      "metadata": {
        "id": "6CYEEIbewIDi"
      }
    },
    {
      "cell_type": "code",
      "source": [
        "param_grid_1 = {\n",
        "    'C': [0.1, 1, 10, 100],\n",
        "    'kernel': ['rbf']\n",
        "}\n",
        "\n",
        "model_1_svc = SVC()\n",
        "\n",
        "grid_search_1 = GridSearchCV(estimator=model_1_svc, param_grid=param_grid_1, cv=5, verbose=3, n_jobs=-1, scoring='accuracy')\n",
        "\n",
        "grid_search_1.fit(X_train_1_pca, y_train_1)\n",
        "\n",
        "best_params_1 = grid_search_1.best_params_\n",
        "best_model_1 = grid_search_1.best_estimator_\n",
        "\n",
        "valid_accuracy_1 = best_model_1.score(X_valid_1_pca, y_valid_1)\n",
        "\n",
        "print(\"Best Hyperparameters:\", best_params_1)\n",
        "print(\"Test Accuracy:\", valid_accuracy_1)\n",
        "#Best Hyperparameters: {'C': 100, 'kernel': 'rbf'}\n",
        "#Test Accuracy: 0.9813333333333333"
      ],
      "metadata": {
        "execution": {
          "iopub.status.busy": "2023-09-23T13:17:42.307441Z",
          "iopub.execute_input": "2023-09-23T13:17:42.307975Z",
          "iopub.status.idle": "2023-09-23T13:59:36.884297Z",
          "shell.execute_reply.started": "2023-09-23T13:17:42.307923Z",
          "shell.execute_reply": "2023-09-23T13:59:36.882973Z"
        },
        "trusted": true,
        "id": "dzGapUMqwIDi"
      },
      "execution_count": null,
      "outputs": []
    },
    {
      "cell_type": "markdown",
      "source": [
        "# Predicting label 1"
      ],
      "metadata": {
        "id": "vN0Iv2egwIDi"
      }
    },
    {
      "cell_type": "code",
      "source": [
        "model_1_pca_svc_2 = SVC(C= 100, kernel='rbf', class_weight=\"balanced\")\n",
        "model_1_pca_svc_2.fit(X_train_1_pca, y_train_1)\n",
        "y_pred_1_svc_2 = model_1_pca_svc_2.predict(X_valid_1_pca)\n",
        "\n",
        "print(confusion_matrix(y_valid_1, y_pred_1_svc_2))\n",
        "evaluate(y_valid_1, y_pred_1_svc_2)"
      ],
      "metadata": {
        "execution": {
          "iopub.status.busy": "2023-09-23T14:49:15.241687Z",
          "iopub.execute_input": "2023-09-23T14:49:15.242099Z",
          "iopub.status.idle": "2023-09-23T14:50:40.743063Z",
          "shell.execute_reply.started": "2023-09-23T14:49:15.242065Z",
          "shell.execute_reply": "2023-09-23T14:50:40.741721Z"
        },
        "trusted": true,
        "id": "ydFbqISIwIDj"
      },
      "execution_count": null,
      "outputs": []
    },
    {
      "cell_type": "code",
      "source": [
        "y_pred_1 = model_1_pca_svc_2.predict(X_test_1_pca)\n",
        "output_df_1 = pd.DataFrame({'ID': range(1, len(y_pred_1) + 1), 'label_1': y_pred_1})\n",
        "\n",
        "output_file_path_1 = f\"{WORKING_DIR}/layer_12_1_out_svc_final_today.csv\"\n",
        "output_df_1.to_csv(output_file_path_1, index=False)\n",
        "print(f'Predictions saved to {output_file_path_1}')"
      ],
      "metadata": {
        "execution": {
          "iopub.status.busy": "2023-09-23T14:50:44.062221Z",
          "iopub.execute_input": "2023-09-23T14:50:44.062608Z",
          "iopub.status.idle": "2023-09-23T14:50:56.320847Z",
          "shell.execute_reply.started": "2023-09-23T14:50:44.062577Z",
          "shell.execute_reply": "2023-09-23T14:50:56.319429Z"
        },
        "trusted": true,
        "colab": {
          "base_uri": "https://localhost:8080/"
        },
        "id": "V1W8tN-awIDj",
        "outputId": "d9980a8a-411c-4b55-d627-527350ac7490"
      },
      "execution_count": null,
      "outputs": [
        {
          "output_type": "stream",
          "name": "stdout",
          "text": [
            "Accuracy: 0.8706666666666667\n",
            "F1 Score: 0.8713886758493926\n",
            "Precision: 0.8830024168641816\n",
            "Recall: 0.8706666666666667\n",
            "Predictions saved to /content/drive/MyDrive/ML/ML project/Layer 12/layer_12_1_out_svc_final_today.csv\n"
          ]
        }
      ]
    }
  ]
}