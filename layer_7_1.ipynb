{
  "metadata": {
    "kernelspec": {
      "language": "python",
      "display_name": "Python 3",
      "name": "python3"
    },
    "language_info": {
      "name": "python",
      "version": "3.10.12",
      "mimetype": "text/x-python",
      "codemirror_mode": {
        "name": "ipython",
        "version": 3
      },
      "pygments_lexer": "ipython3",
      "nbconvert_exporter": "python",
      "file_extension": ".py"
    },
    "colab": {
      "provenance": [],
      "include_colab_link": true
    }
  },
  "nbformat_minor": 0,
  "nbformat": 4,
  "cells": [
    {
      "cell_type": "markdown",
      "metadata": {
        "id": "view-in-github",
        "colab_type": "text"
      },
      "source": [
        "<a href=\"https://colab.research.google.com/github/KumuthuA/ml-project/blob/main/layer_7_1.ipynb\" target=\"_parent\"><img src=\"https://colab.research.google.com/assets/colab-badge.svg\" alt=\"Open In Colab\"/></a>"
      ]
    },
    {
      "cell_type": "code",
      "source": [
        "import pandas as pd\n",
        "import numpy as np\n",
        "from sklearn import svm\n",
        "from sklearn.model_selection import train_test_split\n",
        "from sklearn.preprocessing import StandardScaler, LabelEncoder\n",
        "from sklearn.neighbors import KNeighborsClassifier\n",
        "from sklearn.ensemble import RandomForestClassifier\n",
        "from sklearn.metrics import accuracy_score, confusion_matrix, f1_score, precision_score, recall_score, classification_report\n",
        "from sklearn.decomposition import PCA\n",
        "from sklearn.feature_selection import SelectKBest, f_classif\n",
        "from imblearn.over_sampling import RandomOverSampler\n",
        "from sklearn.model_selection import GridSearchCV\n",
        "from sklearn.model_selection import cross_val_score, KFold\n",
        "import seaborn as sns\n",
        "import matplotlib.pyplot as plt\n",
        "from sklearn.svm import SVC\n",
        "from google.colab import drive"
      ],
      "metadata": {
        "_uuid": "8f2839f25d086af736a60e9eeb907d3b93b6e0e5",
        "_cell_guid": "b1076dfc-b9ad-4769-8c92-a6c4dae69d19",
        "execution": {
          "iopub.status.busy": "2023-09-23T13:15:11.599338Z",
          "iopub.execute_input": "2023-09-23T13:15:11.599812Z",
          "iopub.status.idle": "2023-09-23T13:15:11.610649Z",
          "shell.execute_reply.started": "2023-09-23T13:15:11.599777Z",
          "shell.execute_reply": "2023-09-23T13:15:11.609286Z"
        },
        "trusted": true,
        "id": "Gvvj9FNtVon6"
      },
      "execution_count": null,
      "outputs": []
    },
    {
      "cell_type": "code",
      "source": [
        "global labels\n",
        "global features\n",
        "labels = [f\"label_{i+1}\" for i in range(4)]\n",
        "features = [f'feature_{i+1}' for i in range(768)]\n",
        "label_1 = labels[0]\n",
        "label_2 = labels[1]\n",
        "label_3 = labels[2]\n",
        "label_4 = labels[3]"
      ],
      "metadata": {
        "execution": {
          "iopub.status.busy": "2023-09-23T13:15:13.780898Z",
          "iopub.execute_input": "2023-09-23T13:15:13.781320Z",
          "iopub.status.idle": "2023-09-23T13:15:13.787992Z",
          "shell.execute_reply.started": "2023-09-23T13:15:13.781284Z",
          "shell.execute_reply": "2023-09-23T13:15:13.786834Z"
        },
        "trusted": true,
        "id": "93NWxacOVon8"
      },
      "execution_count": null,
      "outputs": []
    },
    {
      "cell_type": "code",
      "source": [
        "MOUNT_PATH='/content/drive'\n",
        "drive.mount(MOUNT_PATH)\n",
        "WORKING_DIR=f\"{MOUNT_PATH}/MyDrive/ML/ML project/Layer 7\"\n",
        "train = pd.read_csv(f\"{WORKING_DIR}/layer_7_train.csv\")\n",
        "valid = pd.read_csv(f\"{WORKING_DIR}/layer_7_valid.csv\")\n",
        "test = pd.read_csv(f\"{WORKING_DIR}/layer_7_test.csv\")"
      ],
      "metadata": {
        "execution": {
          "iopub.status.busy": "2023-09-23T13:15:15.732102Z",
          "iopub.execute_input": "2023-09-23T13:15:15.732509Z",
          "iopub.status.idle": "2023-09-23T13:15:23.783797Z",
          "shell.execute_reply.started": "2023-09-23T13:15:15.732473Z",
          "shell.execute_reply": "2023-09-23T13:15:23.782599Z"
        },
        "trusted": true,
        "colab": {
          "base_uri": "https://localhost:8080/"
        },
        "id": "Ed7xdQsUVon8",
        "outputId": "725b709e-e95a-4c2f-a7d7-3f0190ec9d43"
      },
      "execution_count": null,
      "outputs": [
        {
          "output_type": "stream",
          "name": "stdout",
          "text": [
            "Drive already mounted at /content/drive; to attempt to forcibly remount, call drive.mount(\"/content/drive\", force_remount=True).\n"
          ]
        }
      ]
    },
    {
      "cell_type": "markdown",
      "source": [
        "# Defining functions"
      ],
      "metadata": {
        "id": "QyVZOy4E98mA"
      }
    },
    {
      "cell_type": "code",
      "source": [
        "def data_preprocess(train_df, valid_df, test_df, label):\n",
        "    scaler = StandardScaler()\n",
        "\n",
        "    # Apply feature scaling to training data\n",
        "    X_train = pd.DataFrame(scaler.fit_transform(train_df.drop(labels, axis=1)), columns=features)\n",
        "    y_train = train_df[label]\n",
        "\n",
        "    # Apply feature scaling to validation data\n",
        "    X_valid = pd.DataFrame(scaler.transform(valid_df.drop(labels, axis=1)), columns=features)\n",
        "    y_valid = valid_df[label]\n",
        "\n",
        "    # Apply feature scaling to test data\n",
        "    X_test = pd.DataFrame(scaler.transform(test_df.drop(labels, axis=1)), columns=features)\n",
        "    y_test = test_df[label]\n",
        "    return X_train, y_train, X_valid, y_valid, X_test, y_test"
      ],
      "metadata": {
        "execution": {
          "iopub.status.busy": "2023-09-23T13:15:23.786361Z",
          "iopub.execute_input": "2023-09-23T13:15:23.786813Z",
          "iopub.status.idle": "2023-09-23T13:15:23.795715Z",
          "shell.execute_reply.started": "2023-09-23T13:15:23.786749Z",
          "shell.execute_reply": "2023-09-23T13:15:23.794376Z"
        },
        "trusted": true,
        "id": "aKnoUTlmVon8"
      },
      "execution_count": null,
      "outputs": []
    },
    {
      "cell_type": "code",
      "source": [
        "def feature_engineering_with_pca(X_train, X_valid, X_test, n_components):\n",
        "\n",
        "    # Apply PCA for dimensionality reduction\n",
        "    pca = PCA(n_components)\n",
        "\n",
        "    # Create a new DataFrame with the PCA-transformed features\n",
        "    X_train_pca = pca.fit_transform(X_train)\n",
        "    X_train_df_pca = pd.DataFrame(X_train_pca)\n",
        "    X_valid_df_pca = pd.DataFrame(pca.transform(X_valid))\n",
        "    X_test_df_pca = pd.DataFrame(pca.transform(X_test))\n",
        "    print(\"Shape for label1 train set:\", X_train_df_pca.shape)\n",
        "    print(\"Shape for label1 validation set:\", X_valid_df_pca.shape)\n",
        "    print(\"Shape for label1 validation set:\", X_test_df_pca.shape)\n",
        "\n",
        "    return X_train_df_pca, X_valid_df_pca, X_test_df_pca"
      ],
      "metadata": {
        "execution": {
          "iopub.status.busy": "2023-09-23T13:15:23.797672Z",
          "iopub.execute_input": "2023-09-23T13:15:23.798210Z",
          "iopub.status.idle": "2023-09-23T13:15:23.807620Z",
          "shell.execute_reply.started": "2023-09-23T13:15:23.798164Z",
          "shell.execute_reply": "2023-09-23T13:15:23.806794Z"
        },
        "trusted": true,
        "id": "P9yZwqrBVon9"
      },
      "execution_count": null,
      "outputs": []
    },
    {
      "cell_type": "code",
      "source": [
        "def evaluate(y_valid, y_pred):\n",
        "    print(f\"Accuracy: {accuracy_score(y_valid, y_pred)}\")\n",
        "    print(f\"F1 Score: {f1_score(y_valid, y_pred, average='weighted')}\")\n",
        "    print(f\"Precision: {precision_score(y_valid, y_pred, average='weighted')}\")\n",
        "    print(f\"Recall: {recall_score(y_valid, y_pred, average='weighted')}\")"
      ],
      "metadata": {
        "execution": {
          "iopub.status.busy": "2023-09-23T13:15:33.595756Z",
          "iopub.execute_input": "2023-09-23T13:15:33.596168Z",
          "iopub.status.idle": "2023-09-23T13:15:33.602117Z",
          "shell.execute_reply.started": "2023-09-23T13:15:33.596138Z",
          "shell.execute_reply": "2023-09-23T13:15:33.600923Z"
        },
        "trusted": true,
        "id": "BI_ltMQUVon9"
      },
      "execution_count": null,
      "outputs": []
    },
    {
      "cell_type": "markdown",
      "source": [
        "# Data preprocessing - Label 01"
      ],
      "metadata": {
        "id": "QorluIcgVon-"
      }
    },
    {
      "cell_type": "code",
      "source": [
        "X_train_1, y_train_1, X_valid_1, y_valid_1, X_test_1, y_test_1 = data_preprocess(train, valid, test, label_1)\n",
        "\n",
        "y_train_1.info()"
      ],
      "metadata": {
        "execution": {
          "iopub.status.busy": "2023-09-23T13:15:35.893125Z",
          "iopub.execute_input": "2023-09-23T13:15:35.893613Z",
          "iopub.status.idle": "2023-09-23T13:15:36.337225Z",
          "shell.execute_reply.started": "2023-09-23T13:15:35.893570Z",
          "shell.execute_reply": "2023-09-23T13:15:36.336011Z"
        },
        "trusted": true,
        "colab": {
          "base_uri": "https://localhost:8080/"
        },
        "id": "zG97p07LVon_",
        "outputId": "0ae0bbde-9dca-4319-9dcf-e0f392aafa2f"
      },
      "execution_count": null,
      "outputs": [
        {
          "output_type": "stream",
          "name": "stdout",
          "text": [
            "<class 'pandas.core.series.Series'>\n",
            "RangeIndex: 28520 entries, 0 to 28519\n",
            "Series name: label_1\n",
            "Non-Null Count  Dtype\n",
            "--------------  -----\n",
            "28520 non-null  int64\n",
            "dtypes: int64(1)\n",
            "memory usage: 222.9 KB\n"
          ]
        }
      ]
    },
    {
      "cell_type": "code",
      "source": [
        "plt.hist(y_train_1, bins=20, edgecolor='k')\n",
        "plt.xlabel(label_1)\n",
        "plt.ylabel('Frequency')\n",
        "plt.title(f'Distribution of {label_1}')\n",
        "plt.show()"
      ],
      "metadata": {
        "execution": {
          "iopub.status.busy": "2023-09-23T13:15:38.360626Z",
          "iopub.execute_input": "2023-09-23T13:15:38.361041Z",
          "iopub.status.idle": "2023-09-23T13:15:38.631055Z",
          "shell.execute_reply.started": "2023-09-23T13:15:38.361002Z",
          "shell.execute_reply": "2023-09-23T13:15:38.630101Z"
        },
        "trusted": true,
        "colab": {
          "base_uri": "https://localhost:8080/",
          "height": 472
        },
        "id": "Zd2czzgJVooB",
        "outputId": "03700115-68ba-49da-ba60-628dae1bcc65"
      },
      "execution_count": null,
      "outputs": [
        {
          "output_type": "display_data",
          "data": {
            "text/plain": [
              "<Figure size 640x480 with 1 Axes>"
            ],
            "image/png": "[encoded data removed]"
          },
          "metadata": {}
        }
      ]
    },
    {
      "cell_type": "markdown",
      "source": [
        "# Cross Validation"
      ],
      "metadata": {
        "id": "3XNsevcpVooB"
      }
    },
    {
      "cell_type": "code",
      "source": [
        "svc_model = SVC()\n",
        "knn_model = KNeighborsClassifier(n_neighbors=5)\n",
        "rf_model = RandomForestClassifier(n_estimators=100, random_state=42)\n",
        "\n",
        "num_folds = 5\n",
        "\n",
        "kfold = KFold(n_splits=num_folds, shuffle=True, random_state=42)\n",
        "\n",
        "svc_scores = cross_val_score(svc_model, X_train_1, y_train_1, cv=kfold)\n",
        "print(\"SVC Cross-Validation Scores:\")\n",
        "for i, score in enumerate(svc_scores):\n",
        "    print(f\"Fold {i+1} - Accuracy: {score:.2f}\")\n",
        "svc_mean_accuracy = svc_scores.mean()\n",
        "print(f\"Mean Accuracy (SVC): {svc_mean_accuracy:.2f}\")\n",
        "\n",
        "knn_scores = cross_val_score(knn_model, X_train_1, y_train_1, cv=kfold)\n",
        "print(\"\\nKNN Cross-Validation Scores:\")\n",
        "for i, score in enumerate(knn_scores):\n",
        "    print(f\"Fold {i+1} - Accuracy: {score:.2f}\")\n",
        "knn_mean_accuracy = knn_scores.mean()\n",
        "print(f\"Mean Accuracy (KNN): {knn_mean_accuracy:.2f}\")\n",
        "\n",
        "rf_scores = cross_val_score(rf_model, X_train_1, y_train_1, cv=kfold)\n",
        "print(\"Random Forest Cross-Validation Scores:\")\n",
        "for i, score in enumerate(rf_scores):\n",
        "    print(f\"Fold {i+1} - Accuracy: {score:.2f}\")\n",
        "rf_mean_accuracy = rf_scores.mean()\n",
        "print(f\"Mean Accuracy (Random Forest): {rf_mean_accuracy:.2f}\")"
      ],
      "metadata": {
        "id": "hWlcQfLxwenr"
      },
      "execution_count": null,
      "outputs": []
    },
    {
      "cell_type": "markdown",
      "source": [
        "# Feature reduction using PCA"
      ],
      "metadata": {
        "id": "aJIJ3T_WVooC"
      }
    },
    {
      "cell_type": "code",
      "source": [
        "X_train_1_pca, X_valid_1_pca, X_test_1_pca = feature_engineering_with_pca(X_train_1, X_valid_1, X_test_1, n_components=0.95)"
      ],
      "metadata": {
        "execution": {
          "iopub.status.busy": "2023-09-23T13:16:57.079613Z",
          "iopub.execute_input": "2023-09-23T13:16:57.080709Z",
          "iopub.status.idle": "2023-09-23T13:17:00.840495Z",
          "shell.execute_reply.started": "2023-09-23T13:16:57.080668Z",
          "shell.execute_reply": "2023-09-23T13:17:00.839332Z"
        },
        "trusted": true,
        "colab": {
          "base_uri": "https://localhost:8080/"
        },
        "id": "JPcvnRhKVooC",
        "outputId": "ac23b039-6eaf-4275-cfde-061f259c123a"
      },
      "execution_count": null,
      "outputs": [
        {
          "output_type": "stream",
          "name": "stdout",
          "text": [
            "Shape for label1 train set: (28520, 321)\n",
            "Shape for label1 validation set: (750, 321)\n",
            "Shape for label1 validation set: (750, 321)\n"
          ]
        }
      ]
    },
    {
      "cell_type": "code",
      "source": [
        "model_1_knn = build_knn_model(X_train_1_pca, y_train_1, 5)\n",
        "\n",
        "y_pred_1_knn = model_1_knn.predict(X_valid_1_pca)\n",
        "\n",
        "print(confusion_matrix(y_valid_1, y_pred_1_knn))\n",
        "evaluate(y_valid_1, y_pred_1_knn)"
      ],
      "metadata": {
        "execution": {
          "iopub.status.busy": "2023-09-23T13:17:00.842920Z",
          "iopub.execute_input": "2023-09-23T13:17:00.843739Z",
          "iopub.status.idle": "2023-09-23T13:17:01.283785Z",
          "shell.execute_reply.started": "2023-09-23T13:17:00.843695Z",
          "shell.execute_reply": "2023-09-23T13:17:01.281833Z"
        },
        "trusted": true,
        "id": "tFSHnxCHVooC",
        "outputId": "1d331edb-fd3c-41eb-eac3-a2749d2d9796"
      },
      "execution_count": null,
      "outputs": [
        {
          "name": "stdout",
          "text": "[[11  0  0 ...  0  0  0]\n [ 0  9  0 ...  0  0  0]\n [ 0  0 11 ...  0  0  0]\n ...\n [ 0  0  0 ... 19  0  0]\n [ 0  0  0 ...  0 10  0]\n [ 0  0  0 ...  1  0  7]]\nAccuracy: 0.868\nF1 Score: 0.8689961468380442\nPrecision: 0.8821313971019233\nRecall: 0.868\n",
          "output_type": "stream"
        }
      ]
    },
    {
      "cell_type": "code",
      "source": [
        "model_1_pca_svc = build_svc_model(X_train_1_pca, y_train_1)\n",
        "\n",
        "y_pred_1_svc = model_1_pca_svc.predict(X_valid_1_pca)\n",
        "\n",
        "print(confusion_matrix(y_valid_1, y_pred_1_svc))\n",
        "evaluate(y_valid_1, y_pred_1_svc)"
      ],
      "metadata": {
        "execution": {
          "iopub.status.busy": "2023-09-23T13:17:07.299727Z",
          "iopub.execute_input": "2023-09-23T13:17:07.300167Z",
          "iopub.status.idle": "2023-09-23T13:17:35.668734Z",
          "shell.execute_reply.started": "2023-09-23T13:17:07.300134Z",
          "shell.execute_reply": "2023-09-23T13:17:35.667554Z"
        },
        "trusted": true,
        "id": "5ZcxwQsHVooD",
        "outputId": "e737490d-3cf2-44a0-e53b-a8133856f441"
      },
      "execution_count": null,
      "outputs": [
        {
          "name": "stdout",
          "text": "[[12  0  0 ...  0  0  0]\n [ 0  8  0 ...  0  0  0]\n [ 0  0 11 ...  0  0  0]\n ...\n [ 0  0  0 ... 20  0  0]\n [ 0  0  0 ...  0 10  0]\n [ 0  0  0 ...  0  0 10]]\nAccuracy: 0.9533333333333334\nF1 Score: 0.9534530961430074\nPrecision: 0.9567244669274081\nRecall: 0.9533333333333334\n",
          "output_type": "stream"
        }
      ]
    },
    {
      "cell_type": "markdown",
      "source": [
        "# Hyperparameter Tuning for label 1"
      ],
      "metadata": {
        "id": "QHP3mNT6VooD"
      }
    },
    {
      "cell_type": "code",
      "source": [
        "param_grid_1 = {\n",
        "    'C': [0.1, 1, 10, 100],\n",
        "    'kernel': ['linear', 'rbf', 'poly']\n",
        "}\n",
        "\n",
        "model_1_svc = SVC()\n",
        "\n",
        "grid_search_1 = GridSearchCV(estimator=model_1_svc, param_grid=param_grid_1, cv=5, verbose=3, n_jobs=-1, scoring='accuracy')\n",
        "\n",
        "grid_search_1.fit(X_train_1_pca, y_train_1)\n",
        "\n",
        "best_params_1 = grid_search_1.best_params_\n",
        "best_model_1 = grid_search_1.best_estimator_\n",
        "\n",
        "valid_accuracy_1 = best_model_1.score(X_valid_1_pca, y_valid_1)\n",
        "\n",
        "# Print the best hyperparameters and test accuracy\n",
        "print(\"Best Hyperparameters:\", best_params_1)\n",
        "print(\"Test Accuracy:\", valid_accuracy_1)\n",
        "#Best Hyperparameters: {'C': 100, 'kernel': 'rbf'}\n",
        "#Test Accuracy: 0.9813333333333333"
      ],
      "metadata": {
        "execution": {
          "iopub.status.busy": "2023-09-23T13:17:42.307441Z",
          "iopub.execute_input": "2023-09-23T13:17:42.307975Z",
          "iopub.status.idle": "2023-09-23T13:59:36.884297Z",
          "shell.execute_reply.started": "2023-09-23T13:17:42.307923Z",
          "shell.execute_reply": "2023-09-23T13:59:36.882973Z"
        },
        "trusted": true,
        "id": "0L8coLsXVooD",
        "outputId": "d38ebc47-43de-4283-e5f7-08191e77a879"
      },
      "execution_count": null,
      "outputs": [
        {
          "name": "stdout",
          "text": "Fitting 5 folds for each of 12 candidates, totalling 60 fits\nBest Hyperparameters: {'C': 100, 'kernel': 'rbf'}\nTest Accuracy: 0.9813333333333333\n[CV 3/5] END ..............C=0.1, kernel=linear;, score=0.939 total time= 1.3min\n[CV 5/5] END ..............C=0.1, kernel=linear;, score=0.935 total time= 1.2min\n[CV 4/5] END .................C=0.1, kernel=rbf;, score=0.785 total time= 4.9min\n[CV 3/5] END ................C=0.1, kernel=poly;, score=0.650 total time= 4.2min\n[CV 2/5] END ................C=1, kernel=linear;, score=0.935 total time= 1.2min\n[CV 4/5] END ................C=1, kernel=linear;, score=0.937 total time= 1.3min\n[CV 1/5] END ...................C=1, kernel=rbf;, score=0.943 total time= 3.3min\n[CV 5/5] END ...................C=1, kernel=rbf;, score=0.946 total time= 3.3min\n[CV 4/5] END ..................C=1, kernel=poly;, score=0.895 total time= 3.0min\n[CV 5/5] END ...............C=10, kernel=linear;, score=0.933 total time= 1.2min\n[CV 4/5] END ..................C=10, kernel=rbf;, score=0.966 total time= 3.1min\n[CV 3/5] END .................C=10, kernel=poly;, score=0.947 total time= 2.6min\n[CV 2/5] END ..............C=100, kernel=linear;, score=0.935 total time= 1.2min\n[CV 4/5] END ..............C=100, kernel=linear;, score=0.937 total time= 1.3min\n[CV 3/5] END .................C=100, kernel=rbf;, score=0.969 total time= 3.1min\n[CV 2/5] END ................C=100, kernel=poly;, score=0.956 total time= 2.6min\n[CV 2/5] END ..............C=0.1, kernel=linear;, score=0.936 total time= 1.3min\n[CV 2/5] END .................C=0.1, kernel=rbf;, score=0.780 total time= 5.0min\n[CV 5/5] END .................C=0.1, kernel=rbf;, score=0.786 total time= 5.0min\n[CV 1/5] END ................C=1, kernel=linear;, score=0.937 total time= 1.2min\n[CV 3/5] END ................C=1, kernel=linear;, score=0.936 total time= 1.3min\n[CV 5/5] END ................C=1, kernel=linear;, score=0.933 total time= 1.2min\n[CV 3/5] END ...................C=1, kernel=rbf;, score=0.948 total time= 3.3min\n[CV 3/5] END ..................C=1, kernel=poly;, score=0.904 total time= 2.9min\n[CV 2/5] END ...............C=10, kernel=linear;, score=0.935 total time= 1.2min\n[CV 4/5] END ...............C=10, kernel=linear;, score=0.937 total time= 1.3min\n[CV 2/5] END ..................C=10, kernel=rbf;, score=0.967 total time= 3.2min\n[CV 1/5] END .................C=10, kernel=poly;, score=0.947 total time= 2.6min\n[CV 4/5] END .................C=10, kernel=poly;, score=0.944 total time= 2.7min\n[CV 5/5] END ..............C=100, kernel=linear;, score=0.933 total time= 1.3min\n[CV 4/5] END .................C=100, kernel=rbf;, score=0.966 total time= 3.1min\n[CV 3/5] END ................C=100, kernel=poly;, score=0.949 total time= 2.5min\n[CV 1/5] END ..............C=0.1, kernel=linear;, score=0.938 total time= 1.3min\n[CV 1/5] END .................C=0.1, kernel=rbf;, score=0.777 total time= 5.0min\n[CV 1/5] END ................C=0.1, kernel=poly;, score=0.652 total time= 4.3min\n[CV 4/5] END ................C=0.1, kernel=poly;, score=0.665 total time= 4.3min\n[CV 2/5] END ...................C=1, kernel=rbf;, score=0.945 total time= 3.3min\n[CV 1/5] END ..................C=1, kernel=poly;, score=0.894 total time= 2.9min\n[CV 5/5] END ..................C=1, kernel=poly;, score=0.902 total time= 3.0min\n[CV 3/5] END ..................C=10, kernel=rbf;, score=0.966 total time= 3.2min\n[CV 2/5] END .................C=10, kernel=poly;, score=0.952 total time= 2.6min\n[CV 5/5] END .................C=10, kernel=poly;, score=0.948 total time= 2.7min\n[CV 2/5] END .................C=100, kernel=rbf;, score=0.969 total time= 3.2min\n[CV 1/5] END ................C=100, kernel=poly;, score=0.951 total time= 2.6min\n[CV 4/5] END ................C=100, kernel=poly;, score=0.946 total time= 1.9min\n[CV 4/5] END ..............C=0.1, kernel=linear;, score=0.937 total time= 1.3min\n[CV 3/5] END .................C=0.1, kernel=rbf;, score=0.786 total time= 5.0min\n[CV 2/5] END ................C=0.1, kernel=poly;, score=0.657 total time= 4.3min\n[CV 5/5] END ................C=0.1, kernel=poly;, score=0.679 total time= 4.4min\n[CV 4/5] END ...................C=1, kernel=rbf;, score=0.938 total time= 3.2min\n[CV 2/5] END ..................C=1, kernel=poly;, score=0.905 total time= 2.9min\n[CV 1/5] END ...............C=10, kernel=linear;, score=0.937 total time= 1.2min\n[CV 3/5] END ...............C=10, kernel=linear;, score=0.936 total time= 1.3min\n[CV 1/5] END ..................C=10, kernel=rbf;, score=0.968 total time= 3.1min\n[CV 5/5] END ..................C=10, kernel=rbf;, score=0.969 total time= 3.1min\n[CV 1/5] END ..............C=100, kernel=linear;, score=0.937 total time= 1.2min\n[CV 3/5] END ..............C=100, kernel=linear;, score=0.936 total time= 1.3min\n[CV 1/5] END .................C=100, kernel=rbf;, score=0.969 total time= 3.1min\n[CV 5/5] END .................C=100, kernel=rbf;, score=0.970 total time= 3.2min\n[CV 5/5] END ................C=100, kernel=poly;, score=0.951 total time= 1.7min\n",
          "output_type": "stream"
        }
      ]
    },
    {
      "cell_type": "markdown",
      "source": [
        "# Predicting label 1"
      ],
      "metadata": {
        "id": "ygi3izbGVooD"
      }
    },
    {
      "cell_type": "code",
      "source": [
        "model_1_pca_svc_2 = SVC(kernel='rbf', C=100)\n",
        "model_1_pca_svc_2.fit(X_train_1_pca, y_train_1)\n",
        "y_pred_1_svc_2 = model_1_pca_svc_2.predict(X_valid_1_pca)\n",
        "\n",
        "print(confusion_matrix(y_valid_1, y_pred_1_svc_2))\n",
        "evaluate(y_valid_1, y_pred_1_svc_2)"
      ],
      "metadata": {
        "execution": {
          "iopub.status.busy": "2023-09-23T14:49:15.241687Z",
          "iopub.execute_input": "2023-09-23T14:49:15.242099Z",
          "iopub.status.idle": "2023-09-23T14:50:40.743063Z",
          "shell.execute_reply.started": "2023-09-23T14:49:15.242065Z",
          "shell.execute_reply": "2023-09-23T14:50:40.741721Z"
        },
        "trusted": true,
        "colab": {
          "base_uri": "https://localhost:8080/"
        },
        "id": "liqxKiH9VooD",
        "outputId": "fd9979ce-0899-42f7-b195-72278bb0cc95"
      },
      "execution_count": null,
      "outputs": [
        {
          "output_type": "stream",
          "name": "stdout",
          "text": [
            "[[13  0  0 ...  0  0  0]\n",
            " [ 0  9  0 ...  0  0  0]\n",
            " [ 0  0 12 ...  0  0  0]\n",
            " ...\n",
            " [ 0  0  0 ... 20  0  0]\n",
            " [ 0  0  0 ...  0 10  0]\n",
            " [ 0  0  0 ...  0  0 10]]\n",
            "Accuracy: 0.9813333333333333\n",
            "F1 Score: 0.9816678421958451\n",
            "Precision: 0.9835867521367521\n",
            "Recall: 0.9813333333333333\n"
          ]
        }
      ]
    },
    {
      "cell_type": "code",
      "source": [
        "output_df_1_valid = pd.DataFrame({'ID': range(1, len(y_pred_1_svc_2) + 1), 'label_1': y_pred_1_svc_2})\n",
        "\n",
        "output_file_path_1 = f\"{WORKING_DIR}/label_7_1_valid.csv\"\n",
        "output_df_1_valid.to_csv(output_file_path_1, index=False)"
      ],
      "metadata": {
        "id": "qy__s5nc-J-n"
      },
      "execution_count": null,
      "outputs": []
    },
    {
      "cell_type": "code",
      "source": [
        "y_pred_1 = model_1_pca_svc_2.predict(X_train_1_pca)\n",
        "output_df_1 = pd.DataFrame({'ID': range(1, len(y_pred_1) + 1), 'label_1': y_pred_1})\n",
        "\n",
        "output_df_1.to_csv(f\"{WORKING_DIR}/label_7_1_train.csv\", index=False)\n",
        "print(f'Predictions saved to label_7_1_train.csv')"
      ],
      "metadata": {
        "colab": {
          "base_uri": "https://localhost:8080/"
        },
        "id": "LYrCCt1gx9Mw",
        "outputId": "02c2e6fd-4dab-4c1a-def6-9396c4c1819e"
      },
      "execution_count": null,
      "outputs": [
        {
          "output_type": "stream",
          "name": "stdout",
          "text": [
            "Predictions saved to label_7_1_train.csv\n"
          ]
        }
      ]
    },
    {
      "cell_type": "code",
      "source": [
        "y_pred_1 = model_1_pca_svc_2.predict(X_test_1_pca)\n",
        "output_df_1 = pd.DataFrame({'ID': range(1, len(y_pred_1) + 1), 'label_1': y_pred_1})\n",
        "\n",
        "output_df_1.to_csv(f\"{WORKING_DIR}/label_7_1_out_svc_final_best.csv\", index=False)\n",
        "print(f'Predictions saved to label_7_1_out_svc_final_best.csv')"
      ],
      "metadata": {
        "execution": {
          "iopub.status.busy": "2023-09-23T14:50:44.062221Z",
          "iopub.execute_input": "2023-09-23T14:50:44.062608Z",
          "iopub.status.idle": "2023-09-23T14:50:56.320847Z",
          "shell.execute_reply.started": "2023-09-23T14:50:44.062577Z",
          "shell.execute_reply": "2023-09-23T14:50:56.319429Z"
        },
        "trusted": true,
        "id": "kdU7rMDnVooE",
        "colab": {
          "base_uri": "https://localhost:8080/"
        },
        "outputId": "27dad174-9769-4108-8496-551ec4be147e"
      },
      "execution_count": null,
      "outputs": [
        {
          "output_type": "stream",
          "name": "stdout",
          "text": [
            "Predictions saved to label_7_1_out_svc_final_best.csv\n"
          ]
        }
      ]
    }
  ]
}