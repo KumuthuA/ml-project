{
  "metadata": {
    "kernelspec": {
      "language": "python",
      "display_name": "Python 3",
      "name": "python3"
    },
    "language_info": {
      "pygments_lexer": "ipython3",
      "nbconvert_exporter": "python",
      "version": "3.6.4",
      "file_extension": ".py",
      "codemirror_mode": {
        "name": "ipython",
        "version": 3
      },
      "name": "python",
      "mimetype": "text/x-python"
    },
    "colab": {
      "provenance": [],
      "include_colab_link": true
    }
  },
  "nbformat_minor": 0,
  "nbformat": 4,
  "cells": [
    {
      "cell_type": "markdown",
      "metadata": {
        "id": "view-in-github",
        "colab_type": "text"
      },
      "source": [
        "<a href=\"https://colab.research.google.com/github/KumuthuA/ml-project/blob/main/layer_12_3.ipynb\" target=\"_parent\"><img src=\"https://colab.research.google.com/assets/colab-badge.svg\" alt=\"Open In Colab\"/></a>"
      ]
    },
    {
      "cell_type": "code",
      "source": [
        "import pandas as pd\n",
        "import numpy as np\n",
        "from sklearn import svm\n",
        "from sklearn.model_selection import train_test_split\n",
        "from sklearn.preprocessing import StandardScaler, LabelEncoder\n",
        "from sklearn.neighbors import KNeighborsClassifier\n",
        "from sklearn.metrics import accuracy_score, confusion_matrix, f1_score, precision_score, recall_score, classification_report\n",
        "from sklearn.decomposition import PCA\n",
        "from sklearn.feature_selection import SelectKBest, f_classif\n",
        "from imblearn.over_sampling import RandomOverSampler\n",
        "from sklearn.model_selection import GridSearchCV\n",
        "from sklearn.model_selection import cross_val_score, KFold\n",
        "from sklearn.ensemble import RandomForestClassifier\n",
        "import seaborn as sns\n",
        "import matplotlib.pyplot as plt\n",
        "from sklearn.svm import SVC\n",
        "from google.colab import drive"
      ],
      "metadata": {
        "_uuid": "8f2839f25d086af736a60e9eeb907d3b93b6e0e5",
        "_cell_guid": "b1076dfc-b9ad-4769-8c92-a6c4dae69d19",
        "execution": {
          "iopub.status.busy": "2023-09-23T13:37:16.298749Z",
          "iopub.execute_input": "2023-09-23T13:37:16.299331Z",
          "iopub.status.idle": "2023-09-23T13:37:16.309379Z",
          "shell.execute_reply.started": "2023-09-23T13:37:16.299282Z",
          "shell.execute_reply": "2023-09-23T13:37:16.307650Z"
        },
        "trusted": true,
        "id": "v8WRsnwFUjpf"
      },
      "execution_count": 1,
      "outputs": []
    },
    {
      "cell_type": "code",
      "source": [
        "global labels\n",
        "global features\n",
        "labels = [f\"label_{i+1}\" for i in range(4)]\n",
        "features = [f'feature_{i+1}' for i in range(768)]\n",
        "label_1 = labels[0]\n",
        "label_2 = labels[1]\n",
        "label_3 = labels[2]\n",
        "label_4 = labels[3]"
      ],
      "metadata": {
        "execution": {
          "iopub.status.busy": "2023-09-23T13:37:16.311606Z",
          "iopub.execute_input": "2023-09-23T13:37:16.311973Z",
          "iopub.status.idle": "2023-09-23T13:37:16.325077Z",
          "shell.execute_reply.started": "2023-09-23T13:37:16.311931Z",
          "shell.execute_reply": "2023-09-23T13:37:16.323224Z"
        },
        "trusted": true,
        "id": "bM2GvYHEUjph"
      },
      "execution_count": 2,
      "outputs": []
    },
    {
      "cell_type": "code",
      "source": [
        "MOUNT_PATH='/content/drive'\n",
        "drive.mount(MOUNT_PATH)\n",
        "WORKING_DIR=f\"{MOUNT_PATH}/MyDrive/ML/ML project/Layer 12\"\n",
        "train = pd.read_csv(f\"{WORKING_DIR}/layer_12_train.csv\")\n",
        "valid = pd.read_csv(f\"{WORKING_DIR}/layer_12_valid.csv\")\n",
        "test = pd.read_csv(f\"{WORKING_DIR}/layer_12_test.csv\")"
      ],
      "metadata": {
        "execution": {
          "iopub.status.busy": "2023-09-23T13:37:16.327285Z",
          "iopub.execute_input": "2023-09-23T13:37:16.328310Z",
          "iopub.status.idle": "2023-09-23T13:37:28.305045Z",
          "shell.execute_reply.started": "2023-09-23T13:37:16.328266Z",
          "shell.execute_reply": "2023-09-23T13:37:28.303737Z"
        },
        "trusted": true,
        "colab": {
          "base_uri": "https://localhost:8080/"
        },
        "id": "c33s0FPpUjpi",
        "outputId": "a5560496-a639-47ff-c21e-ed08535a2240"
      },
      "execution_count": 3,
      "outputs": [
        {
          "output_type": "stream",
          "name": "stdout",
          "text": [
            "Mounted at /content/drive\n"
          ]
        }
      ]
    },
    {
      "cell_type": "markdown",
      "source": [
        "# Defining functions"
      ],
      "metadata": {
        "id": "JixMRXEqYl7s"
      }
    },
    {
      "cell_type": "code",
      "source": [
        "def data_preprocess(train_df, valid_df, test_df, label):\n",
        "    scaler = StandardScaler()\n",
        "\n",
        "    # Apply feature scaling to training data\n",
        "    X_train = pd.DataFrame(scaler.fit_transform(train_df.drop(labels, axis=1)), columns=features)\n",
        "    y_train = train_df[label]\n",
        "\n",
        "    # Apply feature scaling to validation data\n",
        "    X_valid = pd.DataFrame(scaler.transform(valid_df.drop(labels, axis=1)), columns=features)\n",
        "    y_valid = valid_df[label]\n",
        "\n",
        "    # Apply feature scaling to test data\n",
        "    X_test = pd.DataFrame(scaler.transform(test_df.drop(labels, axis=1)), columns=features)\n",
        "    y_test = test_df[label]\n",
        "    return X_train, y_train, X_valid, y_valid, X_test"
      ],
      "metadata": {
        "execution": {
          "iopub.status.busy": "2023-09-23T13:37:28.306862Z",
          "iopub.execute_input": "2023-09-23T13:37:28.307363Z",
          "iopub.status.idle": "2023-09-23T13:37:28.317256Z",
          "shell.execute_reply.started": "2023-09-23T13:37:28.307315Z",
          "shell.execute_reply": "2023-09-23T13:37:28.315768Z"
        },
        "trusted": true,
        "id": "x5q-bLxRUjpi"
      },
      "execution_count": 4,
      "outputs": []
    },
    {
      "cell_type": "code",
      "source": [
        "def feature_engineering_with_pca(X_train, X_valid, X_test, n_components):\n",
        "\n",
        "    # Apply PCA for dimensionality reduction\n",
        "    pca = PCA(n_components)\n",
        "\n",
        "    # Create a new DataFrame with the PCA-transformed features\n",
        "    X_train_pca = pca.fit_transform(X_train)\n",
        "    X_train_df_pca = pd.DataFrame(X_train_pca)\n",
        "    X_valid_df_pca = pd.DataFrame(pca.transform(X_valid))\n",
        "    X_test_df_pca = pd.DataFrame(pca.transform(X_test))\n",
        "    print(\"Shape for label3 train set:\", X_train_df_pca.shape)\n",
        "    print(\"Shape for label3 validation set:\", X_valid_df_pca.shape)\n",
        "    print(\"Shape for label3 validation set:\", X_test_df_pca.shape)\n",
        "\n",
        "    return X_train_df_pca, X_valid_df_pca, X_test_df_pca"
      ],
      "metadata": {
        "execution": {
          "iopub.status.busy": "2023-09-23T13:37:28.319872Z",
          "iopub.execute_input": "2023-09-23T13:37:28.320322Z",
          "iopub.status.idle": "2023-09-23T13:37:28.330730Z",
          "shell.execute_reply.started": "2023-09-23T13:37:28.320288Z",
          "shell.execute_reply": "2023-09-23T13:37:28.329595Z"
        },
        "trusted": true,
        "id": "j1asEpDvUjpi"
      },
      "execution_count": null,
      "outputs": []
    },
    {
      "cell_type": "code",
      "source": [
        "def feature_engineering_with_select_kbest(X_train, y_train, X_valid, X_test, n):\n",
        "    selector = SelectKBest(f_classif, k=n)\n",
        "    X_train_df = selector.fit_transform(X_train, y_train)\n",
        "    X_valid_df = selector.transform(X_valid)\n",
        "    X_test_df = selector.transform(X_test)\n",
        "    print(\"Shape for label3 train set:\", X_train_df_pca.shape)\n",
        "    print(\"Shape for label3 validation set:\", X_valid_df_pca.shape)\n",
        "    print(\"Shape for label3 validation set:\", X_test_df_pca.shape)\n",
        "    return X_train_df, X_valid_df, X_test_df"
      ],
      "metadata": {
        "execution": {
          "iopub.status.busy": "2023-09-23T13:37:28.332151Z",
          "iopub.execute_input": "2023-09-23T13:37:28.332662Z",
          "iopub.status.idle": "2023-09-23T13:37:28.343660Z",
          "shell.execute_reply.started": "2023-09-23T13:37:28.332613Z",
          "shell.execute_reply": "2023-09-23T13:37:28.342685Z"
        },
        "trusted": true,
        "id": "MVWsxlIsUjpj"
      },
      "execution_count": null,
      "outputs": []
    },
    {
      "cell_type": "code",
      "source": [
        "def build_knn_model(X_train, y_train, n_neighbors):\n",
        "    knn = KNeighborsClassifier(n_neighbors)\n",
        "    knn.fit(X_train, y_train)\n",
        "    return knn"
      ],
      "metadata": {
        "execution": {
          "iopub.status.busy": "2023-09-23T13:37:28.345187Z",
          "iopub.execute_input": "2023-09-23T13:37:28.345900Z",
          "iopub.status.idle": "2023-09-23T13:37:28.363070Z",
          "shell.execute_reply.started": "2023-09-23T13:37:28.345853Z",
          "shell.execute_reply": "2023-09-23T13:37:28.362202Z"
        },
        "trusted": true,
        "id": "oQAf1fI7Ujpj"
      },
      "execution_count": null,
      "outputs": []
    },
    {
      "cell_type": "code",
      "source": [
        "def build_svc_model(X_train, y_train):\n",
        "    svc_model = SVC(kernel='linear', gamma='scale')\n",
        "    svc_model.fit(X_train, y_train)\n",
        "    return svc_model"
      ],
      "metadata": {
        "execution": {
          "iopub.status.busy": "2023-09-23T13:37:28.364443Z",
          "iopub.execute_input": "2023-09-23T13:37:28.365492Z",
          "iopub.status.idle": "2023-09-23T13:37:28.376425Z",
          "shell.execute_reply.started": "2023-09-23T13:37:28.365426Z",
          "shell.execute_reply": "2023-09-23T13:37:28.375289Z"
        },
        "trusted": true,
        "id": "52CGtEORUjpj"
      },
      "execution_count": null,
      "outputs": []
    },
    {
      "cell_type": "code",
      "source": [
        "def evaluate(y_valid, y_pred):\n",
        "    print(f\"Accuracy: {accuracy_score(y_valid, y_pred)}\")\n",
        "    print(f\"F1 Score: {f1_score(y_valid, y_pred, average='weighted')}\")\n",
        "    print(f\"Precision: {precision_score(y_valid, y_pred, average='weighted')}\")\n",
        "    print(f\"Recall: {recall_score(y_valid, y_pred, average='weighted')}\")"
      ],
      "metadata": {
        "execution": {
          "iopub.status.busy": "2023-09-23T13:37:28.377653Z",
          "iopub.execute_input": "2023-09-23T13:37:28.378857Z",
          "iopub.status.idle": "2023-09-23T13:37:28.391040Z",
          "shell.execute_reply.started": "2023-09-23T13:37:28.378817Z",
          "shell.execute_reply": "2023-09-23T13:37:28.389778Z"
        },
        "trusted": true,
        "id": "RbWMNcnzUjpj"
      },
      "execution_count": null,
      "outputs": []
    },
    {
      "cell_type": "markdown",
      "source": [
        "# Data preprocessing"
      ],
      "metadata": {
        "id": "4FwNr8thUjpk"
      }
    },
    {
      "cell_type": "code",
      "source": [
        "X_train_3, y_train_3, X_valid_3, y_valid_3, X_test_3 = data_preprocess(train, valid, test, label_3)\n",
        "y_train_3.info()"
      ],
      "metadata": {
        "execution": {
          "iopub.status.busy": "2023-09-23T13:37:28.393380Z",
          "iopub.execute_input": "2023-09-23T13:37:28.393905Z",
          "iopub.status.idle": "2023-09-23T13:37:28.837846Z",
          "shell.execute_reply.started": "2023-09-23T13:37:28.393718Z",
          "shell.execute_reply": "2023-09-23T13:37:28.836724Z"
        },
        "trusted": true,
        "colab": {
          "base_uri": "https://localhost:8080/"
        },
        "id": "pxSyLKKEUjpm",
        "outputId": "6d275a2c-5ccb-495e-f1b0-6505ceb7b663"
      },
      "execution_count": 5,
      "outputs": [
        {
          "output_type": "stream",
          "name": "stdout",
          "text": [
            "<class 'pandas.core.series.Series'>\n",
            "RangeIndex: 28520 entries, 0 to 28519\n",
            "Series name: label_3\n",
            "Non-Null Count  Dtype\n",
            "--------------  -----\n",
            "28520 non-null  int64\n",
            "dtypes: int64(1)\n",
            "memory usage: 222.9 KB\n"
          ]
        }
      ]
    },
    {
      "cell_type": "code",
      "source": [
        "plt.hist(y_train_3, bins=20, edgecolor='k')\n",
        "plt.xlabel(label_3)\n",
        "plt.ylabel('Count')\n",
        "plt.title(f'Distribution of {label_3}')\n",
        "plt.show()"
      ],
      "metadata": {
        "execution": {
          "iopub.status.busy": "2023-09-23T13:37:28.842321Z",
          "iopub.execute_input": "2023-09-23T13:37:28.842767Z",
          "iopub.status.idle": "2023-09-23T13:37:29.187835Z",
          "shell.execute_reply.started": "2023-09-23T13:37:28.842735Z",
          "shell.execute_reply": "2023-09-23T13:37:29.186552Z"
        },
        "trusted": true,
        "colab": {
          "base_uri": "https://localhost:8080/",
          "height": 472
        },
        "id": "y0dS30tzUjpm",
        "outputId": "faad9138-c66d-44eb-e40d-aadf94cf2cfa"
      },
      "execution_count": 6,
      "outputs": [
        {
          "output_type": "display_data",
          "data": {
            "text/plain": [
              "<Figure size 640x480 with 1 Axes>"
            ],
            "image/png": "[encoded data removed]"
          },
          "metadata": {}
        }
      ]
    },
    {
      "cell_type": "markdown",
      "source": [
        "# Cross validation - Lable 03"
      ],
      "metadata": {
        "id": "cgCt1-6OUjpm"
      }
    },
    {
      "cell_type": "code",
      "source": [
        "svc_model = SVC()\n",
        "knn_model = KNeighborsClassifier(n_neighbors=5)\n",
        "rf_model = RandomForestClassifier(n_estimators=100, random_state=42)\n",
        "\n",
        "\n",
        "num_folds = 5\n",
        "\n",
        "kfold = KFold(n_splits=num_folds, shuffle=True, random_state=42)\n",
        "\n",
        "svc_scores = cross_val_score(svc_model, X_train_3, y_train_3, cv=kfold)\n",
        "print(\"SVC Cross-Validation Scores:\")\n",
        "for i, score in enumerate(svc_scores):\n",
        "    print(f\"Fold {i+1} - Accuracy: {score:.2f}\")\n",
        "svc_mean_accuracy = svc_scores.mean()\n",
        "print(f\"Mean Accuracy (SVC): {svc_mean_accuracy:.2f}\")\n",
        "\n",
        "knn_scores = cross_val_score(knn_model, X_train_3, y_train_3, cv=kfold)\n",
        "print(\"\\nKNN Cross-Validation Scores:\")\n",
        "for i, score in enumerate(knn_scores):\n",
        "    print(f\"Fold {i+1} - Accuracy: {score:.2f}\")\n",
        "knn_mean_accuracy = knn_scores.mean()\n",
        "print(f\"Mean Accuracy (KNN): {knn_mean_accuracy:.2f}\")\n",
        "\n",
        "rf_scores = cross_val_score(rf_model, X_train_3, y_train_3, cv=kfold)\n",
        "print(\"Random Forest Cross-Validation Scores:\")\n",
        "for i, score in enumerate(rf_scores):\n",
        "    print(f\"Fold {i+1} - Accuracy: {score:.2f}\")\n",
        "rf_mean_accuracy = rf_scores.mean()\n",
        "print(f\"Mean Accuracy (Random Forest): {rf_mean_accuracy:.2f}\")"
      ],
      "metadata": {
        "id": "qyr92ZIOYytL",
        "colab": {
          "base_uri": "https://localhost:8080/"
        },
        "outputId": "5fa6fd07-ef39-4614-f552-a276d5274130"
      },
      "execution_count": 7,
      "outputs": [
        {
          "output_type": "stream",
          "name": "stdout",
          "text": [
            "SVC Cross-Validation Scores:\n",
            "Fold 1 - Accuracy: 0.99\n",
            "Fold 2 - Accuracy: 0.99\n",
            "Fold 3 - Accuracy: 0.99\n",
            "Fold 4 - Accuracy: 0.99\n",
            "Fold 5 - Accuracy: 0.99\n",
            "Mean Accuracy (SVC): 0.99\n",
            "\n",
            "KNN Cross-Validation Scores:\n",
            "Fold 1 - Accuracy: 0.95\n",
            "Fold 2 - Accuracy: 0.94\n",
            "Fold 3 - Accuracy: 0.94\n",
            "Fold 4 - Accuracy: 0.95\n",
            "Fold 5 - Accuracy: 0.94\n",
            "Mean Accuracy (KNN): 0.95\n",
            "Random Forest Cross-Validation Scores:\n",
            "Fold 1 - Accuracy: 0.92\n",
            "Fold 2 - Accuracy: 0.91\n",
            "Fold 3 - Accuracy: 0.91\n",
            "Fold 4 - Accuracy: 0.91\n",
            "Fold 5 - Accuracy: 0.91\n",
            "Mean Accuracy (Random Forest): 0.91\n"
          ]
        }
      ]
    },
    {
      "cell_type": "markdown",
      "source": [
        "# Feature reduction using PCA for label 03"
      ],
      "metadata": {
        "id": "HuXkpOkMUjpn"
      }
    },
    {
      "cell_type": "code",
      "source": [
        "X_train_3_pca, X_valid_3_pca, X_test_3_pca = feature_engineering_with_pca(X_train_3, X_valid_3, X_test_3, n_components=0.95)"
      ],
      "metadata": {
        "execution": {
          "iopub.status.busy": "2023-09-23T13:37:30.548342Z",
          "iopub.execute_input": "2023-09-23T13:37:30.549572Z",
          "iopub.status.idle": "2023-09-23T13:37:34.286725Z",
          "shell.execute_reply.started": "2023-09-23T13:37:30.549526Z",
          "shell.execute_reply": "2023-09-23T13:37:34.285576Z"
        },
        "trusted": true,
        "colab": {
          "base_uri": "https://localhost:8080/"
        },
        "id": "KcMw9QSPUjpn",
        "outputId": "2fb2114d-7249-49bb-d4d1-e368a65f5009"
      },
      "execution_count": null,
      "outputs": [
        {
          "output_type": "stream",
          "name": "stdout",
          "text": [
            "Shape for label3 train set: (28520, 112)\n",
            "Shape for label3 validation set: (750, 112)\n",
            "Shape for label3 validation set: (750, 112)\n"
          ]
        }
      ]
    },
    {
      "cell_type": "code",
      "source": [
        "model_3_pca_svc = SVC(kernel='rbf')\n",
        "model_3_pca_svc.fit(X_train_3_pca, y_train_3)\n",
        "y_pred_3_svc = model_3_pca_svc.predict(X_valid_3_pca)\n",
        "\n",
        "print(confusion_matrix(y_valid_3, y_pred_3_svc))\n",
        "evaluate(y_valid_3, y_pred_3_svc)"
      ],
      "metadata": {
        "execution": {
          "iopub.status.busy": "2023-09-23T13:37:34.734291Z",
          "iopub.execute_input": "2023-09-23T13:37:34.734871Z",
          "iopub.status.idle": "2023-09-23T13:37:42.763198Z",
          "shell.execute_reply.started": "2023-09-23T13:37:34.734827Z",
          "shell.execute_reply": "2023-09-23T13:37:42.761775Z"
        },
        "trusted": true,
        "colab": {
          "base_uri": "https://localhost:8080/"
        },
        "id": "qXenUwJVUjpn",
        "outputId": "247f92e2-a619-471a-c6d6-bfbcdaabaedf"
      },
      "execution_count": null,
      "outputs": [
        {
          "output_type": "stream",
          "name": "stdout",
          "text": [
            "[[138   4]\n",
            " [  2 606]]\n",
            "Accuracy: 0.992\n",
            "F1 Score: 0.9919781993501731\n",
            "Precision: 0.9919793911007024\n",
            "Recall: 0.992\n"
          ]
        }
      ]
    },
    {
      "cell_type": "markdown",
      "source": [
        "# Hyperparameter tuning for label 3"
      ],
      "metadata": {
        "id": "-uljorBbUjpn"
      }
    },
    {
      "cell_type": "code",
      "source": [
        "param_grid_3 = {\n",
        "    'C': [0.1, 1, 10, 100],\n",
        "    'kernel': ['linear', 'rbf', 'poly']\n",
        "}\n",
        "\n",
        "model_3_svc = SVC()\n",
        "\n",
        "grid_search_3 = GridSearchCV(estimator=model_3_svc, param_grid=param_grid_3, cv=5, verbose=3, n_jobs=-1, scoring='accuracy')\n",
        "\n",
        "grid_search_3.fit(X_train_3_pca, y_train_3)\n",
        "\n",
        "best_params_3 = grid_search_3.best_params_\n",
        "best_model_3 = grid_search_3.best_estimator_\n",
        "\n",
        "valid_accuracy_3 = best_model_3.score(X_valid_3_pca, y_valid_3)\n",
        "\n",
        "# Print the best hyperparameters and test accuracy\n",
        "print(\"Best Hyperparameters:\", best_params_3)\n",
        "print(\"Test Accuracy:\", valid_accuracy_3)"
      ],
      "metadata": {
        "execution": {
          "iopub.status.busy": "2023-09-23T13:45:48.710299Z",
          "iopub.execute_input": "2023-09-23T13:45:48.710720Z",
          "iopub.status.idle": "2023-09-23T14:01:27.480070Z",
          "shell.execute_reply.started": "2023-09-23T13:45:48.710686Z",
          "shell.execute_reply": "2023-09-23T14:01:27.478639Z"
        },
        "trusted": true,
        "id": "KhDY8sTKUjpn"
      },
      "execution_count": null,
      "outputs": []
    },
    {
      "cell_type": "markdown",
      "source": [
        "# Predicting label 3"
      ],
      "metadata": {
        "id": "scTpa53uUjpn"
      }
    },
    {
      "cell_type": "code",
      "source": [
        "y_pred_3 = model_3_pca_svc.predict(X_test_3_pca)\n",
        "output_df_3 = pd.DataFrame({'ID': range(1, len(y_pred_3) + 1), 'label_3': y_pred_3})\n",
        "\n",
        "output_file_path_3 = f\"{WORKING_DIR}/layer_12_3_today.csv\"\n",
        "output_df_3.to_csv(output_file_path_3, index=False)\n",
        "print(f'Predictions saved to {output_file_path_3}')"
      ],
      "metadata": {
        "execution": {
          "iopub.status.busy": "2023-09-23T14:52:04.128018Z",
          "iopub.execute_input": "2023-09-23T14:52:04.128513Z",
          "iopub.status.idle": "2023-09-23T14:52:04.778316Z",
          "shell.execute_reply.started": "2023-09-23T14:52:04.128461Z",
          "shell.execute_reply": "2023-09-23T14:52:04.777184Z"
        },
        "trusted": true,
        "colab": {
          "base_uri": "https://localhost:8080/"
        },
        "id": "vp-3hegdUjpo",
        "outputId": "a39c5d7f-7779-43ea-e2cb-e35273663f21"
      },
      "execution_count": null,
      "outputs": [
        {
          "output_type": "stream",
          "name": "stdout",
          "text": [
            "Predictions saved to /content/drive/MyDrive/ML/ML project/Layer 12/layer_12_3_today.csv\n"
          ]
        }
      ]
    },
    {
      "cell_type": "code",
      "source": [
        "y_pred_3_train = model_3_pca_svc.predict(X_train_3_pca)\n",
        "output_df_3_train = pd.DataFrame({'ID': range(1, len(y_pred_3_train) + 1), 'label_3': y_pred_3_train})\n",
        "\n",
        "output_file_path_3 = f\"{WORKING_DIR}/layer_12_3_train.csv\"\n",
        "output_df_3_train.to_csv(output_file_path_3, index=False)\n",
        "print(f'Predictions saved to {output_file_path_3}')"
      ],
      "metadata": {
        "colab": {
          "base_uri": "https://localhost:8080/"
        },
        "id": "n2wzHu8kerbp",
        "outputId": "86b22b7e-aaed-499d-f444-e3e23853a4a5"
      },
      "execution_count": null,
      "outputs": [
        {
          "output_type": "stream",
          "name": "stdout",
          "text": [
            "Predictions saved to /content/drive/MyDrive/ML/ML project/Layer 12/layer_12_3_train.csv\n"
          ]
        }
      ]
    }
  ]
}