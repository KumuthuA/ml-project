{
  "cells": [
    {
      "cell_type": "markdown",
      "metadata": {
        "id": "view-in-github",
        "colab_type": "text"
      },
      "source": [
        "<a href=\"https://colab.research.google.com/github/KumuthuA/ml-project/blob/main/layer_12_2.ipynb\" target=\"_parent\"><img src=\"https://colab.research.google.com/assets/colab-badge.svg\" alt=\"Open In Colab\"/></a>"
      ]
    },
    {
      "cell_type": "code",
      "execution_count": null,
      "metadata": {
        "id": "mVyVprvO-b2W"
      },
      "outputs": [],
      "source": [
        "import pandas as pd\n",
        "import numpy as np\n",
        "from sklearn import svm\n",
        "from sklearn.model_selection import train_test_split\n",
        "from sklearn.preprocessing import StandardScaler, LabelEncoder\n",
        "from sklearn.neighbors import KNeighborsClassifier\n",
        "from sklearn.metrics import accuracy_score, confusion_matrix, f1_score, precision_score, recall_score, classification_report\n",
        "from sklearn.decomposition import PCA\n",
        "from sklearn.feature_selection import SelectKBest, f_classif\n",
        "from imblearn.over_sampling import RandomOverSampler\n",
        "from sklearn.model_selection import GridSearchCV\n",
        "from sklearn.model_selection import cross_val_score, KFold\n",
        "from sklearn.ensemble import RandomForestClassifier\n",
        "import seaborn as sns\n",
        "import matplotlib.pyplot as plt\n",
        "from sklearn.svm import SVC\n",
        "from google.colab import drive"
      ]
    },
    {
      "cell_type": "code",
      "execution_count": null,
      "metadata": {
        "id": "H6VhJhWE-b2Z"
      },
      "outputs": [],
      "source": [
        "global labels\n",
        "global features\n",
        "labels = [f\"label_{i+1}\" for i in range(4)]\n",
        "features = [f'feature_{i+1}' for i in range(768)]\n",
        "label_1 = labels[0]\n",
        "label_2 = labels[1]\n",
        "label_3 = labels[2]\n",
        "label_4 = labels[3]"
      ]
    },
    {
      "cell_type": "code",
      "execution_count": null,
      "metadata": {
        "colab": {
          "base_uri": "https://localhost:8080/"
        },
        "id": "__ICgeyE-b2Z",
        "outputId": "1b2a7edb-df32-42d6-b981-e8b78aba4379"
      },
      "outputs": [
        {
          "output_type": "stream",
          "name": "stdout",
          "text": [
            "Mounted at /content/drive\n"
          ]
        }
      ],
      "source": [
        "MOUNT_PATH='/content/drive'\n",
        "drive.mount(MOUNT_PATH)\n",
        "WORKING_DIR=f\"{MOUNT_PATH}/MyDrive/ML/ML project/Layer 12\"\n",
        "train = pd.read_csv(f\"{WORKING_DIR}/layer_12_train.csv\")\n",
        "valid = pd.read_csv(f\"{WORKING_DIR}/layer_12_valid.csv\")\n",
        "test = pd.read_csv(f\"{WORKING_DIR}/layer_12_test.csv\")"
      ]
    },
    {
      "cell_type": "markdown",
      "source": [
        "# Defining functions"
      ],
      "metadata": {
        "id": "acg91SrFShcL"
      }
    },
    {
      "cell_type": "code",
      "execution_count": null,
      "metadata": {
        "id": "NocrntA8-b2a"
      },
      "outputs": [],
      "source": [
        "def data_preprocess(train_df, valid_df, test_df, label):\n",
        "    scaler = StandardScaler()\n",
        "\n",
        "    # Apply feature scaling to training data\n",
        "    X_train = pd.DataFrame(scaler.fit_transform(train_df.drop(labels, axis=1)), columns=features)\n",
        "    y_train = train_df[label]\n",
        "\n",
        "    # Apply feature scaling to validation data\n",
        "    X_valid = pd.DataFrame(scaler.transform(valid_df.drop(labels, axis=1)), columns=features)\n",
        "    y_valid = valid_df[label]\n",
        "\n",
        "    # Apply feature scaling to test data\n",
        "    X_test = pd.DataFrame(scaler.transform(test_df.drop(labels, axis=1)), columns=features)\n",
        "    y_test = test_df[label]\n",
        "    return X_train, y_train, X_valid, y_valid, X_test, y_test"
      ]
    },
    {
      "cell_type": "code",
      "execution_count": null,
      "metadata": {
        "id": "bpDk_I8v-b2a"
      },
      "outputs": [],
      "source": [
        "def feature_engineering_with_pca(X_train, X_valid, X_test, n_components):\n",
        "\n",
        "    # Apply PCA for dimensionality reduction\n",
        "    pca = PCA(n_components)\n",
        "\n",
        "    # Create a new DataFrame with the PCA-transformed features\n",
        "    X_train_pca = pca.fit_transform(X_train)\n",
        "    X_train_df_pca = pd.DataFrame(X_train_pca)\n",
        "    X_valid_df_pca = pd.DataFrame(pca.transform(X_valid))\n",
        "    X_test_df_pca = pd.DataFrame(pca.transform(X_test))\n",
        "    print(\"Shape for label2 train set:\", X_train_df_pca.shape)\n",
        "    print(\"Shape for label2 validation set:\", X_valid_df_pca.shape)\n",
        "    print(\"Shape for label2 validation set:\", X_test_df_pca.shape)\n",
        "\n",
        "    return X_train_df_pca, X_valid_df_pca, X_test_df_pca"
      ]
    },
    {
      "cell_type": "code",
      "execution_count": null,
      "metadata": {
        "id": "rHntL76G-b2a"
      },
      "outputs": [],
      "source": [
        "def feature_engineering_with_select_kbest(X_train, y_train, X_valid, X_test, n):\n",
        "    selector = SelectKBest(f_classif, k=n)\n",
        "    X_train_df = selector.fit_transform(X_train, y_train)\n",
        "    X_valid_df = selector.transform(X_valid)\n",
        "    X_test_df = selector.transform(X_test)\n",
        "    print(\"Shape for label2 train set:\", X_train_df.shape)\n",
        "    print(\"Shape for label2 validation set:\", X_valid_df.shape)\n",
        "    print(\"Shape for label2 validation set:\", X_test_df.shape)\n",
        "    return X_train_df, X_valid_df, X_test_df"
      ]
    },
    {
      "cell_type": "code",
      "execution_count": null,
      "metadata": {
        "id": "WUe1gocy-b2a"
      },
      "outputs": [],
      "source": [
        "def build_knn_model(X_train, y_train, n_neighbors):\n",
        "    # Create and train your KNN classifier model\n",
        "    # You can perform hyperparameter tuning by changing the value of 'n_neighbors'\n",
        "    knn = KNeighborsClassifier(n_neighbors)\n",
        "    knn.fit(X_train, y_train)\n",
        "    return knn"
      ]
    },
    {
      "cell_type": "code",
      "execution_count": null,
      "metadata": {
        "id": "-g0Plq97-b2a"
      },
      "outputs": [],
      "source": [
        "def build_svc_model(X_train, y_train):\n",
        "    svc_model = SVC(kernel='linear', gamma='scale')\n",
        "    svc_model.fit(X_train, y_train)\n",
        "    return svc_model"
      ]
    },
    {
      "cell_type": "code",
      "execution_count": null,
      "metadata": {
        "id": "E_etAN3M-b2b"
      },
      "outputs": [],
      "source": [
        "def evaluate(y_valid, y_pred):\n",
        "    print(f\"Accuracy: {accuracy_score(y_valid, y_pred)}\")\n",
        "    print(f\"F1 Score: {f1_score(y_valid, y_pred, average='weighted')}\")\n",
        "    print(f\"Precision: {precision_score(y_valid, y_pred, average='weighted')}\")\n",
        "    print(f\"Recall: {recall_score(y_valid, y_pred, average='weighted')}\")"
      ]
    },
    {
      "cell_type": "markdown",
      "metadata": {
        "id": "eHnHM6ow-b2b"
      },
      "source": [
        "# Data preprocessing"
      ]
    },
    {
      "cell_type": "code",
      "execution_count": null,
      "metadata": {
        "colab": {
          "base_uri": "https://localhost:8080/"
        },
        "id": "KlRrURlU-b2c",
        "outputId": "408f7874-de32-4809-da6e-e33b9eea40a3"
      },
      "outputs": [
        {
          "output_type": "stream",
          "name": "stdout",
          "text": [
            "<class 'pandas.core.series.Series'>\n",
            "RangeIndex: 28520 entries, 0 to 28519\n",
            "Series name: label_2\n",
            "Non-Null Count  Dtype  \n",
            "--------------  -----  \n",
            "28040 non-null  float64\n",
            "dtypes: float64(1)\n",
            "memory usage: 222.9 KB\n"
          ]
        }
      ],
      "source": [
        "X_train_2, y_train_2, X_valid_2, y_valid_2, X_test_2, y_test_2 = data_preprocess(train, valid, test, label_2)\n",
        "y_train_2.info()"
      ]
    },
    {
      "cell_type": "code",
      "execution_count": null,
      "metadata": {
        "colab": {
          "base_uri": "https://localhost:8080/"
        },
        "id": "F8B6d0GR-b2d",
        "outputId": "b6932593-5b4e-4710-a038-ea221d3c04b0"
      },
      "outputs": [
        {
          "output_type": "stream",
          "name": "stdout",
          "text": [
            "<class 'pandas.core.frame.DataFrame'>\n",
            "Int64Index: 28040 entries, 480 to 28519\n",
            "Columns: 772 entries, feature_1 to label_4\n",
            "dtypes: float64(769), int64(3)\n",
            "memory usage: 165.4 MB\n",
            "<class 'pandas.core.frame.DataFrame'>\n",
            "Int64Index: 736 entries, 14 to 749\n",
            "Columns: 772 entries, feature_1 to label_4\n",
            "dtypes: float64(769), int64(3)\n",
            "memory usage: 4.3 MB\n",
            "<class 'pandas.core.frame.DataFrame'>\n",
            "Int64Index: 744 entries, 6 to 749\n",
            "Columns: 772 entries, feature_1 to label_4\n",
            "dtypes: float64(769), int64(3)\n",
            "memory usage: 4.4 MB\n"
          ]
        }
      ],
      "source": [
        "train_df = train[train[label_2].notna()]\n",
        "train_df.info()\n",
        "valid_df = valid[valid[label_2].notna()]\n",
        "valid_df.info()\n",
        "test_df = test[test[label_2].notna()]\n",
        "test_df.info()"
      ]
    },
    {
      "cell_type": "code",
      "execution_count": null,
      "metadata": {
        "colab": {
          "base_uri": "https://localhost:8080/"
        },
        "id": "VSt_wxqt-b2d",
        "outputId": "483897b0-cb91-444b-9041-21a6d4253156"
      },
      "outputs": [
        {
          "output_type": "stream",
          "name": "stdout",
          "text": [
            "<class 'pandas.core.series.Series'>\n",
            "Int64Index: 28040 entries, 480 to 28519\n",
            "Series name: label_2\n",
            "Non-Null Count  Dtype  \n",
            "--------------  -----  \n",
            "28040 non-null  float64\n",
            "dtypes: float64(1)\n",
            "memory usage: 438.1 KB\n"
          ]
        }
      ],
      "source": [
        "X_train_2, y_train_2, X_valid_2, y_valid_2, X_test_2, y_test_2 = data_preprocess(train_df, valid_df, test_df, label_2)\n",
        "y_train_2.info()"
      ]
    },
    {
      "cell_type": "code",
      "execution_count": null,
      "metadata": {
        "colab": {
          "base_uri": "https://localhost:8080/",
          "height": 487
        },
        "id": "kX7cqk4u-b2d",
        "outputId": "b8f64701-57de-4178-91d2-f85401615612"
      },
      "outputs": [
        {
          "output_type": "execute_result",
          "data": {
            "text/plain": [
              "<Axes: title={'center': 'Imbalanced data'}>"
            ]
          },
          "metadata": {},
          "execution_count": 10
        },
        {
          "output_type": "display_data",
          "data": {
            "text/plain": [
              "<Figure size 640x480 with 1 Axes>"
            ],
            "image/png": "[encoded data removed]"
          },
          "metadata": {}
        }
      ],
      "source": [
        "y_train_2.value_counts().plot(kind='bar',title='Imbalanced data')"
      ]
    },
    {
      "cell_type": "code",
      "source": [
        "resampler = RandomOverSampler(sampling_strategy='auto')\n",
        "X_train_2_resampled, y_train_2_resampled = resampler.fit_resample(X_train_2, y_train_2)"
      ],
      "metadata": {
        "id": "fwJhdokcOLRq"
      },
      "execution_count": null,
      "outputs": []
    },
    {
      "cell_type": "code",
      "source": [
        "y_train_2_resampled.value_counts().plot(kind='bar',title='Imbalanced data')"
      ],
      "metadata": {
        "colab": {
          "base_uri": "https://localhost:8080/",
          "height": 487
        },
        "id": "QDH11hk_OePU",
        "outputId": "9145f98e-a129-47c9-faa8-2d4fede5ac8a"
      },
      "execution_count": null,
      "outputs": [
        {
          "output_type": "execute_result",
          "data": {
            "text/plain": [
              "<Axes: title={'center': 'Imbalanced data'}>"
            ]
          },
          "metadata": {},
          "execution_count": 17
        },
        {
          "output_type": "display_data",
          "data": {
            "text/plain": [
              "<Figure size 640x480 with 1 Axes>"
            ],
            "image/png": "[encoded data removed]"
          },
          "metadata": {}
        }
      ]
    },
    {
      "cell_type": "markdown",
      "metadata": {
        "id": "LE1MkzLB-b2d"
      },
      "source": [
        "# Cross validation - Lable 02"
      ]
    },
    {
      "cell_type": "code",
      "source": [
        "svc_model = SVC()\n",
        "knn_model = KNeighborsClassifier(n_neighbors=5)\n",
        "rf_model = RandomForestClassifier(n_estimators=100, random_state=42)\n",
        "\n",
        "\n",
        "num_folds = 5\n",
        "\n",
        "kfold = KFold(n_splits=num_folds, shuffle=True, random_state=42)\n",
        "\n",
        "svc_scores = cross_val_score(svc_model, X_train_2, y_train_2, cv=kfold)\n",
        "print(\"SVC Cross-Validation Scores:\")\n",
        "for i, score in enumerate(svc_scores):\n",
        "    print(f\"Fold {i+1} - Accuracy: {score:.2f}\")\n",
        "svc_mean_accuracy = svc_scores.mean()\n",
        "print(f\"Mean Accuracy (SVC): {svc_mean_accuracy:.2f}\")\n",
        "\n",
        "knn_scores = cross_val_score(knn_model, X_train_2, y_train_2, cv=kfold)\n",
        "print(\"\\nKNN Cross-Validation Scores:\")\n",
        "for i, score in enumerate(knn_scores):\n",
        "    print(f\"Fold {i+1} - Accuracy: {score:.2f}\")\n",
        "knn_mean_accuracy = knn_scores.mean()\n",
        "print(f\"Mean Accuracy (KNN): {knn_mean_accuracy:.2f}\")\n",
        "\n",
        "rf_scores = cross_val_score(rf_model, X_train_2, y_train_2, cv=kfold)\n",
        "print(\"Random Forest Cross-Validation Scores:\")\n",
        "for i, score in enumerate(rf_scores):\n",
        "    print(f\"Fold {i+1} - Accuracy: {score:.2f}\")\n",
        "rf_mean_accuracy = rf_scores.mean()\n",
        "print(f\"Mean Accuracy (Random Forest): {rf_mean_accuracy:.2f}\")"
      ],
      "metadata": {
        "colab": {
          "base_uri": "https://localhost:8080/"
        },
        "id": "OS9BOCfcSyHG",
        "outputId": "da8da3e3-4006-45bd-e805-b71281b2c7a9"
      },
      "execution_count": null,
      "outputs": [
        {
          "output_type": "stream",
          "name": "stdout",
          "text": [
            "SVC Cross-Validation Scores:\n",
            "Fold 1 - Accuracy: 0.78\n",
            "Fold 2 - Accuracy: 0.78\n",
            "Fold 3 - Accuracy: 0.78\n",
            "Fold 4 - Accuracy: 0.76\n",
            "Fold 5 - Accuracy: 0.77\n",
            "Mean Accuracy (SVC): 0.77\n",
            "\n",
            "KNN Cross-Validation Scores:\n",
            "Fold 1 - Accuracy: 0.70\n",
            "Fold 2 - Accuracy: 0.69\n",
            "Fold 3 - Accuracy: 0.69\n",
            "Fold 4 - Accuracy: 0.68\n",
            "Fold 5 - Accuracy: 0.69\n",
            "Mean Accuracy (KNN): 0.69\n",
            "Random Forest Cross-Validation Scores:\n",
            "Fold 1 - Accuracy: 0.58\n",
            "Fold 2 - Accuracy: 0.57\n",
            "Fold 3 - Accuracy: 0.58\n",
            "Fold 4 - Accuracy: 0.55\n",
            "Fold 5 - Accuracy: 0.57\n",
            "Mean Accuracy (Random Forest): 0.57\n"
          ]
        }
      ]
    },
    {
      "cell_type": "markdown",
      "metadata": {
        "id": "ibmtMDJ4-b2e"
      },
      "source": [
        "# Feature reduction using PCA - Label 02"
      ]
    },
    {
      "cell_type": "code",
      "source": [
        "pca=PCA(0.99)\n",
        "pca = pca.fit(X_train_2)\n",
        "\n",
        "X_train_2_pca =pca.fit_transform(X_train_2)\n",
        "X_valid_2_pca = pca.transform(X_valid_2)\n",
        "X_test_2_pca = pca.transform(X_test_2)"
      ],
      "metadata": {
        "id": "XTHgQG1TNeKK"
      },
      "execution_count": null,
      "outputs": []
    },
    {
      "cell_type": "code",
      "source": [
        "X_train_2_pca.shape"
      ],
      "metadata": {
        "colab": {
          "base_uri": "https://localhost:8080/"
        },
        "id": "vNmiC_LkOwYA",
        "outputId": "b5e54194-7c0b-4f19-b1d5-d44bcc4d0982"
      },
      "execution_count": null,
      "outputs": [
        {
          "output_type": "execute_result",
          "data": {
            "text/plain": [
              "(28040, 281)"
            ]
          },
          "metadata": {},
          "execution_count": 21
        }
      ]
    },
    {
      "cell_type": "code",
      "execution_count": null,
      "metadata": {
        "colab": {
          "base_uri": "https://localhost:8080/"
        },
        "id": "SERingle-b2e",
        "outputId": "f5441325-8cc8-4bec-9381-8a433c1ea1f6"
      },
      "outputs": [
        {
          "output_type": "stream",
          "name": "stdout",
          "text": [
            "Accuracy: 0.6970108695652174\n",
            "F1 Score: 0.6984906251951799\n",
            "Precision: 0.7238337228522056\n",
            "Recall: 0.6970108695652174\n"
          ]
        }
      ],
      "source": [
        "model_2_pca_knn = build_knn_model(X_train_2_pca, y_train_2, 5)\n",
        "\n",
        "y_pred_2_knn = model_2_pca_knn.predict(X_valid_2_pca)\n",
        "\n",
        "evaluate(y_valid_2, y_pred_2_knn)"
      ]
    },
    {
      "cell_type": "code",
      "execution_count": null,
      "metadata": {
        "colab": {
          "base_uri": "https://localhost:8080/"
        },
        "id": "TXwM9lPU-b2e",
        "outputId": "dc63a4ff-e465-4e70-8a4b-4246d63cd558"
      },
      "outputs": [
        {
          "output_type": "stream",
          "name": "stdout",
          "text": [
            "Accuracy: 0.842391304347826\n",
            "F1 Score: 0.8421555370204961\n",
            "Precision: 0.8449675914033853\n",
            "Recall: 0.842391304347826\n"
          ]
        }
      ],
      "source": [
        "model_2_pca_svc = SVC(kernel='rbf', class_weight=\"balanced\")\n",
        "model_2_pca_svc.fit(X_train_2_resampled, y_train_2_resampled)\n",
        "\n",
        "y_pred_2_svc = model_2_pca_svc.predict(X_valid_2)\n",
        "\n",
        "evaluate(y_valid_2, y_pred_2_svc)"
      ]
    },
    {
      "cell_type": "code",
      "source": [
        "model_2_pca_svc_no_resampling = SVC(kernel='rbf', class_weight=\"balanced\")\n",
        "model_2_pca_svc_no_resampling.fit(X_train_2_pca, y_train_2)\n",
        "\n",
        "y_pred_2_svc_no_resampling = model_2_pca_svc_no_resampling.predict(X_valid_2_pca)\n",
        "y_pred_2_svc_no_resampling_test = model_2_pca_svc_no_resampling.predict(X_test_2_pca)\n",
        "\n",
        "evaluate(y_valid_2, y_pred_2_svc_no_resampling)\n",
        "evaluate(y_test_2, y_pred_2_svc_no_resampling_test)"
      ],
      "metadata": {
        "colab": {
          "base_uri": "https://localhost:8080/"
        },
        "id": "VYE0ZOVB9IeL",
        "outputId": "b140957d-f31a-4eb5-df31-7ec107bf6aa1"
      },
      "execution_count": null,
      "outputs": [
        {
          "output_type": "stream",
          "name": "stdout",
          "text": [
            "Accuracy: 0.779891304347826\n",
            "F1 Score: 0.7802772658032329\n",
            "Precision: 0.7848200534617404\n",
            "Recall: 0.779891304347826\n",
            "Accuracy: 0.7876344086021505\n",
            "F1 Score: 0.7866494712345021\n",
            "Precision: 0.7913063290792476\n",
            "Recall: 0.7876344086021505\n"
          ]
        }
      ]
    },
    {
      "cell_type": "markdown",
      "metadata": {
        "id": "l4R5o3lE-b2e"
      },
      "source": [
        "# Hyperparameter tuning for label 2"
      ]
    },
    {
      "cell_type": "code",
      "execution_count": null,
      "metadata": {
        "id": "UagdifSd-b2e",
        "colab": {
          "base_uri": "https://localhost:8080/"
        },
        "outputId": "6d7b65d1-446e-4ecc-d5b9-b53027fa84f9"
      },
      "outputs": [
        {
          "output_type": "stream",
          "name": "stdout",
          "text": [
            "Fitting 5 folds for each of 8 candidates, totalling 40 fits\n",
            "Best Hyperparameters: {'n_neighbors': 3, 'weights': 'distance'}\n",
            "Test Accuracy: 0.6997282608695652\n"
          ]
        }
      ],
      "source": [
        "param_grid_2 = {\n",
        "    'n_neighbors': [3, 5, 7, 9],\n",
        "    'weights': ['uniform', 'distance']\n",
        "}\n",
        "\n",
        "model_2_knn = KNeighborsClassifier()\n",
        "\n",
        "grid_search_2 = GridSearchCV(estimator=model_2_knn, param_grid=param_grid_2, cv=5, verbose=3, n_jobs=-1, scoring='accuracy')\n",
        "\n",
        "grid_search_2.fit(X_train_2_pca, y_train_2)\n",
        "\n",
        "best_params_2 = grid_search_2.best_params_\n",
        "best_model_2 = grid_search_2.best_estimator_\n",
        "\n",
        "valid_accuracy_2 = best_model_2.score(X_valid_2_pca, y_valid_2)\n",
        "\n",
        "# Print the best hyperparameters and test accuracy\n",
        "print(\"Best Hyperparameters:\", best_params_2)\n",
        "print(\"Test Accuracy:\", valid_accuracy_2)\n",
        "#3, distance , 0.892"
      ]
    },
    {
      "cell_type": "code",
      "execution_count": null,
      "metadata": {
        "id": "i6tJa0Fh-b2f",
        "outputId": "b911dc8e-4113-4500-aeb4-34efdde4d752"
      },
      "outputs": [
        {
          "name": "stdout",
          "output_type": "stream",
          "text": [
            "Fitting 5 folds for each of 12 candidates, totalling 60 fits\n"
          ]
        }
      ],
      "source": [
        "param_grid_2_svc = {\n",
        "    'C': [0.1, 1, 10, 100],\n",
        "    'kernel': ['linear', 'rbf', 'poly']\n",
        "}\n",
        "\n",
        "model_2_svc = SVC()\n",
        "\n",
        "grid_search_2_svc = GridSearchCV(estimator=model_2_svc, param_grid=param_grid_2_svc, cv=5, verbose=3, n_jobs=-1, scoring='accuracy')\n",
        "\n",
        "grid_search_2_svc.fit(X_train_2_pca, y_train_2)\n",
        "\n",
        "best_params_2_svc = grid_search_2_svc.best_params_\n",
        "best_model_2_svc = grid_search_2_svc.best_estimator_\n",
        "\n",
        "valid_accuracy_2_svc = best_model_2_svc.score(X_valid_2_pca, y_valid_2)\n",
        "\n",
        "# Print the best hyperparameters and test accuracy\n",
        "print(\"Best Hyperparameters:\", best_params_2_svc)\n",
        "print(\"Test Accuracy:\", valid_accuracy_2_svc)"
      ]
    },
    {
      "cell_type": "markdown",
      "metadata": {
        "id": "z9XVWHIa-b2f"
      },
      "source": [
        "# Predicting label 02"
      ]
    },
    {
      "cell_type": "code",
      "source": [
        "y_pred_2_knn = model_2_pca_knn.predict(X_test_2_pca)\n",
        "output_df_2 = pd.DataFrame({'ID': range(1, len(y_pred_2_knn) + 1), 'label_2': y_pred_2_knn})\n",
        "\n",
        "output_file_path_2 = f\"{WORKING_DIR}/layer_12_2_out_svc_final_knn_pca.csv\"\n",
        "output_df_2.to_csv(output_file_path_2, index=False)\n",
        "print(f'Predictions saved to {output_file_path_2}')"
      ],
      "metadata": {
        "colab": {
          "base_uri": "https://localhost:8080/"
        },
        "id": "niet-Y2bSMnm",
        "outputId": "b1ed6cae-a6d0-48ad-ae6b-98eab0b248a4"
      },
      "execution_count": null,
      "outputs": [
        {
          "output_type": "stream",
          "name": "stdout",
          "text": [
            "Predictions saved to /content/drive/MyDrive/ML/ML project/Layer 12/layer_12_2_out_svc_final_knn_pca.csv\n"
          ]
        }
      ]
    },
    {
      "cell_type": "code",
      "execution_count": null,
      "metadata": {
        "id": "vS66vCYk-b2f",
        "colab": {
          "base_uri": "https://localhost:8080/"
        },
        "outputId": "22c39130-54b0-40d3-bd21-c6e3c4a61ef5"
      },
      "outputs": [
        {
          "output_type": "stream",
          "name": "stdout",
          "text": [
            "Predictions saved to /content/drive/MyDrive/ML/ML project/Layer 12/layer_12_2_out_svc_final_pca_today.csv\n"
          ]
        }
      ],
      "source": [
        "y_pred_2 = model_2_pca_svc.predict(X_test_2)\n",
        "output_df_2 = pd.DataFrame({'ID': range(1, len(y_pred_2) + 1), 'label_2': y_pred_2})\n",
        "\n",
        "output_file_path_2 = f\"{WORKING_DIR}/layer_12_2_out_svc_final_pca_today.csv\"\n",
        "output_df_2.to_csv(output_file_path_2, index=False)\n",
        "print(f'Predictions saved to {output_file_path_2}')"
      ]
    },
    {
      "cell_type": "code",
      "source": [
        "y_pred_train = model_2_pca_svc.predict(X_train_2)\n",
        "output_df_2_train = pd.DataFrame({'ID': range(1, len(y_pred_train) + 1), 'label_2': y_pred_train})\n",
        "\n",
        "output_file_path_2_train = f\"{WORKING_DIR}/layer_12_2_train.csv\"\n",
        "output_df_2_train.to_csv(output_file_path_2_train, index=False)\n",
        "print(f'Predictions saved to {output_file_path_2}')"
      ],
      "metadata": {
        "colab": {
          "base_uri": "https://localhost:8080/"
        },
        "id": "ki7h0vUTJoFy",
        "outputId": "8061231e-b0c7-483e-da8d-b86e13b8a85b"
      },
      "execution_count": null,
      "outputs": [
        {
          "output_type": "stream",
          "name": "stdout",
          "text": [
            "Predictions saved to /content/drive/MyDrive/ML/ML project/Layer 12/layer_12_2_out_svc_final_pca_today.csv\n"
          ]
        }
      ]
    }
  ],
  "metadata": {
    "colab": {
      "provenance": [],
      "include_colab_link": true
    },
    "kernelspec": {
      "display_name": "Python 3",
      "language": "python",
      "name": "python3"
    },
    "language_info": {
      "codemirror_mode": {
        "name": "ipython",
        "version": 3
      },
      "file_extension": ".py",
      "mimetype": "text/x-python",
      "name": "python",
      "nbconvert_exporter": "python",
      "pygments_lexer": "ipython3",
      "version": "3.10.12"
    }
  },
  "nbformat": 4,
  "nbformat_minor": 0
}